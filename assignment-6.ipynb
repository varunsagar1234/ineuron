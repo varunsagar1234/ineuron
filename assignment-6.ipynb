{
  "nbformat": 4,
  "nbformat_minor": 0,
  "metadata": {
    "colab": {
      "provenance": []
    },
    "kernelspec": {
      "name": "python3",
      "display_name": "Python 3"
    },
    "language_info": {
      "name": "python"
    }
  },
  "cells": [
    {
      "cell_type": "markdown",
      "source": [
        "**What are keywords in python? Using the keyword library, print all the python keywords.**\n",
        "\n",
        "Ans)What are keywords in python? Using the keyword library, print all the python keywords."
      ],
      "metadata": {
        "id": "8fRHPtrtFvsj"
      }
    },
    {
      "cell_type": "code",
      "source": [
        "import keyword\n",
        "\n",
        "print(keyword.kwlist)\n"
      ],
      "metadata": {
        "colab": {
          "base_uri": "https://localhost:8080/"
        },
        "id": "LqPGA57kGKH0",
        "outputId": "2bb54639-ffcc-4861-e807-d67a41c9f6a9"
      },
      "execution_count": 1,
      "outputs": [
        {
          "output_type": "stream",
          "name": "stdout",
          "text": [
            "['False', 'None', 'True', 'and', 'as', 'assert', 'async', 'await', 'break', 'class', 'continue', 'def', 'del', 'elif', 'else', 'except', 'finally', 'for', 'from', 'global', 'if', 'import', 'in', 'is', 'lambda', 'nonlocal', 'not', 'or', 'pass', 'raise', 'return', 'try', 'while', 'with', 'yield']\n"
          ]
        }
      ]
    },
    {
      "cell_type": "markdown",
      "source": [
        "**What are the rules to create variables in python?**\n",
        "\n",
        "Ans)In Python, variables are used to store information that can be referenced and manipulated in a program. There are several rules and conventions to follow when naming variables:\n",
        "\n",
        "**Names can start with a letter or an underscore, but cannot start with a number.**\n",
        "\n",
        "my_variable is valid.\n",
        "\n",
        "_private_var is valid (typically denotes a 'private' or 'internal' variable, by convention).\n",
        "\n",
        "fast is invalid.\n",
        "\n",
        "**Variable names can only contain alphanumeric characters and underscores (A-Z, a-z, 0-9, and _).**\n",
        "\n",
        "variable_name is valid.\n",
        "\n",
        "variable-name is invalid because it contains a hyphen.\n",
        "\n",
        "**Names are case-sensitive.**\n",
        "\n",
        "caseSensitive, CASESENSITIVE, and casesensitive are all different variables.\n",
        "\n",
        "**Avoid using Python keywords**\n",
        "\n",
        "For example, try, except, finally, if, etc. are reserved words. Using them as variable names can lead to unexpected behavior.\n",
        "\n",
        "**Python is dynamically-typed.**\n",
        "\n",
        "This means you don't need to declare the variable type when creating it. The type will be determined at runtime based on the assigned value.\n",
        "\n",
        "my_var = 5 (This will be an integer)\n",
        "\n",
        "my_var = \"Hello\" (This will be a string)\n",
        "\n"
      ],
      "metadata": {
        "id": "4fFGV-4TGNZB"
      }
    },
    {
      "cell_type": "markdown",
      "source": [
        " **What are the standards and conventions followed for the nomenclature of variables in\n",
        "python to improve code readability and maintainability?**\n",
        "\n",
        "Ans)\n",
        "In Python, the standards and conventions for the nomenclature of variables (and other identifiers) to enhance code readability and maintainability are primarily outlined in PEP 8, which is the Python Enhancement Proposal that provides coding conventions for the Python code comprising the standard library.\n",
        "\n",
        "Here are the primary naming conventions and guidelines:\n",
        "\n",
        "**General:**\n",
        "\n",
        "Use clear and descriptive names to improve readability.\n",
        "Avoid using names that are too verbose or too short unless their meaning is obvious in the context.\n",
        "\n",
        "**Variables:**\n",
        "\n",
        "Use snake_case for regular variable names.\n",
        "\n",
        "user_input = input(\"Enter your name: \")\n",
        "\n",
        "word_list = [\"apple\", \"banana\", \"cherry\"]\n",
        "\n",
        "**Constants:**\n",
        "\n",
        "Use UPPER_CASE_WITH_UNDERSCORES for constants.\n",
        "\n",
        "\n",
        "PI = 3.14159\n",
        "\n",
        "MAX_SIZE = 100"
      ],
      "metadata": {
        "id": "pQNySHNQHCAd"
      }
    },
    {
      "cell_type": "markdown",
      "source": [
        "**What will happen if a keyword is used as a variable name?**\n",
        "\n",
        "Ans)f you try to use a keyword as a variable name in Python, you'll get a syntax error, and the program will not run.This error occurs because keywords in Python are reserved words; they have a special meaning and play a specific role in the language. Using them as variable names would confuse the Python interpreter and result in undefined behavior, so Python prevents this by raising a syntax error."
      ],
      "metadata": {
        "id": "32Jmku4OHkCw"
      }
    },
    {
      "cell_type": "code",
      "source": [
        "if = 10\n"
      ],
      "metadata": {
        "colab": {
          "base_uri": "https://localhost:8080/",
          "height": 141
        },
        "id": "aEN7TEKaHzLF",
        "outputId": "f8fa3209-fb4b-4c86-d242-25f1b4fdbe29"
      },
      "execution_count": 2,
      "outputs": [
        {
          "output_type": "error",
          "ename": "SyntaxError",
          "evalue": "ignored",
          "traceback": [
            "\u001b[0;36m  File \u001b[0;32m\"<ipython-input-2-563084b3e606>\"\u001b[0;36m, line \u001b[0;32m1\u001b[0m\n\u001b[0;31m    if = 10\u001b[0m\n\u001b[0m       ^\u001b[0m\n\u001b[0;31mSyntaxError\u001b[0m\u001b[0;31m:\u001b[0m invalid syntax\n"
          ]
        }
      ]
    },
    {
      "cell_type": "markdown",
      "source": [
        "**For what purpose def keyword is used?**\n",
        "\n",
        "Ans)\n",
        "The def keyword in Python is used for defining functions. Functions are blocks of reusable code that perform a specific task. By using the def keyword, you can create custom functions.\n",
        "\n",
        "Here's a basic structure of a function definition using the def keyword:\n",
        "\n",
        "\n",
        "def function_name(parameters):\n",
        "    # function body\n",
        "    # ...\n",
        "    return result  # optional return statement"
      ],
      "metadata": {
        "id": "tOKdl5vvH41K"
      }
    },
    {
      "cell_type": "code",
      "source": [
        "def add_numbers(a, b):\n",
        "    return a + b\n",
        "\n",
        "result = add_numbers(5, 3)  # Call the function and store the result in the 'result' variable\n",
        "print(result)  # This will print 8\n"
      ],
      "metadata": {
        "colab": {
          "base_uri": "https://localhost:8080/"
        },
        "id": "89JEOzCNIEmG",
        "outputId": "dae50c0d-87f4-4e72-8481-76923002165d"
      },
      "execution_count": 3,
      "outputs": [
        {
          "output_type": "stream",
          "name": "stdout",
          "text": [
            "8\n"
          ]
        }
      ]
    },
    {
      "cell_type": "markdown",
      "source": [
        "**What is the operation of this special character ‘\\’?**\n",
        "\n",
        "Ans)The backslash \\ character in Python has a couple of special roles:\n",
        "\n",
        "**Escape Character**: Within strings, the backslash \\ is used as an escape character. This means that it alters the meaning of the character following it.\n",
        "\n",
        "Line Continuation: Outside of strings, a backslash can be used at the end of a line to indicate that the line should continue, effectively allowing a single logical line of code to span multiple lines in the source code. This is especially useful when you have a long line of code and want to break it up for better readability."
      ],
      "metadata": {
        "id": "tpsmxKV_IOEs"
      }
    },
    {
      "cell_type": "code",
      "source": [
        "print(\"he said, \\\"Hello!\\\"\")\n"
      ],
      "metadata": {
        "colab": {
          "base_uri": "https://localhost:8080/"
        },
        "id": "Sz1LFJy8Im1X",
        "outputId": "366dbdd3-d1cf-43f1-edec-ec1032e03d43"
      },
      "execution_count": 5,
      "outputs": [
        {
          "output_type": "stream",
          "name": "stdout",
          "text": [
            "he said, \"Hello!\"\n"
          ]
        }
      ]
    },
    {
      "cell_type": "markdown",
      "source": [
        "**Give an example of the following conditions:**\n",
        "\n",
        "(i) **Homogeneous list**\n",
        "\n",
        "(ii) **Heterogeneous set**\n",
        "\n",
        "(iii) **homogeneous tuple**\n",
        "\n",
        "Ans)\n",
        "\n",
        "**Homogeneous List:**\n",
        "A homogeneous list contains elements of the same type.\n",
        "\n",
        "**Heterogeneous Set:**\n",
        "A heterogeneous set contains elements of different types.\n",
        "\n",
        "**Homogeneous Tuple:**\n",
        "A homogeneous tuple contains elements of the same type."
      ],
      "metadata": {
        "id": "tq6U8_4OIt5q"
      }
    },
    {
      "cell_type": "code",
      "source": [
        "#Homogeneous List:\n",
        "\n",
        "# All elements are integers\n",
        "int_list = [1, 2, 3, 4, 5]\n",
        "#Heterogeneous Set:\n",
        "# Contains an integer, a string, and a float\n",
        "hetero_set = {42, \"apple\", 3.14}\n",
        "#Homogeneous Tuple:\n",
        "# All elements are strings\n",
        "string_tuple = (\"apple\", \"banana\", \"cherry\")\n",
        "print(int_list)\n",
        "print(hetero_set)\n",
        "print(string_tuple)"
      ],
      "metadata": {
        "colab": {
          "base_uri": "https://localhost:8080/"
        },
        "id": "5X4pZBwAJcLe",
        "outputId": "b6174990-7250-422e-b272-68c70f86d9e7"
      },
      "execution_count": 7,
      "outputs": [
        {
          "output_type": "stream",
          "name": "stdout",
          "text": [
            "[1, 2, 3, 4, 5]\n",
            "{42, 3.14, 'apple'}\n",
            "('apple', 'banana', 'cherry')\n"
          ]
        }
      ]
    },
    {
      "cell_type": "markdown",
      "source": [
        "**Explain the mutable and immutable data types with proper explanation & examples.**\n",
        "\n",
        "Ans)In Python, data types can be broadly categorized into two categories based on their ability to change:\n",
        "\n",
        "**Mutable Data Types**: These are types where the content (or state) can be changed after the data structure is created.\n",
        "\n",
        "**Immutable Data Types**: These are types where the content cannot be changed once the data structure is created."
      ],
      "metadata": {
        "id": "XghUc_cDJ112"
      }
    },
    {
      "cell_type": "code",
      "source": [
        "#Mutable Data Types\n",
        "#list\n",
        "fruits = [\"apple\", \"banana\", \"cherry\"]\n",
        "fruits[1] = \"blueberry\"  # Change the second item\n",
        "#dictionary\n",
        "person = {\"name\": \"John\", \"age\": 25}\n",
        "person[\"age\"] = 30  # Update the value associated with the key \"age\"\n",
        "#sets\n",
        "animals = {\"cat\", \"dog\", \"elephant\"}\n",
        "animals.add(\"fish\")  # Add an element to the set\n"
      ],
      "metadata": {
        "id": "FzO1kbJpKDPG"
      },
      "execution_count": 9,
      "outputs": []
    },
    {
      "cell_type": "code",
      "source": [
        "#Immutable Data Types:\n",
        "#Integers:\n",
        "x = 5\n",
        "#Floats:\n",
        "y=5.31\n",
        "#Strings:\n",
        "s=\"hello\"\n",
        "#Booleans\n",
        "a=True"
      ],
      "metadata": {
        "id": "z1mVtkpIKLrp"
      },
      "execution_count": 13,
      "outputs": []
    },
    {
      "cell_type": "markdown",
      "source": [
        "Write a code to create the given structure using only for loop."
      ],
      "metadata": {
        "id": "sISB-BjLK6Sk"
      }
    },
    {
      "cell_type": "code",
      "source": [
        "n = 5  # Number of rows\n",
        "\n",
        "for i in range(1, n + 1):\n",
        "    # print spaces\n",
        "    for j in range(n - i):\n",
        "        print(\" \", end=\"\")\n",
        "    # print asterisks\n",
        "    for k in range(2 * i - 1):\n",
        "        print(\"*\", end=\"\")\n",
        "    print()  # Move to the next line after each row\n"
      ],
      "metadata": {
        "colab": {
          "base_uri": "https://localhost:8080/"
        },
        "id": "hIsTgOMvLdi4",
        "outputId": "eadc9a1c-ce77-4b27-be3d-7a05cf1ea185"
      },
      "execution_count": 14,
      "outputs": [
        {
          "output_type": "stream",
          "name": "stdout",
          "text": [
            "    *\n",
            "   ***\n",
            "  *****\n",
            " *******\n",
            "*********\n"
          ]
        }
      ]
    },
    {
      "cell_type": "markdown",
      "source": [
        "**Write a code to create the given structure using while loop.**"
      ],
      "metadata": {
        "id": "rHRGbMz2LpEZ"
      }
    },
    {
      "cell_type": "code",
      "source": [
        "n = 5  # Number of rows\n",
        "\n",
        "for i in range(n, 0, -1):\n",
        "    # print spaces\n",
        "    for j in range(n - i):\n",
        "        print(\" \", end=\"\")\n",
        "    # print asterisks\n",
        "    for k in range(2 * i - 1):\n",
        "        print(\"|\", end=\"\")\n",
        "    print()  # Move to the next line after each row\n"
      ],
      "metadata": {
        "colab": {
          "base_uri": "https://localhost:8080/"
        },
        "id": "H42dXpcEL3G-",
        "outputId": "c3b1d00a-d280-45a1-833e-95d6c85ab070"
      },
      "execution_count": 16,
      "outputs": [
        {
          "output_type": "stream",
          "name": "stdout",
          "text": [
            "|||||||||\n",
            " |||||||\n",
            "  |||||\n",
            "   |||\n",
            "    |\n"
          ]
        }
      ]
    },
    {
      "cell_type": "code",
      "source": [],
      "metadata": {
        "id": "okCNFyW4L3Z8"
      },
      "execution_count": null,
      "outputs": []
    }
  ]
}