{
  "nbformat": 4,
  "nbformat_minor": 0,
  "metadata": {
    "colab": {
      "provenance": []
    },
    "kernelspec": {
      "name": "python3",
      "display_name": "Python 3"
    },
    "language_info": {
      "name": "python"
    }
  },
  "cells": [
    {
      "cell_type": "markdown",
      "source": [
        "**What does an empty dictionary&#39;s code look like?**\n",
        "\n",
        "Ans)\n",
        "An empty dictionary in Python is represented by a pair of curly braces {} with nothing between them.\n",
        "\n",
        "empty_dict = {}\n",
        "\n",
        "This creates an empty dictionary named empty_dict. You can then add key-value pairs to it as needed.\n"
      ],
      "metadata": {
        "id": "GFOdsUzagEqn"
      }
    },
    {
      "cell_type": "code",
      "source": [
        "emptyDict = {}\n",
        "print(emptyDict)\n",
        "print(\"Length:\", len(emptyDict))\n",
        "print(type(emptyDict))"
      ],
      "metadata": {
        "colab": {
          "base_uri": "https://localhost:8080/"
        },
        "id": "kroU57Hj_yNi",
        "outputId": "ef633201-4791-4395-ff05-ca51ae6a004b"
      },
      "execution_count": 2,
      "outputs": [
        {
          "output_type": "stream",
          "name": "stdout",
          "text": [
            "{}\n",
            "Length: 0\n",
            "<class 'dict'>\n"
          ]
        }
      ]
    },
    {
      "cell_type": "markdown",
      "source": [
        "**What is the value of a dictionary value with the key &#39;foo&#39; and the value 42?**\n",
        "\n",
        "Ans){'foo':42}"
      ],
      "metadata": {
        "id": "Q2QIkHEC_8wa"
      }
    },
    {
      "cell_type": "code",
      "source": [
        "d={'foo':42}\n",
        "print(d.keys())\n",
        "print(d.values())\n",
        "print(d.items())"
      ],
      "metadata": {
        "colab": {
          "base_uri": "https://localhost:8080/"
        },
        "id": "8Zk984o3ACuZ",
        "outputId": "960ffe91-a7f6-42af-83ba-fe4e438f64f9"
      },
      "execution_count": 5,
      "outputs": [
        {
          "output_type": "stream",
          "name": "stdout",
          "text": [
            "dict_keys(['foo'])\n",
            "dict_values([42])\n",
            "dict_items([('foo', 42)])\n"
          ]
        }
      ]
    },
    {
      "cell_type": "markdown",
      "source": [
        "**What is the most significant distinction between a dictionary and a list?**\n",
        "\n",
        "Ans)\n",
        "The most significant distinction between a dictionary and a list in Python is the way they are indexed and organized:\n",
        "\n",
        "**Indexing**:\n",
        "\n",
        "**Dictionary**:\n",
        "\n",
        "Dictionaries are indexed by keys, which can be of any immutable type, such as strings, numbers, or tuples.\n",
        "Each key maps to a value, creating a key-value pair.\n",
        "Keys in a dictionary must be unique.\n",
        "\n",
        "**List:**\n",
        "Lists are indexed by integers, starting from 0 for the first element and increasing by 1 for each subsequent element.\n",
        "The index in a list refers to a position, not a key.\n",
        "\n",
        "**Order:**\n",
        "\n",
        "**Dictionary:**\n",
        "Dictionaries did not guarantee order. This means that the order in which key-value pairs were added might not be the order in which they were iterated.\n",
        "\n",
        "**List:**\n",
        "\n",
        "Lists maintain the order of the elements.\n",
        "\n",
        "**Syntax:**\n",
        "\n",
        "**Dictionary:**\n",
        "\n",
        "Defined by curly braces {} and uses a key: value format.\n",
        "\n",
        "**List:**\n",
        "\n",
        "Defined by square brackets []."
      ],
      "metadata": {
        "id": "7UIk0_OWAMki"
      }
    },
    {
      "cell_type": "code",
      "source": [
        "Dict = {1: 'varun', 2: 'sagar', 3: 'jukanti'}\n",
        "print(\"Dictionary with the use of Integer Keys: \")\n",
        "print(Dict.keys())\n",
        "print(Dict.values())\n",
        "print(Dict.items())\n",
        "\n",
        "#List\n",
        "List = [\"Sharva\", \"Nikki\", \"ABC\"]\n",
        "print(\"List containing multiple values: \")\n",
        "print(List[0])\n",
        "print(List[2])"
      ],
      "metadata": {
        "colab": {
          "base_uri": "https://localhost:8080/"
        },
        "id": "oivRCxTlA8bD",
        "outputId": "afc25514-961a-4d43-b03c-3f0f1ede2ae2"
      },
      "execution_count": 6,
      "outputs": [
        {
          "output_type": "stream",
          "name": "stdout",
          "text": [
            "Dictionary with the use of Integer Keys: \n",
            "dict_keys([1, 2, 3])\n",
            "dict_values(['varun', 'sagar', 'jukanti'])\n",
            "dict_items([(1, 'varun'), (2, 'sagar'), (3, 'jukanti')])\n",
            "List containing multiple values: \n",
            "Sharva\n",
            "ABC\n"
          ]
        }
      ]
    },
    {
      "cell_type": "markdown",
      "source": [
        "**What happens if you try to access spam ['foo'] if spam is {'bar':100} ?**\n",
        "\n",
        "Ans)we will get a keyError KeyError: 'foo' because we have'nt any keys named 'foo' in the dictinory"
      ],
      "metadata": {
        "id": "DaQeyVPuBJkp"
      }
    },
    {
      "cell_type": "code",
      "source": [
        "spam = {'bar': 100}\n",
        "spam ['foo']"
      ],
      "metadata": {
        "colab": {
          "base_uri": "https://localhost:8080/",
          "height": 193
        },
        "id": "tuqGu8QpBRu4",
        "outputId": "471afbee-085c-4a85-83f7-67aff5431947"
      },
      "execution_count": 7,
      "outputs": [
        {
          "output_type": "error",
          "ename": "KeyError",
          "evalue": "ignored",
          "traceback": [
            "\u001b[0;31m---------------------------------------------------------------------------\u001b[0m",
            "\u001b[0;31mKeyError\u001b[0m                                  Traceback (most recent call last)",
            "\u001b[0;32m<ipython-input-7-642d3309ed9c>\u001b[0m in \u001b[0;36m<cell line: 2>\u001b[0;34m()\u001b[0m\n\u001b[1;32m      1\u001b[0m \u001b[0mspam\u001b[0m \u001b[0;34m=\u001b[0m \u001b[0;34m{\u001b[0m\u001b[0;34m'bar'\u001b[0m\u001b[0;34m:\u001b[0m \u001b[0;36m100\u001b[0m\u001b[0;34m}\u001b[0m\u001b[0;34m\u001b[0m\u001b[0;34m\u001b[0m\u001b[0m\n\u001b[0;32m----> 2\u001b[0;31m \u001b[0mspam\u001b[0m \u001b[0;34m[\u001b[0m\u001b[0;34m'foo'\u001b[0m\u001b[0;34m]\u001b[0m\u001b[0;34m\u001b[0m\u001b[0;34m\u001b[0m\u001b[0m\n\u001b[0m",
            "\u001b[0;31mKeyError\u001b[0m: 'foo'"
          ]
        }
      ]
    },
    {
      "cell_type": "markdown",
      "source": [
        "**if a dictionary is stored in spam,what is the difference between the expressions 'cat' in spam and 'cat' in spam.keys() ?**\n",
        "\n",
        "Ans)If a dictionary is stored in the variable spam, both 'cat' in spam and 'cat' in spam.keys() check for the presence of 'cat' as a key in the dictionary. In essence, they are functionally equivalent.\n",
        "\n",
        "**'cat' in spam:**\n",
        "\n",
        "This checks if 'cat' is one of the keys in the spam dictionary. In Python, when you use the in keyword directly with a dictionary, it checks against the dictionary's keys by default.\n",
        "\n",
        "**'cat' in spam.keys():**\n",
        "\n",
        "This explicitly checks if 'cat' is in the list of keys returned by the spam.keys() method."
      ],
      "metadata": {
        "id": "3bk5cB1LBl94"
      }
    },
    {
      "cell_type": "markdown",
      "source": [
        "**if a dictionary is stored in spam,what is the difference between the expressions 'cat' in spam and 'cat' in spam.values() ?**\n",
        "\n",
        "Ans)\n",
        "If a dictionary is stored in the variable spam, the expressions 'cat' in spam and 'cat' in spam.values() serve different purposes:\n",
        "\n",
        "**'cat' in spam:**\n",
        "\n",
        "This checks if 'cat' is one of the keys in the spam dictionary. When you use the in keyword directly with a dictionary, it checks against the dictionary's keys by default.\n",
        "\n",
        "**'cat' in spam.values():**\n",
        "\n",
        "This checks if 'cat' is one of the values in the spam dictionary. The spam.values() method returns a view of all the values in the dictionary, and the in keyword checks if 'cat' is among those values."
      ],
      "metadata": {
        "id": "O8tCzo2xCB40"
      }
    },
    {
      "cell_type": "markdown",
      "source": [
        "**What is a shortcut for the following code?**\n",
        "\n",
        "**if &#39;color&#39; not in spam:**\n",
        "\n",
        "**spam[&#39;color&#39;] = &#39;black&#39;**\n",
        "\n",
        "Ans)You can use the setdefault method of dictionaries to achieve the same functionality in a more concise manner. Here's how you can use it as a shortcut for the provided code:\n",
        "\n",
        "**spam.setdefault('color', 'black')**\n",
        "\n"
      ],
      "metadata": {
        "id": "ZCvhd-wiCe5X"
      }
    },
    {
      "cell_type": "code",
      "source": [
        "if 'color' not in spam: spam['color'] ='black'\n",
        "\n",
        "spam.setdefault('color','black')"
      ],
      "metadata": {
        "colab": {
          "base_uri": "https://localhost:8080/",
          "height": 35
        },
        "id": "Z2UITLVZDEYn",
        "outputId": "d69bd3e5-b3c1-48bb-9c48-e202152932d8"
      },
      "execution_count": 8,
      "outputs": [
        {
          "output_type": "execute_result",
          "data": {
            "text/plain": [
              "'black'"
            ],
            "application/vnd.google.colaboratory.intrinsic+json": {
              "type": "string"
            }
          },
          "metadata": {},
          "execution_count": 8
        }
      ]
    },
    {
      "cell_type": "markdown",
      "source": [
        "**How do you 'pretty print' dictionary values using which modules and function ?**\n",
        "\n",
        "Ans)To \"pretty print\" dictionary values in Python, you can use the pprint module. Specifically, the pprint function from this module can be used to display Python data structures like dictionaries in a more readable format."
      ],
      "metadata": {
        "id": "6h61_qbuDH_Y"
      }
    },
    {
      "cell_type": "code",
      "source": [
        "from pprint import pprint\n",
        "\n",
        "data = {\n",
        "    'name': 'John Doe',\n",
        "    'age': 30,\n",
        "    'address': {\n",
        "        'street': '123 Elm St',\n",
        "        'city': 'Somewhere',\n",
        "        'state': 'CA',\n",
        "        'zipcode': '90000'\n",
        "    },\n",
        "    'hobbies': ['reading', 'hiking', 'cycling']\n",
        "}\n",
        "\n",
        "pprint(data)\n"
      ],
      "metadata": {
        "colab": {
          "base_uri": "https://localhost:8080/"
        },
        "id": "GBeyqhlLDY8p",
        "outputId": "0ced4a8e-6a5a-4739-ab82-06694d3cf9ff"
      },
      "execution_count": 9,
      "outputs": [
        {
          "output_type": "stream",
          "name": "stdout",
          "text": [
            "{'address': {'city': 'Somewhere',\n",
            "             'state': 'CA',\n",
            "             'street': '123 Elm St',\n",
            "             'zipcode': '90000'},\n",
            " 'age': 30,\n",
            " 'hobbies': ['reading', 'hiking', 'cycling'],\n",
            " 'name': 'John Doe'}\n"
          ]
        }
      ]
    }
  ]
}