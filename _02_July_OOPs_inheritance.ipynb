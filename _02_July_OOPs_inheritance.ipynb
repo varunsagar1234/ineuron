{
  "nbformat": 4,
  "nbformat_minor": 0,
  "metadata": {
    "colab": {
      "provenance": []
    },
    "kernelspec": {
      "name": "python3",
      "display_name": "Python 3"
    },
    "language_info": {
      "name": "python"
    }
  },
  "cells": [
    {
      "cell_type": "markdown",
      "source": [
        "**Explain what inheritance is in object-oriented programming and why it is used.**\n",
        "\n",
        "Ans)\n",
        "Inheritance is one of the four fundamental principles of object-oriented programming (OOP), the other three being encapsulation, polymorphism, and abstraction. Inheritance allows a class (the \"subclass\" or \"derived class\") to inherit attributes and behaviors (i.e., fields and methods) from another class (the \"superclass\" or \"base class\").\n",
        "\n",
        "**Base Class (Superclass)**: The class whose properties and methods are inherited by another class.\n",
        "\n",
        "**Derived Class (Subclass)**: The class that inherits the properties and methods from another class.\n",
        "\n",
        "Why Use Inheritance?\n",
        "\n",
        "Instead of rewriting the same code again in a new class, a class can inherit properties and methods from another class. This allows for the \"don't repeat yourself\" (DRY) principle, making the code more maintainable.A derived class can extend or override functionalities of the base class, which allows for creating extended functionalities without modifying the existing code in the base class.It helps in establishing a natural classification among objects. For example, if you have a base class Vehicle, you can have derived classes like Car, Bike, or Truck, all inheriting from Vehicle."
      ],
      "metadata": {
        "id": "vFrZb8QipG9I"
      }
    },
    {
      "cell_type": "markdown",
      "source": [
        "**Discuss the concept of single inheritance and multiple inheritance, highlighting their\n",
        "differences and advantages.**\n",
        "\n",
        "Ans)\n",
        "In object-oriented programming, inheritance allows a class to be derived from another class, inheriting its attributes and behaviors. Depending on the programming paradigm and language, a class may inherit from one class (single inheritance) or multiple classes (multiple inheritance). Let's dive into the details of both concepts:\n",
        "\n",
        "**Single Inheritance:**\n",
        "\n",
        "In single inheritance, a class can inherit from only one superclass. Most object-oriented programming languages, such as Java and C#, support single inheritance.\n",
        "\n",
        "**Advantages:**\n",
        "\n",
        "Single inheritance is easier to understand and use, especially for beginners. There's a clear parent-child relationship between the base class and derived class.\n",
        "\n",
        "The code structure remains more manageable, and tracing method calls or attribute access is more straightforward.\n",
        "\n",
        "There's no confusion about where a particular method or attribute comes from since there's only one possible source: the parent class.\n",
        "\n",
        "**Multiple Inheritance:**\n",
        "\n",
        "In multiple inheritance, a class can inherit from more than one superclass. C++ and Python are examples of languages that support multiple inheritance.\n",
        "\n",
        "**Advantages:**\n",
        "\n",
        "Multiple inheritance allows a class to combine attributes and behaviors from multiple sources, potentially leading to a richer and more diverse derived class.\n",
        "\n",
        "Instead of creating long chains of class hierarchies to inherit from multiple sources, a class can directly inherit from all necessary superclasses.\n",
        "\n",
        "Allows for creating sophisticated relationships and behaviors by combining different classes.\n",
        "\n",
        "\n",
        "**Differences:**\n",
        "\n",
        "**Inheritance Source:**\n",
        "\n",
        "Single Inheritance: One superclass.\n",
        "\n",
        "Multiple Inheritance: Multiple superclasses.\n",
        "\n",
        "**Complexity:**\n",
        "\n",
        "Single Inheritance: Generally simpler with less potential for ambiguity.\n",
        "\n",
        "Multiple Inheritance: Can lead to complex structures and the \"diamond problem\" (a situation where a particular class inherits the same base class from multiple paths).\n",
        "\n",
        "**Use Cases:**\n",
        "\n",
        "Single Inheritance: Preferred when there's a clear linear relationship between classes.\n",
        "\n",
        "Multiple Inheritance: Useful in situations where a class genuinely needs to exhibit behaviors from multiple unrelated classes.\n",
        "\n",
        "**Language Support:**\n",
        "\n",
        "Single Inheritance: Supported in languages like Java, C#, etc.\n",
        "\n",
        "Multiple Inheritance: Supported in languages like C++ and Python."
      ],
      "metadata": {
        "id": "olEVQhbuqc2U"
      }
    },
    {
      "cell_type": "markdown",
      "source": [
        "**Explain the terms \"base class\" and \"derived class\" in the context of inheritance.**\n",
        "\n",
        "Ans)\n",
        "\n",
        "**Base Class (also known as Parent Class or Superclass):**\n",
        "\n",
        "This is the class from which other classes inherit properties and methods. It acts as a general category or blueprint from which more specific classes can be created.\n",
        "The base class typically provides common attributes and behaviors (fields and methods) that can be reused by the classes that inherit from it.\n",
        "\n",
        "**Derived Class (also known as Child Class or Subclass):**\n",
        "\n",
        "This is the class that inherits properties and methods from another class (i.e., the base class).\n",
        "A derived class can reuse (or inherit) code from the base class, but it can also introduce new attributes and behaviors or override the inherited ones.\n",
        "\n",
        "\n",
        "The base class provides a foundation – a set of attributes and behaviors that are common to multiple classes.\n",
        "\n",
        "The derived class builds upon this foundation, either by adding new functionalities, refining existing ones, or both."
      ],
      "metadata": {
        "id": "n8cL8SosrUDt"
      }
    },
    {
      "cell_type": "code",
      "source": [
        "# Base Class: Vehicle\n",
        "class Vehicle:\n",
        "    def __init__(self, color, weight):\n",
        "        self.color = color\n",
        "        self.weight = weight\n",
        "\n",
        "    def start(self):\n",
        "        return \"Vehicle started.\"\n",
        "\n",
        "    def stop(self):\n",
        "        return \"Vehicle stopped.\"\n",
        "\n",
        "# Derived Class: Car\n",
        "class Car(Vehicle):\n",
        "    def __init__(self, color, weight, number_of_doors):\n",
        "        super().__init__(color, weight)\n",
        "        self.number_of_doors = number_of_doors\n",
        "\n",
        "    def play_radio(self):\n",
        "        return \"Playing radio.\"\n",
        "\n",
        "    # Overriding the start method of the base class\n",
        "    def start(self):\n",
        "        return \"Car engine started.\"\n",
        "\n",
        "# Using the classes\n",
        "vehicle = Vehicle(\"Red\", 1000)\n",
        "print(vehicle.start())  # Output: Vehicle started.\n",
        "\n",
        "car = Car(\"Blue\", 1500, 4)\n",
        "print(car.start())        # Output: Car engine started.\n",
        "print(car.play_radio())   # Output: Playing radio.\n",
        "print(car.stop())         # Output: Vehicle stopped.\n"
      ],
      "metadata": {
        "colab": {
          "base_uri": "https://localhost:8080/"
        },
        "id": "91UcxtHxrcaP",
        "outputId": "ca9d0ee1-bbb6-4728-cf12-f489d100268b"
      },
      "execution_count": 1,
      "outputs": [
        {
          "output_type": "stream",
          "name": "stdout",
          "text": [
            "Vehicle started.\n",
            "Car engine started.\n",
            "Playing radio.\n",
            "Vehicle stopped.\n"
          ]
        }
      ]
    },
    {
      "cell_type": "markdown",
      "source": [
        "**What is the significance of the \"protected\" access modifier in inheritance? How does it differ from \"private\" and \"public\" modifiers?**\n",
        "\n",
        "Ans)\n",
        "\n",
        "In object-oriented programming, access modifiers determine the visibility and accessibility of class members (attributes and methods). This controls how and from where these members can be accessed, offering a mechanism for encapsulation.\n",
        "\n",
        "Here's an overview of public, private, and protected access modifiers, with a focus on their significance in the context of inheritance:\n",
        "\n",
        "**Public:**\n",
        "\n",
        "Members declared as public are accessible from any part of the program.\n",
        "They are also accessible in derived classes and can be accessed using an object of the derived class.\n",
        "Generally, attributes should not be made public to maintain encapsulation, unless there's a good reason to do so.\n",
        "\n",
        "**Private:**\n",
        "\n",
        "Members declared as private are only accessible within the same class and are not accessible by any outside class, including derived classes.\n",
        "In languages like Java and C++, private members are strictly inaccessible from derived classes.\n",
        "In Python, private members are indicated with a prefix of double underscores (e.g., __attributeName). While this doesn't make them strictly inaccessible (more of a naming convention), it does make them less accessible by renaming them in a way that indicates they're meant to be private."
      ],
      "metadata": {
        "id": "2zZ_avAAruGZ"
      }
    },
    {
      "cell_type": "markdown",
      "source": [
        "**What is the purpose of the \"super\" keyword in inheritance? Provide an example.**\n",
        "\n",
        "Ans)\n",
        "The super keyword is used in object-oriented programming to refer to the parent or superclass. Its primary purposes in the context of inheritance are:\n",
        "\n",
        "**Invoke the parent class method:** It's common to override a method in the derived class that already exists in the base class. Using super, you can call the method in the parent class without referring to the parent class by name.\n",
        "\n",
        "**Access the parent class constructor:** In many cases, when defining the constructor for a derived class, you might want to first execute the constructor of the base class to ensure proper initialization. The super keyword allows you to do this.\n"
      ],
      "metadata": {
        "id": "layLyvLWsCy0"
      }
    },
    {
      "cell_type": "code",
      "source": [
        "class Parent:\n",
        "    def __init__(self, name):\n",
        "        self.name = name\n",
        "        print(f\"Parent's __init__ called with name: {self.name}\")\n",
        "\n",
        "    def method(self):\n",
        "        print(\"This is a method from the Parent class.\")\n",
        "\n",
        "class Child(Parent):\n",
        "    def __init__(self, name, age):\n",
        "        super().__init__(name)  # Calling the parent's constructor using super\n",
        "        self.age = age\n",
        "        print(f\"Child's __init__ called with age: {self.age}\")\n",
        "\n",
        "    def method(self):\n",
        "        super().method()  # Calling the parent's method using super\n",
        "        print(\"This is a method from the Child class.\")\n",
        "\n",
        "# Testing\n",
        "c = Child(\"Alice\", 10)\n",
        "c.method()"
      ],
      "metadata": {
        "colab": {
          "base_uri": "https://localhost:8080/"
        },
        "id": "jyBzqznQsQAo",
        "outputId": "cbca22df-3859-46f6-e23e-6490fabf9163"
      },
      "execution_count": 3,
      "outputs": [
        {
          "output_type": "stream",
          "name": "stdout",
          "text": [
            "Parent's __init__ called with name: Alice\n",
            "Child's __init__ called with age: 10\n",
            "This is a method from the Parent class.\n",
            "This is a method from the Child class.\n"
          ]
        }
      ]
    },
    {
      "cell_type": "markdown",
      "source": [
        "**Create a base class called \"Vehicle\" with attributes like \"make\", \"model\", and \"year\".\n",
        "Then, create a derived class called \"Car\" that inherits from \"Vehicle\" and adds an\n",
        "attribute called \"fuel_type\". Implement appropriate methods in both classes.**"
      ],
      "metadata": {
        "id": "pkQp8mdgsdKC"
      }
    },
    {
      "cell_type": "code",
      "source": [
        "# Base class: Vehicle\n",
        "class Vehicle:\n",
        "    def __init__(self, make, model, year):\n",
        "        self.make = make\n",
        "        self.model = model\n",
        "        self.year = year\n",
        "\n",
        "    def display_info(self):\n",
        "        return f\"{self.year} {self.make} {self.model}\"\n",
        "\n",
        "# Derived class: Car\n",
        "class Car(Vehicle):\n",
        "    def __init__(self, make, model, year, fuel_type):\n",
        "        super().__init__(make, model, year)  # Initialize attributes from the parent class using super\n",
        "        self.fuel_type = fuel_type\n",
        "\n",
        "    def display_info(self):\n",
        "        vehicle_info = super().display_info()  # Retrieve the display info from the parent class using super\n",
        "        return f\"{vehicle_info}, Fuel Type: {self.fuel_type}\"\n",
        "\n",
        "# Testing\n",
        "car1 = Car(\"Toyota\", \"Camry\", 2022, \"Hybrid\")\n",
        "print(car1.display_info())  # Outputs: 2022 Toyota Camry, Fuel Type: Hybrid\n"
      ],
      "metadata": {
        "colab": {
          "base_uri": "https://localhost:8080/"
        },
        "id": "ATjav2sCsgDk",
        "outputId": "c60246da-bba3-4876-f266-3aab795b2024"
      },
      "execution_count": 4,
      "outputs": [
        {
          "output_type": "stream",
          "name": "stdout",
          "text": [
            "2022 Toyota Camry, Fuel Type: Hybrid\n"
          ]
        }
      ]
    },
    {
      "cell_type": "markdown",
      "source": [
        "**Create a base class called \"Employee\" with attributes like \"name\" and \"salary.\"\n",
        "Derive two classes, \"Manager\" and \"Developer,\" from \"Employee.\" Add an additional\n",
        "attribute called \"department\" for the \"Manager\" class and \"programming_language\"\n",
        "for the \"Developer\" class.**"
      ],
      "metadata": {
        "id": "wPcV5aqnsrwH"
      }
    },
    {
      "cell_type": "code",
      "source": [
        "# Base class: Employee\n",
        "class Employee:\n",
        "    def __init__(self, name, salary):\n",
        "        self.name = name\n",
        "        self.salary = salary\n",
        "\n",
        "    def display_info(self):\n",
        "        return f\"Name: {self.name}, Salary: {self.salary}\"\n",
        "\n",
        "# Derived class: Manager\n",
        "class Manager(Employee):\n",
        "    def __init__(self, name, salary, department):\n",
        "        super().__init__(name, salary)  # Initialize attributes from the parent class using super\n",
        "        self.department = department\n",
        "\n",
        "    def display_info(self):\n",
        "        employee_info = super().display_info()  # Retrieve the basic info from the parent class using super\n",
        "        return f\"{employee_info}, Department: {self.department}\"\n",
        "\n",
        "# Derived class: Developer\n",
        "class Developer(Employee):\n",
        "    def __init__(self, name, salary, programming_language):\n",
        "        super().__init__(name, salary)  # Initialize attributes from the parent class using super\n",
        "        self.programming_language = programming_language\n",
        "\n",
        "    def display_info(self):\n",
        "        employee_info = super().display_info()  # Retrieve the basic info from the parent class using super\n",
        "        return f\"{employee_info}, Programming Language: {self.programming_language}\"\n",
        "\n",
        "# Testing\n",
        "manager = Manager(\"Alice\", 100000, \"Sales\")\n",
        "developer = Developer(\"Bob\", 90000, \"Python\")\n",
        "\n",
        "print(manager.display_info())  # Outputs: Name: Alice, Salary: 100000, Department: Sales\n",
        "print(developer.display_info())  # Outputs: Name: Bob, Salary: 90000, Programming Language: Python\n"
      ],
      "metadata": {
        "colab": {
          "base_uri": "https://localhost:8080/"
        },
        "id": "cAlp4k15strF",
        "outputId": "a679bc7b-cbc9-4c71-db77-0ed8cf259be7"
      },
      "execution_count": 5,
      "outputs": [
        {
          "output_type": "stream",
          "name": "stdout",
          "text": [
            "Name: Alice, Salary: 100000, Department: Sales\n",
            "Name: Bob, Salary: 90000, Programming Language: Python\n"
          ]
        }
      ]
    },
    {
      "cell_type": "markdown",
      "source": [
        "**Design a base class called \"Shape\" with attributes like \"colour\" and \"border_width.\"\n",
        "Create derived classes, \"Rectangle\" and \"Circle,\" that inherit from \"Shape\" and add\n",
        "specific attributes like \"length\" and \"width\" for the \"Rectangle\" class and \"radius\" for\n",
        "the \"Circle\" class.**"
      ],
      "metadata": {
        "id": "IS_xuHg_s7ib"
      }
    },
    {
      "cell_type": "code",
      "source": [
        "import math  # Required for calculating circle's area\n",
        "\n",
        "# Base class: Shape\n",
        "class Shape:\n",
        "    def __init__(self, colour, border_width):\n",
        "        self.colour = colour\n",
        "        self.border_width = border_width\n",
        "\n",
        "    def display_info(self):\n",
        "        return f\"Colour: {self.colour}, Border Width: {self.border_width}\"\n",
        "\n",
        "# Derived class: Rectangle\n",
        "class Rectangle(Shape):\n",
        "    def __init__(self, colour, border_width, length, width):\n",
        "        super().__init__(colour, border_width)  # Initialize attributes from the parent class using super\n",
        "        self.length = length\n",
        "        self.width = width\n",
        "\n",
        "    def display_info(self):\n",
        "        shape_info = super().display_info()  # Retrieve the basic info from the parent class using super\n",
        "        return f\"{shape_info}, Length: {self.length}, Width: {self.width}\"\n",
        "\n",
        "    def area(self):\n",
        "        return self.length * self.width\n",
        "\n",
        "# Derived class: Circle\n",
        "class Circle(Shape):\n",
        "    def __init__(self, colour, border_width, radius):\n",
        "        super().__init__(colour, border_width)  # Initialize attributes from the parent class using super\n",
        "        self.radius = radius\n",
        "\n",
        "    def display_info(self):\n",
        "        shape_info = super().display_info()  # Retrieve the basic info from the parent class using super\n",
        "        return f\"{shape_info}, Radius: {self.radius}\"\n",
        "\n",
        "    def area(self):\n",
        "        return math.pi * (self.radius ** 2)\n",
        "\n",
        "# Testing\n",
        "rectangle = Rectangle(\"Blue\", 2, 10, 5)\n",
        "circle = Circle(\"Red\", 1, 7)\n",
        "\n",
        "print(rectangle.display_info())  # Outputs: Colour: Blue, Border Width: 2, Length: 10, Width: 5\n",
        "print(rectangle.area())  # Outputs: 50\n",
        "\n",
        "print(circle.display_info())  # Outputs: Colour: Red, Border Width: 1, Radius: 7\n",
        "print(circle.area())  # Outputs: 153.93804002589985 (or a similar value depending on the precision)\n"
      ],
      "metadata": {
        "colab": {
          "base_uri": "https://localhost:8080/"
        },
        "id": "po144AvWs89g",
        "outputId": "63ee83b8-f2bf-432f-8e2f-0b00afa62c8c"
      },
      "execution_count": 6,
      "outputs": [
        {
          "output_type": "stream",
          "name": "stdout",
          "text": [
            "Colour: Blue, Border Width: 2, Length: 10, Width: 5\n",
            "50\n",
            "Colour: Red, Border Width: 1, Radius: 7\n",
            "153.93804002589985\n"
          ]
        }
      ]
    },
    {
      "cell_type": "markdown",
      "source": [
        "**Create a base class called \"Device\" with attributes like \"brand\" and \"model.\" Derive\n",
        "two classes, \"Phone\" and \"Tablet,\" from \"Device.\" Add specific attributes like\n",
        "\"screen_size\" for the \"Phone\" class and \"battery_capacity\" for the \"Tablet\" class.**"
      ],
      "metadata": {
        "id": "JS2Hr6oZtKfw"
      }
    },
    {
      "cell_type": "code",
      "source": [
        "# Base class: Device\n",
        "class Device:\n",
        "    def __init__(self, brand, model):\n",
        "        self.brand = brand\n",
        "        self.model = model\n",
        "\n",
        "    def display_info(self):\n",
        "        return f\"Brand: {self.brand}, Model: {self.model}\"\n",
        "\n",
        "# Derived class: Phone\n",
        "class Phone(Device):\n",
        "    def __init__(self, brand, model, screen_size):\n",
        "        super().__init__(brand, model)  # Initialize attributes from the parent class using super\n",
        "        self.screen_size = screen_size\n",
        "\n",
        "    def display_info(self):\n",
        "        device_info = super().display_info()  # Retrieve the basic info from the parent class using super\n",
        "        return f\"{device_info}, Screen Size: {self.screen_size} inches\"\n",
        "\n",
        "# Derived class: Tablet\n",
        "class Tablet(Device):\n",
        "    def __init__(self, brand, model, battery_capacity):\n",
        "        super().__init__(brand, model)  # Initialize attributes from the parent class using super\n",
        "        self.battery_capacity = battery_capacity\n",
        "\n",
        "    def display_info(self):\n",
        "        device_info = super().display_info()  # Retrieve the basic info from the parent class using super\n",
        "        return f\"{device_info}, Battery Capacity: {self.battery_capacity} mAh\"\n",
        "\n",
        "# Testing\n",
        "phone = Phone(\"Apple\", \"iPhone 13\", 6.1)\n",
        "tablet = Tablet(\"Samsung\", \"Galaxy Tab S7\", 8000)\n",
        "\n",
        "print(phone.display_info())  # Outputs: Brand: Apple, Model: iPhone 13, Screen Size: 6.1 inches\n",
        "print(tablet.display_info())  # Outputs: Brand: Samsung, Model: Galaxy Tab S7, Battery Capacity: 8000 mAh\n"
      ],
      "metadata": {
        "colab": {
          "base_uri": "https://localhost:8080/"
        },
        "id": "Wnx2InZktMNK",
        "outputId": "8cd6644a-ce32-4e13-cbf1-9aa232af8a39"
      },
      "execution_count": 7,
      "outputs": [
        {
          "output_type": "stream",
          "name": "stdout",
          "text": [
            "Brand: Apple, Model: iPhone 13, Screen Size: 6.1 inches\n",
            "Brand: Samsung, Model: Galaxy Tab S7, Battery Capacity: 8000 mAh\n"
          ]
        }
      ]
    },
    {
      "cell_type": "markdown",
      "source": [
        "**Create a base class called \"BankAccount\" with attributes like \"account_number\" and\n",
        "\"balance.\" Derive two classes, \"SavingsAccount\" and \"CheckingAccount,\" from\n",
        "\"BankAccount.\" Add specific methods like \"calculate_interest\" for the\n",
        "\"SavingsAccount\" class and \"deduct_fees\" for the \"CheckingAccount\" class.**"
      ],
      "metadata": {
        "id": "6r6NOZa4tX_3"
      }
    },
    {
      "cell_type": "code",
      "source": [
        "# Base class: BankAccount\n",
        "class BankAccount:\n",
        "    def __init__(self, account_number, balance):\n",
        "        self.account_number = account_number\n",
        "        self.balance = balance\n",
        "\n",
        "    def deposit(self, amount):\n",
        "        self.balance += amount\n",
        "        return self.balance\n",
        "\n",
        "    def withdraw(self, amount):\n",
        "        if amount <= self.balance:\n",
        "            self.balance -= amount\n",
        "        else:\n",
        "            print(\"Insufficient funds!\")\n",
        "        return self.balance\n",
        "\n",
        "    def display_balance(self):\n",
        "        return f\"Account Number: {self.account_number}, Balance: ${self.balance}\"\n",
        "\n",
        "# Derived class: SavingsAccount\n",
        "class SavingsAccount(BankAccount):\n",
        "    def __init__(self, account_number, balance, interest_rate):\n",
        "        super().__init__(account_number, balance)\n",
        "        self.interest_rate = interest_rate\n",
        "\n",
        "    def calculate_interest(self):\n",
        "        interest = self.balance * (self.interest_rate / 100)\n",
        "        self.balance += interest\n",
        "        return interest\n",
        "\n",
        "# Derived class: CheckingAccount\n",
        "class CheckingAccount(BankAccount):\n",
        "    def __init__(self, account_number, balance, fee):\n",
        "        super().__init__(account_number, balance)\n",
        "        self.fee = fee\n",
        "\n",
        "    def deduct_fees(self):\n",
        "        if self.fee <= self.balance:\n",
        "            self.balance -= self.fee\n",
        "        else:\n",
        "            print(\"Insufficient funds to deduct fees!\")\n",
        "        return self.balance\n",
        "\n",
        "# Testing\n",
        "savings = SavingsAccount(\"SA12345\", 1000, 3)  # 3% interest rate\n",
        "checking = CheckingAccount(\"CA12345\", 500, 10)  # $10 monthly fee\n",
        "\n",
        "print(savings.display_balance())  # Outputs: Account Number: SA12345, Balance: $1000\n",
        "interest = savings.calculate_interest()\n",
        "print(f\"Interest earned: ${interest}\")\n",
        "print(savings.display_balance())  # New balance after interest\n",
        "\n",
        "print(checking.display_balance())  # Outputs: Account Number: CA12345, Balance: $500\n",
        "checking.deduct_fees()\n",
        "print(checking.display_balance())  # New balance after fees\n"
      ],
      "metadata": {
        "colab": {
          "base_uri": "https://localhost:8080/"
        },
        "id": "b3ggAJ3Tti0U",
        "outputId": "891b8ab3-8a7e-43b3-8a11-eb643c75fdb5"
      },
      "execution_count": 8,
      "outputs": [
        {
          "output_type": "stream",
          "name": "stdout",
          "text": [
            "Account Number: SA12345, Balance: $1000\n",
            "Interest earned: $30.0\n",
            "Account Number: SA12345, Balance: $1030.0\n",
            "Account Number: CA12345, Balance: $500\n",
            "Account Number: CA12345, Balance: $490\n"
          ]
        }
      ]
    },
    {
      "cell_type": "code",
      "source": [],
      "metadata": {
        "id": "7Xx1EK0Ctjzf"
      },
      "execution_count": null,
      "outputs": []
    }
  ]
}