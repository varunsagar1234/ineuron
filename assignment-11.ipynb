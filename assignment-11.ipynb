{
  "nbformat": 4,
  "nbformat_minor": 0,
  "metadata": {
    "colab": {
      "provenance": []
    },
    "kernelspec": {
      "name": "python3",
      "display_name": "Python 3"
    },
    "language_info": {
      "name": "python"
    }
  },
  "cells": [
    {
      "cell_type": "markdown",
      "source": [
        "**What is the role of the 'else' block in a try-except statement? Provide an example\n",
        "scenario where it would be useful.**\n",
        "\n",
        "Ans)\n",
        "\n",
        "In a try-except statement, the else block specifies a section of code that will be executed if the try block does not raise an exception.\n",
        "\n",
        "**The role of the else block is to:**\n",
        "\n",
        "1)This can make code clearer by distinguishing between the main operation (which might cause exceptions) and the follow-up operations that should only execute if there was no exception.\n",
        "\n",
        "2)By only including the lines of code that might raise exceptions in the try block and using the else block for subsequent operations, you make it clearer which parts of your code might throw exceptions and which parts will not.\n"
      ],
      "metadata": {
        "id": "LjPsjsZ5dnDA"
      }
    },
    {
      "cell_type": "code",
      "source": [
        "try:\n",
        "    num1 = int(input(\"Enter the numerator: \"))\n",
        "    num2 = int(input(\"Enter the denominator: \"))\n",
        "    result = num1 / num2\n",
        "except ZeroDivisionError:\n",
        "    print(\"Denominator cannot be zero!\")\n",
        "except ValueError:\n",
        "    print(\"Please enter a valid number!\")\n",
        "else:\n",
        "    # This block will execute only if no exception was raised\n",
        "    square = result ** 2\n",
        "    print(f\"Square of the result is: {square}\")\n"
      ],
      "metadata": {
        "colab": {
          "base_uri": "https://localhost:8080/"
        },
        "id": "yj-tJTJxeA3A",
        "outputId": "5d25a469-faff-425e-8fdd-dfe83072cc43"
      },
      "execution_count": null,
      "outputs": [
        {
          "output_type": "stream",
          "name": "stdout",
          "text": [
            "Enter the numerator: 12\n",
            "Enter the denominator: 0\n",
            "Denominator cannot be zero!\n"
          ]
        }
      ]
    },
    {
      "cell_type": "markdown",
      "source": [
        "**Can a try-except block be nested inside another try-except block? Explain with an\n",
        "example.**\n",
        "\n",
        "Ans)Yes, a try-except block can be nested inside another try-except block. This is useful in scenarios where different parts of the code inside the main try block can raise different exceptions that need to be handled in different ways."
      ],
      "metadata": {
        "id": "69BIU_feeTlD"
      }
    },
    {
      "cell_type": "code",
      "source": [
        "try:\n",
        "    # First potential source of exception\n",
        "    l=[1,2,3,4]\n",
        "    num1 = l[4]\n",
        "\n",
        "    try:\n",
        "        # Second potential source of exception\n",
        "        num2 = int(input(\"Enter the denominator: \"))\n",
        "        result = num1 / num2\n",
        "    except ZeroDivisionError:\n",
        "        print(\"Denominator cannot be zero!\")\n",
        "\n",
        "except IndexError:\n",
        "    print(\"Please enter a valid index\")\n",
        "else:\n",
        "    print(f\"Result is: {result}\")\n"
      ],
      "metadata": {
        "colab": {
          "base_uri": "https://localhost:8080/"
        },
        "id": "KgDidzUQeaDh",
        "outputId": "2ece4926-49e8-44fc-9799-687cb3cc8dc4"
      },
      "execution_count": null,
      "outputs": [
        {
          "output_type": "stream",
          "name": "stdout",
          "text": [
            "Please enter a valid index\n"
          ]
        }
      ]
    },
    {
      "cell_type": "markdown",
      "source": [
        "**How can you create a custom exception class in Python? Provide an example that\n",
        "demonstrates its usage.**\n",
        "\n",
        "Ans)In Python, custom exceptions can be defined by creating a new class derived from the base Exception class or from any derived exception class. This allows you to create exceptions that are specific to your application's domain.\n"
      ],
      "metadata": {
        "id": "ZqsSma8ioOhk"
      }
    },
    {
      "cell_type": "code",
      "source": [
        "# Step 1: Define the custom exception class\n",
        "\n",
        "class AgeRestrictionError(Exception):\n",
        "    \"\"\"Exception raised for age-related restrictions.\"\"\"\n",
        "\n",
        "    def __init__(self, age, message=\"Age is not within the allowed range\"):\n",
        "        self.age = age\n",
        "        self.message = message\n",
        "\n",
        "    def __str__(self):\n",
        "        return f'{self.age} -> {self.message}'\n",
        "\n",
        "# Step 2: Raise the custom exception\n",
        "\n",
        "def check_age(age):\n",
        "    if age < 18 or age > 60:\n",
        "        raise AgeRestrictionError(age)\n",
        "    else:\n",
        "        return \"Age is within the allowed range\"\n",
        "\n",
        "# Step 3: Handle the custom exception\n",
        "\n",
        "try:\n",
        "    print(check_age(15))\n",
        "except AgeRestrictionError as e:\n",
        "    print(f\"Error: {e}\")\n",
        "\n",
        "try:\n",
        "    print(check_age(25))\n",
        "except AgeRestrictionError as e:\n",
        "    print(f\"Error: {e}\")\n",
        "\n",
        "try:\n",
        "    print(check_age(65))\n",
        "except AgeRestrictionError as e:\n",
        "    print(f\"Error: {e}\")\n",
        "\n"
      ],
      "metadata": {
        "colab": {
          "base_uri": "https://localhost:8080/"
        },
        "id": "cPb_ypeLU7TQ",
        "outputId": "c69922a7-0687-4350-ee80-d70b78f4a899"
      },
      "execution_count": null,
      "outputs": [
        {
          "output_type": "stream",
          "name": "stdout",
          "text": [
            "Error: 15 -> Age is not within the allowed range\n",
            "Age is within the allowed range\n",
            "Error: 65 -> Age is not within the allowed range\n"
          ]
        }
      ]
    },
    {
      "cell_type": "markdown",
      "source": [
        "**What are some common exceptions that are built-in to Python?**\n",
        "\n",
        "Ans)\n",
        "<p><strong>Here's a brief description of each exception:</strong></p>\n",
        "<ol>\n",
        "<li><strong><code>BaseException</code>:</strong> The base class for all built-in exceptions.</li>\n",
        "<li><strong><code>Exception</code>:</strong> The base class for all non-exit exceptions.</li>\n",
        "<li><strong><code>ArithmeticError</code>:</strong> Raised for any arithmetic errors.</li>\n",
        "<li><strong><code>BufferError</code>:</strong> Raised when operations on a buffer are not possible.</li>\n",
        "<li><strong><code>LookupError</code>:</strong> Raised when a mapping (dictionary) key or sequence index is not found.</li>\n",
        "<li><strong><code>AssertionError</code>:</strong> Raised when an <code>assert</code> statement fails.</li>\n",
        "<li><strong><code>AttributeError</code>:</strong> Raised when attribute reference or assignment fails.</li>\n",
        "<li><strong><code>EOFError</code>:</strong> Raised when the <code>input()</code> function hits an end-of-file condition (EOF).</li>\n",
        "<li><strong><code>FloatingPointError</code>:</strong> Raised when a floating point operation fails.</li>\n",
        "<li><strong><code>GeneratorExit</code>:</strong> Raised when a generator or coroutine is closed.</li>\n",
        "<li><strong><code>ImportError</code>:</strong> Raised when the <code>import</code> statement fails to find the module definition.</li>\n",
        "<li><strong><code>ModuleNotFoundError</code>:</strong> A subclass of <code>ImportError</code>, raised when an <code>import</code> statement fails to find the module.</li>\n",
        "<li><strong><code>IndexError</code>:</strong> Raised when a sequence subscript (index) is out of range.</li>\n",
        "<li><strong><code>KeyError</code>:</strong> Raised when a dictionary key is not found.</li>\n",
        "<li><strong><code>KeyboardInterrupt</code>:</strong> Raised when the user interrupts program execution (usually by pressing Ctrl+C).</li>\n",
        "<li><strong><code>MemoryError</code>:</strong> Raised when an operation runs out of memory.</li>\n",
        "<li><strong><code>NameError</code>:</strong> Raised when a local or global name is not found.</li>\n",
        "<li><strong><code>NotImplementedError</code>:</strong> Raised when an abstract method requiring an override in an inherited class is not provided.</li>\n",
        "<li><strong><code>OSError</code>:</strong> Raised when a system-related error occurs.</li>\n",
        "<li><strong><code>OverflowError</code>:</strong> Raised when the result of an arithmetic operation is too large to be expressed.</li>\n",
        "<li><strong><code>RecursionError</code>:</strong> Raised when the maximum recursion depth has been exceeded.</li>\n",
        "<li><strong><code>ReferenceError</code>:</strong> Raised when a weak reference proxy is used to access a garbage collected referent.</li>\n",
        "<li><strong><code>RuntimeError</code>:</strong> Raised when an error is detected that doesn&rsquo;t fall in any of the other categories.</li>\n",
        "<li><strong><code>StopIteration</code>:</strong> Raised by built-in function <code>next()</code> and an iterator&lsquo;s <code>__next__()</code> method to signal that there are no further items.</li>\n",
        "<li><strong><code>StopAsyncIteration</code>:</strong> Raised by an asynchronous iterator object&rsquo;s <code>__anext__()</code> method to stop the iteration.</li>\n",
        "<li><strong><code>SyntaxError</code>:</strong> Raised by the parser when a syntax error is encountered.</li>\n",
        "<li><strong><code>IndentationError</code>:</strong> Raised when there is incorrect indentation.</li>\n",
        "<li><strong><code>TabError</code>:</strong> Raised when indentation contains mixed tabs and spaces.</li>\n",
        "<li><strong><code>SystemError</code>:</strong> Raised when the interpreter finds an internal problem.</li>\n",
        "<li><strong><code>SystemExit</code>:</strong> Raised by the <code>sys.exit()</code> function.</li>\n",
        "<li><strong><code>TypeError</code>:</strong> Raised when an operation or function is applied to an object of inappropriate type.</li>\n",
        "<li><strong><code>UnboundLocalError</code>:</strong> Raised when a local variable is referenced before it has been assigned a value.</li>\n",
        "<li><strong><code>UnicodeError</code>:</strong> Raised when a Unicode-related encoding or decoding error occurs.</li>\n",
        "<li><strong><code>UnicodeEncodeError</code>:</strong> Raised when a Unicode-related error occurs during encoding.</li>\n",
        "<li><strong><code>UnicodeDecodeError</code>:</strong> Raised when a Unicode-related error occurs during decoding.</li>\n",
        "<li><strong><code>UnicodeTranslateError</code>:</strong> Raised when a Unicode-related error occurs during translating.</li>\n",
        "<li><strong><code>ValueError</code>:</strong> Raised when a built-in operation or function receives an argument that has the right type but an inappropriate value.</li>\n",
        "<li><strong><code>ZeroDivisionError</code>:</strong> Raised when the second argument of a division or modulo operation is zero.</li>\n",
        "<li><strong><code>EnvironmentError</code>:</strong> Base class for exceptions that can occur outside the Python system.</li>\n",
        "<li><strong><code>IOError</code>:</strong> Raised when an I/O operation (such as a print statement, the built-in open() function or a method of a file object)</li>\n",
        "</ol>"
      ],
      "metadata": {
        "id": "CZiInwIdr65q"
      }
    },
    {
      "cell_type": "markdown",
      "source": [
        "**What is logging in Python, and why is it important in software development?**\n",
        "\n",
        "Ans)Logging is a means of tracking events that happen when some software runs. In Python, the logging module provides a flexible framework for emitting log messages from Python programs. This framework is used to capture a variety of levels of information about the operational state of the software, from general messages to detailed debugging data.\n",
        "\n",
        "Here are some reasons why logging is important in software development:\n",
        "\n",
        "**Debugging**: Logs provide developers with detailed information about what the program did, which can be crucial when trying to reproduce and understand bugs.\n",
        "\n",
        "**Operational Monitoring**: Logs can help system administrators and operators monitor the health and status of an application, ensuring everything is running as expected."
      ],
      "metadata": {
        "id": "y0ZffkXZsrn8"
      }
    },
    {
      "cell_type": "code",
      "source": [
        "#the levels of logging\n",
        "import logging\n",
        "logging.basicConfig(level=logging.DEBUG)#standard line for logging\n",
        "\n",
        "logging.warning(\"this is warnign mesage\")\n",
        "logging.error(\"this is a error message\")\n",
        "logging.critical(\"this is critical error message\")"
      ],
      "metadata": {
        "colab": {
          "base_uri": "https://localhost:8080/"
        },
        "id": "Qx4iYKJZ8PID",
        "outputId": "04143945-dd00-4170-ee68-1dfd73950d8a"
      },
      "execution_count": 12,
      "outputs": [
        {
          "output_type": "stream",
          "name": "stderr",
          "text": [
            "WARNING:root:this is warnign mesage\n",
            "ERROR:root:this is a error message\n",
            "CRITICAL:root:this is critical error message\n"
          ]
        }
      ]
    },
    {
      "cell_type": "markdown",
      "source": [
        " **Explain the purpose of log levels in Python logging and provide examples of when\n",
        "each log level would be appropriate.**\n",
        "\n",
        "Ans)\n",
        "Log levels in Python's logging module serve to categorize log messages based on their importance or severity. By setting an appropriate log level, developers can control which messages get recorded and which ones get ignored, based on the context in which the software is running.\n",
        "\n",
        "**DEBUG**: The lowest level, used for any small details, typically used for debugging.\n",
        "\n",
        "When you want to capture detailed information about the flow of a program or the state of variables, which might be useful in diagnosing problems.\n",
        "\n",
        "**Example**: \"Entering loop\", \"Value of x at this point is 5\", \"HTTP request headers are: ...\"\n",
        "\n",
        "**INFO**: Used for general system information, confirmation that things are working as expected.\n",
        "\n",
        "When you want to record the normal operation of a program, such as a periodic task being accomplished.\n",
        "\n",
        "**Example**: \"Server started successfully\", \"Connected to database\", \"User John logged in\".\n",
        "\n",
        "**WARNING**: Indicates something unexpected happened or might happen in the future, but the software is still working as expected.\n",
        "\n",
        "When there's a situation that isn't an error but might be a potential issue that warrants attention.\n",
        "\n",
        "**Example**: \"Disk space is running low\", \"Deprecated function xyz() was called\", \"API rate limit nearing\".\n",
        "\n",
        "**ERROR**: Indicates a more serious problem that prevented the software from performing a function.\n",
        "\n",
        "When there's an error that needs attention because a particular function couldn't complete successfully, but the program can still run.\n",
        "\n",
        "**Example**: \"Failed to connect to database\", \"Missing configuration file\", \"Order 12345 couldn't be processed\".\n",
        "\n",
        "**CRITICAL**: A very serious error, indicating that the program itself may be unable to continue running.\n",
        "\n",
        "When there's a severe error which might prevent the application from continuing to run.\n",
        "\n",
        "Example: \"System out of memory\", \"Critical configuration missing, shutting down\", \"All payment gateways unavailable, cannot process any orders\"."
      ],
      "metadata": {
        "id": "rXtQiHd28YzZ"
      }
    },
    {
      "cell_type": "code",
      "source": [
        "import logging\n",
        "\n",
        "# Set up logging\n",
        "logging.basicConfig(level=logging.INFO, format='%(levelname)s: %(message)s')\n",
        "\n",
        "# Log messages\n",
        "logging.warning(\"Fetching data took longer than expected. Possible slow query.\")\n",
        "logging.error(\"Failed to process data due to missing key.\")\n",
        "logging.critical(\"Critical error. Cannot continue further!\")\n"
      ],
      "metadata": {
        "colab": {
          "base_uri": "https://localhost:8080/"
        },
        "id": "QdgHe03q9kfo",
        "outputId": "fd00e655-0111-4931-9d1d-c4a2b5d60518"
      },
      "execution_count": 11,
      "outputs": [
        {
          "output_type": "stream",
          "name": "stderr",
          "text": [
            "WARNING:root:Fetching data took longer than expected. Possible slow query.\n",
            "ERROR:root:Failed to process data due to missing key.\n",
            "CRITICAL:root:Critical error. Cannot continue further!\n"
          ]
        }
      ]
    },
    {
      "cell_type": "code",
      "source": [
        "import logging\n",
        "\n",
        "# Configure logging to write messages of level INFO and above to the console\n",
        "logging.basicConfig(level=logging.INFO, format='%(levelname)s: %(message)s')\n",
        "\n",
        "# Some operations in a fictional application:\n",
        "\n",
        "#def connect_to_database():\n",
        "    # Simulating a successful database connection\n",
        "    #logging.info(\"Connected to the database.\")\n",
        "\n",
        "def fetch_data():\n",
        "    # Simulating a case where we fetch data but there's an issue\n",
        "    logging.warning(\"Fetching data took longer than expected. Possible slow query.\")\n",
        "\n",
        "def process_data():\n",
        "    # Simulating an error during data processing\n",
        "    logging.error(\"Failed to process data due to missing key.\")\n",
        "\n",
        "def finish_up():\n",
        "    # Simulating a critical issue\n",
        "    logging.critical(\"Critical error. Cannot continue further!\")\n",
        "\n",
        "# Simulate the flow of the application:\n",
        "\n",
        "#connect_to_database()\n",
        "fetch_data()\n",
        "process_data()\n",
        "finish_up()\n",
        "\n"
      ],
      "metadata": {
        "id": "3z-2miYJ9kyJ",
        "colab": {
          "base_uri": "https://localhost:8080/"
        },
        "outputId": "03daf6bb-e1b6-48dc-bf88-a70abf97f18e"
      },
      "execution_count": 17,
      "outputs": [
        {
          "output_type": "stream",
          "name": "stderr",
          "text": [
            "WARNING:root:Fetching data took longer than expected. Possible slow query.\n",
            "ERROR:root:Failed to process data due to missing key.\n",
            "CRITICAL:root:Critical error. Cannot continue further!\n"
          ]
        }
      ]
    },
    {
      "cell_type": "markdown",
      "source": [
        "**What are log formatters in Python logging, and how can you customise the log\n",
        "message format using formatters?**\n",
        "\n",
        "Ans)In Python's logging module, formatters specify the layout of log records in the final output. By defining a format string and assigning it to a formatter, you control the content and appearance of log messages.\n",
        "\n",
        "**%(name)s**: Logger's name.\n",
        "\n",
        "**%(levelname)s**: Level name of the log record (e.g., 'DEBUG', 'ERROR').\n",
        "\n",
        "**%(message)s**: The logged message.\n",
        "\n",
        "**%(asctime)s**: Human-readable time when the log record was created.\n",
        "\n",
        "**%(filename)s**: Filename of the module where the logging call was made.\n",
        "\n",
        "**%(lineno)d**: Line number in the module where the logging call was made.\n",
        "\n",
        "%(funcName)s: Function name where the logging call was made."
      ],
      "metadata": {
        "id": "UG3mj2pC_CLg"
      }
    },
    {
      "cell_type": "code",
      "source": [
        "import logging\n",
        "\n",
        "# Create logger\n",
        "logger = logging.getLogger('my_logger')\n",
        "logger.setLevel(logging.DEBUG)  # set logger level\n",
        "\n",
        "# Create a handler and set its level to DEBUG\n",
        "handler = logging.StreamHandler()\n",
        "handler.setLevel(logging.DEBUG)\n",
        "\n",
        "# Define the format and create a formatter\n",
        "format_string = '%(asctime)s [%(levelname)s] (%(filename)s:%(lineno)d) - %(message)s'\n",
        "formatter = logging.Formatter(format_string)\n",
        "\n",
        "# Set the formatter to the handler\n",
        "handler.setFormatter(formatter)\n",
        "\n",
        "# Add the handler to the logger\n",
        "logger.addHandler(handler)\n",
        "\n",
        "# Sample log messages\n",
        "logger.debug('This is a debug message.')\n",
        "logger.error('An error has occurred!')\n",
        "\n"
      ],
      "metadata": {
        "colab": {
          "base_uri": "https://localhost:8080/"
        },
        "id": "nTnlJj3g_yQN",
        "outputId": "06208ecc-a540-4d10-e2d7-7b36ec49c0a4"
      },
      "execution_count": 18,
      "outputs": [
        {
          "output_type": "stream",
          "name": "stderr",
          "text": [
            "2023-08-28 16:34:30,457 [DEBUG] (<ipython-input-18-ef23eb583dfd>:22) - This is a debug message.\n",
            "DEBUG:my_logger:This is a debug message.\n",
            "2023-08-28 16:34:30,465 [ERROR] (<ipython-input-18-ef23eb583dfd>:23) - An error has occurred!\n",
            "ERROR:my_logger:An error has occurred!\n"
          ]
        }
      ]
    },
    {
      "cell_type": "markdown",
      "source": [
        "**How can you set up logging to capture log messages from multiple modules or\n",
        "classes in a Python application?**\n",
        "\n",
        "Ans)When you're working with a Python application that consists of multiple modules or classes, the logging module provides a hierarchical structure based on logger names, which makes it easy to capture and manage log messages from different parts of your application.\n",
        "\n",
        "**Basic Configuration:**\n",
        "\n",
        "In your main module or entry point of the application, set up the basic configuration for the root logger. The root logger will catch messages from all other loggers unless otherwise specified.\n",
        "\n",
        "**Create Loggers in Each Module:**\n",
        "\n",
        "In each module or class, create a logger instance using getLogger(). It's conventional to use the module's __name__ as the logger's name. This creates a hierarchy where the root logger is at the top and module-specific loggers are children.\n",
        "\n",
        "\n",
        "**Hierarchical Logging:**\n",
        "\n",
        "By default, log messages propagate up to the root logger. This means if a logger in module1.py has a level of DEBUG, but the root logger only has a level of WARNING, then only WARNING and above messages from module1.py will be displayed.\n",
        "If you don't want certain log messages to propagate to the root or other handlers, you can stop the propagation using:\n",
        "\n",
        "\n",
        "**Fine-tuning with Handlers and Formatters:**\n",
        "\n",
        "In more complex setups, you might want to direct logs from specific modules to different outputs (e.g., a file or a network location). This can be done by adding handlers to the module-specific loggers.\n",
        "\n",
        "**Managing Log Levels:**\n",
        "\n",
        "You can set different logging levels for different modules. For instance, you might want detailed logs (DEBUG level) for a particular module that you're currently focusing on, while only wanting error logs for others."
      ],
      "metadata": {
        "id": "LR_YS0FK_5Yq"
      }
    },
    {
      "cell_type": "markdown",
      "source": [
        "**What is the difference between the logging and print statements in Python? When\n",
        "should you use logging over print statements in a real-world application?**\n",
        "\n",
        "Ans)\n",
        "Both print and logging in Python can produce output, but they serve different purposes and have distinct characteristics. Here's a comparison:\n",
        "\n",
        "**print Statement:**\n",
        "\n",
        "1)Primarily designed to display output to the console. It's straightforward and easy to use for simple output needs.\n",
        "\n",
        "2)Offers limited control over its output. Everything is sent to the standard output (usually the console) unless redirected.\n",
        "\n",
        "3)Doesn't persist output anywhere by default. If the application crashes or the system reboots, whatever was printed is gone.\n",
        "\n",
        "**logging Module:**\n",
        "\n",
        "1)Designed to provide a flexible framework for emitting messages from applications in development and production environments.\n",
        "\n",
        "2)Offers a high degree of control over where the messages go (console, files, remote servers, etc.), what format they have, and which messages get output at all.\n",
        "\n",
        "3)Can easily be configured to write logs to files, which can then be analyzed after application execution.\n",
        "\n",
        "In conclusion, while print statements are useful for simple output needs, especially during initial development, the logging module provides a robust and flexible framework suitable for real-world applications, both during development and in production. As a best practice, you should prefer using logging in any non-trivial application."
      ],
      "metadata": {
        "id": "pxF3oNo4A4Oq"
      }
    },
    {
      "cell_type": "markdown",
      "source": [
        "**Write a Python program that logs a message to a file named \"app.log\" with the\n",
        "following requirements:**\n",
        "\n",
        "● **The log message should be \"Hello, World!\"**\n",
        "\n",
        "● **The log level should be set to \"INFO.\"**\n",
        "\n",
        "● **The log file should append new log entries without overwriting previous ones.**\n",
        "\n"
      ],
      "metadata": {
        "id": "dyJc_nzVBwky"
      }
    },
    {
      "cell_type": "code",
      "source": [
        "import logging\n",
        "\n",
        "# Set up the logger\n",
        "logger = logging.getLogger(__name__)\n",
        "logger.setLevel(logging.INFO)\n",
        "\n",
        "# Create a file handler to write log messages to app.log\n",
        "file_handler = logging.FileHandler('app.log', mode='a')  # 'a' mode ensures logs are appended\n",
        "file_handler.setLevel(logging.INFO)\n",
        "\n",
        "# Create a formatter and set it to the file handler\n",
        "formatter = logging.Formatter('%(asctime)s - %(name)s - %(levelname)s - %(message)s')\n",
        "file_handler.setFormatter(formatter)\n",
        "\n",
        "# Add the file handler to the logger\n",
        "logger.addHandler(file_handler)\n",
        "\n",
        "# Log the message\n",
        "logger.info(\"Hello, World!\")\n"
      ],
      "metadata": {
        "colab": {
          "base_uri": "https://localhost:8080/"
        },
        "id": "mZL1ADD9B6l6",
        "outputId": "90ba8e51-d6c1-455f-90fa-b1fff3ed9f23"
      },
      "execution_count": 19,
      "outputs": [
        {
          "output_type": "stream",
          "name": "stderr",
          "text": [
            "INFO:__main__:Hello, World!\n"
          ]
        }
      ]
    },
    {
      "cell_type": "markdown",
      "source": [
        "**Create a Python program that logs an error message to the console and a file named\n",
        "\"errors.log\" if an exception occurs during the program's execution. The error\n",
        "message should include the exception type and a timestamp.**"
      ],
      "metadata": {
        "id": "KPvoh0uhB_V5"
      }
    },
    {
      "cell_type": "code",
      "source": [
        "import logging\n",
        "\n",
        "# Setting up logging\n",
        "logger = logging.getLogger(__name__)\n",
        "logger.setLevel(logging.ERROR)\n",
        "\n",
        "# Formatter to include the timestamp and error message\n",
        "formatter = logging.Formatter('%(asctime)s - %(levelname)s - %(message)s')\n",
        "\n",
        "# Console handler to log errors to the console\n",
        "console_handler = logging.StreamHandler()\n",
        "console_handler.setFormatter(formatter)\n",
        "logger.addHandler(console_handler)\n",
        "\n",
        "# File handler to log errors to a file named errors.log\n",
        "file_handler = logging.FileHandler('errors.log')\n",
        "file_handler.setFormatter(formatter)\n",
        "logger.addHandler(file_handler)\n",
        "\n",
        "def main():\n",
        "    try:\n",
        "        # Simulate an error (change this to see other exception handling)\n",
        "        result = 1 / 0\n",
        "    except Exception as e:\n",
        "        logger.error(f\"An error occurred: {type(e).__name__} - {str(e)}\")\n",
        "\n",
        "if __name__ == \"__main__\":\n",
        "    main()\n"
      ],
      "metadata": {
        "colab": {
          "base_uri": "https://localhost:8080/"
        },
        "id": "VOUkX8DMCSRV",
        "outputId": "34cfe8de-05c7-4625-eabf-838f6336a4cc"
      },
      "execution_count": 20,
      "outputs": [
        {
          "output_type": "stream",
          "name": "stderr",
          "text": [
            "2023-08-28 16:45:30,415 - ERROR - An error occurred: ZeroDivisionError - division by zero\n",
            "ERROR:__main__:An error occurred: ZeroDivisionError - division by zero\n"
          ]
        }
      ]
    }
  ]
}