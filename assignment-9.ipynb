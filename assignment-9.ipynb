{
  "nbformat": 4,
  "nbformat_minor": 0,
  "metadata": {
    "colab": {
      "provenance": []
    },
    "kernelspec": {
      "name": "python3",
      "display_name": "Python 3"
    },
    "language_info": {
      "name": "python"
    }
  },
  "cells": [
    {
      "cell_type": "markdown",
      "source": [
        "**What is a lambda function in Python, and how does it differ from a regular function?**\n",
        "\n",
        "Ans)\n",
        "A lambda function in Python is a small anonymous function. The term \"anonymous\" means that the function doesn't have a name, unlike regular functions that are defined using the def keyword. Here's how they work:\n",
        "\n",
        "Lambda Function\n",
        "\n",
        "**Syntax:** lambda arguments: expression\n",
        "\n",
        "A lambda function can have any number of arguments but only one expression. This expression is evaluated and returned when the function is called.\n",
        "Lambda functions are used when you need a simple function for a short period and don't want to formally define it using def.\n",
        "\n",
        "**Differences between lambda and regular functions:**\n",
        "\n",
        "**Definition:**\n",
        "\n",
        "Lambda function is defined using the lambda keyword.\n",
        "Regular functions are defined using the def keyword.\n",
        "\n",
        "**Name:**\n",
        "\n",
        "Lambda functions are anonymous, meaning they don't have a name unless assigned to a variable.\n",
        "Regular functions have a name when defined.\n",
        "\n",
        "**Expression:**\n",
        "\n",
        "Lambda functions can have any number of arguments but only one expression.\n",
        "Regular functions can comprise multiple expressions and statements.\n",
        "\n",
        "**Return:**\n",
        "\n",
        "Lambda functions contain an expression which is automatically returned.\n",
        "In regular functions, you need to use the return keyword to return values (though not all functions need to return a value)."
      ],
      "metadata": {
        "id": "7z3Rx9SseFXl"
      }
    },
    {
      "cell_type": "code",
      "source": [
        "f = lambda x: x + 10\n",
        "print(f(5))  # Outputs: 15\n"
      ],
      "metadata": {
        "colab": {
          "base_uri": "https://localhost:8080/"
        },
        "id": "nhe1xrI1el79",
        "outputId": "051097ab-05cb-4751-a3ae-b9c86b3b58d6"
      },
      "execution_count": 1,
      "outputs": [
        {
          "output_type": "stream",
          "name": "stdout",
          "text": [
            "15\n"
          ]
        }
      ]
    },
    {
      "cell_type": "markdown",
      "source": [
        "**Can a lambda function in Python have multiple arguments? If yes, how can you define and use\n",
        "them?**\n",
        "\n",
        "Ans)Yes, a lambda function in Python can have multiple arguments. The general syntax for this is:\n",
        "\n",
        "lambda arg1, arg2, ... : expression"
      ],
      "metadata": {
        "id": "9UUAG2ime5W-"
      }
    },
    {
      "cell_type": "code",
      "source": [
        "f = lambda x, y: x + y\n",
        "print(f(5, 3))  # Outputs: 8\n"
      ],
      "metadata": {
        "colab": {
          "base_uri": "https://localhost:8080/"
        },
        "id": "p9TFmqm6fE8K",
        "outputId": "af517e2c-463f-495f-82b9-811645322167"
      },
      "execution_count": 2,
      "outputs": [
        {
          "output_type": "stream",
          "name": "stdout",
          "text": [
            "8\n"
          ]
        }
      ]
    },
    {
      "cell_type": "code",
      "source": [
        "list1 = [1, 2, 3]\n",
        "list2 = [10, 20, 30]\n",
        "\n",
        "result = list(map(lambda x, y: x * y, list1, list2))\n",
        "print(result)  # Outputs: [10, 40, 90]\n"
      ],
      "metadata": {
        "colab": {
          "base_uri": "https://localhost:8080/"
        },
        "id": "GOGDzjP8fIC5",
        "outputId": "174b46ea-661f-46c6-8057-bda573e328cf"
      },
      "execution_count": 3,
      "outputs": [
        {
          "output_type": "stream",
          "name": "stdout",
          "text": [
            "[10, 40, 90]\n"
          ]
        }
      ]
    },
    {
      "cell_type": "markdown",
      "source": [
        "**How are lambda functions typically used in Python? Provide an example use case.**\n",
        "\n",
        "Ans)\n",
        "Lambda functions in Python are typically used for short, simple operations that can be encapsulated in a single expression. They're often used in places where a function object is required for a short duration and you don't want to formally define a full function. Some common use cases include:\n",
        "\n",
        "**Short Callbacks**: They can be used as short-lived callbacks in GUI programming or other event-driven environments.\n",
        "\n",
        "Higher Order Functions: They are frequently used in conjunction with functions like map(), filter(), and sorted() which accept a function as an argument."
      ],
      "metadata": {
        "id": "r-18xG1xfWtZ"
      }
    },
    {
      "cell_type": "code",
      "source": [
        "#Sorting a List of Tuples based on the Second Element:\n",
        "students = [('John', 85), ('Doe', 90), ('Jane', 82)]\n",
        "\n",
        "# Using a lambda function to sort the list of tuples based on the second item (the score)\n",
        "sorted_students = sorted(students, key=lambda x: x[1])\n",
        "\n",
        "print(sorted_students)\n"
      ],
      "metadata": {
        "colab": {
          "base_uri": "https://localhost:8080/"
        },
        "id": "K-ozfEPJfg_0",
        "outputId": "ce96c84b-5151-4c80-8a69-d26b2454da08"
      },
      "execution_count": 4,
      "outputs": [
        {
          "output_type": "stream",
          "name": "stdout",
          "text": [
            "[('Jane', 82), ('John', 85), ('Doe', 90)]\n"
          ]
        }
      ]
    },
    {
      "cell_type": "markdown",
      "source": [
        "**What are the advantages and limitations of lambda functions compared to regular functions in\n",
        "Python?**\n",
        "\n",
        "Ans)\n",
        "**Advantages:**\n",
        "\n",
        "1)Lambda functions are concise and can be defined in a single line, which can help make code shorter and sometimes more readable when used appropriately.\n",
        "\n",
        "2)They can be defined right where they're used, such as inside arguments to functions. This can be handy for short-term use where the function logic is simple and doesn't need to be reused elsewhere.\n",
        "\n",
        "3)Since lambda functions are anonymous, you don't have to think of a name when you don't really need one, which can sometimes be convenient.\n",
        "\n",
        "**Limitations:**\n",
        "\n",
        "1)Lambda functions are limited to a single expression. This means no statements, no assignments, and no multiple expressions.\n",
        "\n",
        "2)Due to the single-expression constraint, they aren't suitable for larger, more complex tasks. If the logic becomes too intricate, a named regular function is a better choice for clarity and maintainability.\n",
        "\n",
        "3)While lambda functions can make the code concise, they can also make the code less readable, especially for those not accustomed to their syntax or when the expression inside the lambda becomes complex.\n"
      ],
      "metadata": {
        "id": "sM0OljmDfpzy"
      }
    },
    {
      "cell_type": "markdown",
      "source": [
        "**Are lambda functions in Python able to access variables defined outside of their own scope?\n",
        "Explain with an example.**\n",
        "\n",
        "Ans)Yes, lambda functions in Python can access variables from the enclosing scope, similar to regular functions. This behavior falls under the concept of closures in Python."
      ],
      "metadata": {
        "id": "4ikIu867gX_U"
      }
    },
    {
      "cell_type": "code",
      "source": [
        "x = 10\n",
        "\n",
        "# Define a lambda function that uses the external variable x\n",
        "f = lambda y: y + x\n",
        "\n",
        "# Call the lambda function\n",
        "print(f(5))  # Outputs: 15\n"
      ],
      "metadata": {
        "colab": {
          "base_uri": "https://localhost:8080/"
        },
        "id": "sNdrNuomgiKV",
        "outputId": "a3c302f3-bba3-4bdd-8a3e-da6a88399158"
      },
      "execution_count": 5,
      "outputs": [
        {
          "output_type": "stream",
          "name": "stdout",
          "text": [
            "15\n"
          ]
        }
      ]
    },
    {
      "cell_type": "markdown",
      "source": [
        "**Write a lambda function to calculate the square of a given number.**"
      ],
      "metadata": {
        "id": "sEU9TG-Fgq2i"
      }
    },
    {
      "cell_type": "code",
      "source": [
        "square = lambda x: x * x\n",
        "\n",
        "# To use it:\n",
        "print(square(5))  # Outputs: 25"
      ],
      "metadata": {
        "colab": {
          "base_uri": "https://localhost:8080/"
        },
        "id": "tYxEIH9zgr0F",
        "outputId": "7877ae4d-9605-4601-ca5e-60bfaf53a5bc"
      },
      "execution_count": 6,
      "outputs": [
        {
          "output_type": "stream",
          "name": "stdout",
          "text": [
            "25\n"
          ]
        }
      ]
    },
    {
      "cell_type": "markdown",
      "source": [
        "**Create a lambda function to find the maximum value in a list of integers.**"
      ],
      "metadata": {
        "id": "ba-NMCZWg1r4"
      }
    },
    {
      "cell_type": "code",
      "source": [
        "find_max = lambda lst: max(lst[0], find_max(lst[1:])) if lst else float('-inf')\n",
        "\n",
        "# Testing it\n",
        "numbers = [1, 3, 5, 8, 4]\n",
        "print(find_max(numbers))  # Outputs: 8\n",
        "\n"
      ],
      "metadata": {
        "colab": {
          "base_uri": "https://localhost:8080/"
        },
        "id": "2964rUMvhEUA",
        "outputId": "4d160cd8-9148-416d-f57c-b81c167525e5"
      },
      "execution_count": 1,
      "outputs": [
        {
          "output_type": "stream",
          "name": "stdout",
          "text": [
            "8\n"
          ]
        }
      ]
    },
    {
      "cell_type": "markdown",
      "source": [
        "**Implement a lambda function to filter out all the even numbers from a list of integers.**\n"
      ],
      "metadata": {
        "id": "aFTYzUnFZ8zF"
      }
    },
    {
      "cell_type": "code",
      "source": [
        "numbers = [1, 2, 3, 4, 5, 6, 7, 8, 9]\n",
        "\n",
        "# Lambda function to filter out even numbers\n",
        "filter_even = lambda x: x % 2 != 0\n",
        "\n",
        "# Use the filter function to apply the lambda\n",
        "result = list(filter(filter_even, numbers))\n",
        "\n",
        "print(result)  # Outputs: [1, 3, 5, 7, 9]\n"
      ],
      "metadata": {
        "colab": {
          "base_uri": "https://localhost:8080/"
        },
        "id": "iNMbWAShaF20",
        "outputId": "8f604d67-8f24-40dd-cc44-28caa2b7cb4f"
      },
      "execution_count": 2,
      "outputs": [
        {
          "output_type": "stream",
          "name": "stdout",
          "text": [
            "[1, 3, 5, 7, 9]\n"
          ]
        }
      ]
    },
    {
      "cell_type": "markdown",
      "source": [
        "**Write a lambda function to sort a list of strings in ascending order based on the length of each\n",
        "string.**"
      ],
      "metadata": {
        "id": "NJvCC7lvaLbo"
      }
    },
    {
      "cell_type": "code",
      "source": [
        "strings = [\"apple\", \"banana\", \"kiwi\", \"grapes\", \"pineapple\"]\n",
        "\n",
        "# Lambda function to sort based on string length\n",
        "sort_by_length = lambda s: len(s)\n",
        "\n",
        "# Use the sorted function with the lambda as the key\n",
        "sorted_strings = sorted(strings, key=sort_by_length)\n",
        "\n",
        "print(sorted_strings)\n",
        "# Outputs: ['kiwi', 'apple', 'grapes', 'banana', 'pineapple']\n"
      ],
      "metadata": {
        "colab": {
          "base_uri": "https://localhost:8080/"
        },
        "id": "98L9YNFHaPdv",
        "outputId": "a8bb2f16-0d8f-42d1-b9c1-eb2a88e48071"
      },
      "execution_count": 3,
      "outputs": [
        {
          "output_type": "stream",
          "name": "stdout",
          "text": [
            "['kiwi', 'apple', 'banana', 'grapes', 'pineapple']\n"
          ]
        }
      ]
    },
    {
      "cell_type": "markdown",
      "source": [
        "**Create a lambda function that takes two lists as input and returns a new list containing the\n",
        "common elements between the two lists.**"
      ],
      "metadata": {
        "id": "yOvMRwwOaeYT"
      }
    },
    {
      "cell_type": "code",
      "source": [
        "list1 = [1, 2, 3, 4, 5]\n",
        "list2 = [4, 5, 6, 7, 8]\n",
        "\n",
        "# Lambda function to find common elements between two lists\n",
        "common_elements = lambda l1, l2: list(filter(lambda x: x in l2, l1))\n",
        "\n",
        "# Use the lambda function\n",
        "result = common_elements(list1, list2)\n",
        "\n",
        "print(result)  # Outputs: [4, 5]\n"
      ],
      "metadata": {
        "colab": {
          "base_uri": "https://localhost:8080/"
        },
        "id": "D8Px-LW5aog1",
        "outputId": "c690f613-b904-47f0-8f98-4a2d665da9cc"
      },
      "execution_count": 4,
      "outputs": [
        {
          "output_type": "stream",
          "name": "stdout",
          "text": [
            "[4, 5]\n"
          ]
        }
      ]
    },
    {
      "cell_type": "markdown",
      "source": [
        "**Write a recursive function to calculate the factorial of a given positive integer.**"
      ],
      "metadata": {
        "id": "mweHg-Kaaw_x"
      }
    },
    {
      "cell_type": "code",
      "source": [
        "def factorial(n):\n",
        "    if n == 0:\n",
        "        return 1\n",
        "    else:\n",
        "        return n * factorial(n-1)\n",
        "\n",
        "# Testing the function\n",
        "print(factorial(5))  # Outputs: 120\n"
      ],
      "metadata": {
        "colab": {
          "base_uri": "https://localhost:8080/"
        },
        "id": "mcO3VlV8ayb-",
        "outputId": "a2136d6e-807c-4efb-e681-434d5b7584b9"
      },
      "execution_count": 5,
      "outputs": [
        {
          "output_type": "stream",
          "name": "stdout",
          "text": [
            "120\n"
          ]
        }
      ]
    },
    {
      "cell_type": "markdown",
      "source": [
        "**Implement a recursive function to compute the nth Fibonacci number.**"
      ],
      "metadata": {
        "id": "8BgBBgvBbCpi"
      }
    },
    {
      "cell_type": "code",
      "source": [
        "def fibonacci(n):\n",
        "    if n <= 1:\n",
        "        return n\n",
        "    else:\n",
        "        return fibonacci(n-1) + fibonacci(n-2)\n",
        "\n",
        "# Testing the function\n",
        "print(fibonacci(5))  # Outputs: 5 (Sequence: 0, 1, 1, 2, 3, 5...)\n"
      ],
      "metadata": {
        "colab": {
          "base_uri": "https://localhost:8080/"
        },
        "id": "7DRdsHWnbEVe",
        "outputId": "abf90feb-5bb7-4722-9e25-ac75ad9c58e6"
      },
      "execution_count": 6,
      "outputs": [
        {
          "output_type": "stream",
          "name": "stdout",
          "text": [
            "5\n"
          ]
        }
      ]
    },
    {
      "cell_type": "markdown",
      "source": [
        "**Create a recursive function to find the sum of all the elements in a given list.**"
      ],
      "metadata": {
        "id": "WN7gENKUbMV1"
      }
    },
    {
      "cell_type": "code",
      "source": [
        "def recursive_sum(lst):\n",
        "    # Base case: if the list is empty, return 0\n",
        "    if not lst:\n",
        "        return 0\n",
        "    # Recursion: return the first element + sum of the rest of the list\n",
        "    else:\n",
        "        return lst[0] + recursive_sum(lst[1:])\n",
        "\n",
        "# Testing the function\n",
        "numbers = [1, 2, 3, 4, 5]\n",
        "print(recursive_sum(numbers))  # Outputs: 15\n"
      ],
      "metadata": {
        "colab": {
          "base_uri": "https://localhost:8080/"
        },
        "id": "ImrybQUIbbAs",
        "outputId": "d536f165-fc60-41e3-f226-533ec2fa047a"
      },
      "execution_count": 7,
      "outputs": [
        {
          "output_type": "stream",
          "name": "stdout",
          "text": [
            "15\n"
          ]
        }
      ]
    },
    {
      "cell_type": "markdown",
      "source": [
        "**Write a recursive function to determine whether a given string is a palindrome.**"
      ],
      "metadata": {
        "id": "j1as5jzSbgz4"
      }
    },
    {
      "cell_type": "code",
      "source": [
        "def is_palindrome(s):\n",
        "    if len(s) <= 1:\n",
        "        return True\n",
        "    if s[0] != s[-1]:\n",
        "        return False\n",
        "    return is_palindrome(s[1:-1])\n",
        "\n",
        "# Testing the function\n",
        "print(is_palindrome(\"radar\"))  # Outputs: True\n",
        "print(is_palindrome(\"hello\"))  # Outputs: False\n"
      ],
      "metadata": {
        "colab": {
          "base_uri": "https://localhost:8080/"
        },
        "id": "M5CrUsXqbh7t",
        "outputId": "a76e97b6-7a67-43d7-e03f-373cf291f233"
      },
      "execution_count": 8,
      "outputs": [
        {
          "output_type": "stream",
          "name": "stdout",
          "text": [
            "True\n",
            "False\n"
          ]
        }
      ]
    },
    {
      "cell_type": "markdown",
      "source": [
        "**Implement a recursive function to find the greatest common divisor (GCD) of two positive integers.**\n"
      ],
      "metadata": {
        "id": "rpdM5Qglb2tr"
      }
    },
    {
      "cell_type": "code",
      "source": [
        "def gcd(a, b):\n",
        "    if b == 0:\n",
        "        return a\n",
        "    else:\n",
        "        return gcd(b, a % b)\n",
        "\n",
        "# Testing the function\n",
        "print(gcd(56, 98))  # Outputs: 14\n",
        "print(gcd(54, 24))  # Outputs: 6\n"
      ],
      "metadata": {
        "colab": {
          "base_uri": "https://localhost:8080/"
        },
        "id": "mT-XML49cCbW",
        "outputId": "6c37e3ec-eafe-4aa9-b51c-e1b0ef213846"
      },
      "execution_count": 9,
      "outputs": [
        {
          "output_type": "stream",
          "name": "stdout",
          "text": [
            "14\n",
            "6\n"
          ]
        }
      ]
    }
  ]
}