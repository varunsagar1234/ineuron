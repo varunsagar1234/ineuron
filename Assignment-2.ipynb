{
  "nbformat": 4,
  "nbformat_minor": 0,
  "metadata": {
    "colab": {
      "provenance": []
    },
    "kernelspec": {
      "name": "python3",
      "display_name": "Python 3"
    },
    "language_info": {
      "name": "python"
    }
  },
  "cells": [
    {
      "cell_type": "markdown",
      "source": [
        "**What are the two values of the Boolean data type? How do you write them?**\n",
        "\n",
        "Ans)\n",
        "A Boolean data type can hold one of two values: True or False. The Boolean data type is central to computer science because it's fundamentally about making decisions based on conditions, which is a core part of programming.\n",
        "\n",
        "**True**: This value often corresponds to an affirmative or \"yes\" condition. In terms of memory representation, True might be stored as the integer value 1 in many programming systems, though this isn't universally true.\n",
        "\n",
        "**False**: This is the negative or \"no\" condition. Often, False is stored as the integer value 0 in memory in many systems."
      ],
      "metadata": {
        "id": "Khrl-SRKg1eN"
      }
    },
    {
      "cell_type": "code",
      "source": [
        "a=True\n",
        "b=False\n",
        "print(type(a))\n",
        "print(type(b))\n",
        "if a:\n",
        "  print(\"it is true value\")\n",
        "if not b:\n",
        "  print(\"it is false value\")"
      ],
      "metadata": {
        "colab": {
          "base_uri": "https://localhost:8080/"
        },
        "id": "zy92-WEJhm4a",
        "outputId": "e9b1bf83-917a-4ddb-c608-705cd3b80f11"
      },
      "execution_count": 3,
      "outputs": [
        {
          "output_type": "stream",
          "name": "stdout",
          "text": [
            "<class 'bool'>\n",
            "<class 'bool'>\n",
            "it is true value\n",
            "it is false value\n"
          ]
        }
      ]
    },
    {
      "cell_type": "markdown",
      "source": [
        " **What are the three different types of Boolean operators?**\n",
        "\n",
        " Ans)\n",
        "\n",
        "Boolean operators form the basis of mathematical sets and database logic. They connect our search words together to either narrow or broaden our set of results.The three differnt types of Boolean operators in python are: are, and, not.\n",
        "\n",
        "The three fundamental Boolean (or logical) operators are:\n",
        "\n",
        " **AND (Conjunction)**:\n",
        "\n",
        "This operator returns True only if both the left and right operands are True. If either or both are False, it returns False.\n",
        "\n",
        "**or (Disjunction)**\n",
        "\n",
        "This operator returns True if at least one of the operands (left or right) is True. It only returns False if both operands are False.\n",
        "\n",
        "**not (Negation)**\n",
        "\n",
        "This unary operator returns the opposite Boolean value of its operand. It flips the truthiness of the value it precedes.\n",
        "\n",
        "\n",
        "\n"
      ],
      "metadata": {
        "id": "k9i-LR1ch8ze"
      }
    },
    {
      "cell_type": "code",
      "source": [
        "a=1000\n",
        "b=2000\n",
        "print(a==1000 and b>1000)\n",
        "print(a<1000 and b<1000)\n",
        "print(a>200 or b>1000)\n",
        "print(a<200 or b<1000)\n",
        "print(not(a<0))\n",
        "print(not(a>11))"
      ],
      "metadata": {
        "colab": {
          "base_uri": "https://localhost:8080/"
        },
        "id": "fYOer7UrjX7D",
        "outputId": "92cf0dad-1623-48a3-ed49-587b3a0468f2"
      },
      "execution_count": 7,
      "outputs": [
        {
          "output_type": "stream",
          "name": "stdout",
          "text": [
            "True\n",
            "False\n",
            "True\n",
            "False\n",
            "True\n",
            "False\n"
          ]
        }
      ]
    },
    {
      "cell_type": "markdown",
      "source": [
        "**Make a list of each Boolean operator's truth tables (i.e. every possible combination of Boolean values for the operator and what it evaluate)**\n",
        "\n",
        "1. **and (Logical AND)**:\n",
        "\n",
        "This operator returns True only if both the left and right operands are True. If either or both are False, it returns False.\n",
        "\n",
        "\n",
        "True and True = True\n",
        "\n",
        "True and False = False\n",
        "\n",
        "False and True = False\n",
        "\n",
        "False and False =\tFalse\n",
        "\n",
        "2. **or (Logical OR)**:\n",
        "\n",
        "This operator returns True if at least one of the operands (left or right) is True. It only returns False if both operands are False.\n",
        "\n",
        "True and True = True\n",
        "\n",
        "True and False = True\n",
        "\n",
        "False and True = True\n",
        "\n",
        "False\tand False\t= False\n",
        "\n",
        "3. **not (Logical NOT)**:\n",
        "\n",
        "This unary operator returns the opposite Boolean value of its operand. It flips the truthiness of the value it precedes.\n",
        "\n",
        "True\tnot = False\n",
        "\n",
        "False\tnot = True\n"
      ],
      "metadata": {
        "id": "8epy2YKokJLv"
      }
    },
    {
      "cell_type": "markdown",
      "source": [
        "**What are the values of the following expressions?**\n",
        "\n",
        "**(5 &gt; 4) and (3 == 5)**\n",
        "\n",
        "**not (5 &gt; 4)**\n",
        "\n",
        "**(5 &gt; 4) or (3 == 5)**\n",
        "\n",
        "**not ((5 &gt; 4) or (3 == 5))**\n",
        "\n",
        "**(True and True) and (True == False)**\n",
        "\n",
        "**(not False) or (not True)**"
      ],
      "metadata": {
        "id": "TmrTn_XjlaqR"
      }
    },
    {
      "cell_type": "code",
      "source": [
        "print((5>4)and(3==5)) # False and False = False\n",
        "print(not(5>4)) # not(True) = False\n",
        "print((5>4)or(3==5)) # True or False = True\n",
        "print(not((5>4)or(3==5))) # not((True) or (False))=False\n",
        "print((True and True)and(True==False)) # True and False = False\n",
        "print((not False)or(not True)) # True or False = True"
      ],
      "metadata": {
        "colab": {
          "base_uri": "https://localhost:8080/"
        },
        "id": "4qu80Wcolmvz",
        "outputId": "dffc7949-374b-4e5f-f382-22423be54ff4"
      },
      "execution_count": 8,
      "outputs": [
        {
          "output_type": "stream",
          "name": "stdout",
          "text": [
            "False\n",
            "False\n",
            "True\n",
            "False\n",
            "False\n",
            "True\n"
          ]
        }
      ]
    },
    {
      "cell_type": "markdown",
      "source": [
        "**What are the six comparison operators?**\n",
        "\n",
        "Ans)\n",
        "Comparison operators are used to compare two values. In Python (and many other programming languages), there are six primary comparison operators:\n",
        "\n",
        "**1)== (Equal to)**:\n",
        "\n",
        "Checks if the value on the left is equal to the value on the right. It doesn't check if they are the same object, just if they have the same value.\n",
        "\n",
        "**2)!= (Not equal to)**:\n",
        "\n",
        "Checks if the value on the left is not equal to the value on the right.\n",
        "\n",
        "**3)< (Less than)**:\n",
        "\n",
        "Checks if the value on the left is less than the value on the right.\n",
        "\n",
        "**4)> (Greater than)**:\n",
        "\n",
        "Checks if the value on the left is greater than the value on the right.\n",
        "\n",
        "**5)<= (Less than or equal to)**:\n",
        "\n",
        "Checks if the value on the left is less than or equal to the value on the right.\n",
        "\n",
        "**6)>= (Greater than or equal to)**:\n",
        "\n",
        "Checks if the value on the left is greater than or equal to the value on the right."
      ],
      "metadata": {
        "id": "Ne0aKonImXlT"
      }
    },
    {
      "cell_type": "code",
      "source": [
        "a=2\n",
        "print(a>2)\n",
        "print(a<2)\n",
        "print(a==2)\n",
        "print(a!=2)\n",
        "print(a>=2)\n",
        "print(a<=2)"
      ],
      "metadata": {
        "colab": {
          "base_uri": "https://localhost:8080/"
        },
        "id": "ZmdHjkOQnrIv",
        "outputId": "7fdf346c-8fd2-4f1e-a1cd-66e94f5b9e71"
      },
      "execution_count": 10,
      "outputs": [
        {
          "output_type": "stream",
          "name": "stdout",
          "text": [
            "False\n",
            "False\n",
            "True\n",
            "False\n",
            "True\n",
            "True\n"
          ]
        }
      ]
    },
    {
      "cell_type": "markdown",
      "source": [
        "**How do you tell the difference between the equal to and assignment operators?Describe a condition and when you would use one?**\n",
        "\n",
        "Ans)\n",
        "\n",
        "**1)== (Equal to) - Comparison Operator**:\n",
        "\n",
        "It's used to compare two values to determine if they are equal. When this operator is used, it returns a Boolean value: True if the values are equal and False otherwise.\n",
        "\n",
        "**2)= (Assignment) - Assignment Operator**:\n",
        "\n",
        "It's used to assign a value to a variable. The value on the right side of the = is assigned to the variable on the left side."
      ],
      "metadata": {
        "id": "gZcj-EWooC0N"
      }
    },
    {
      "cell_type": "code",
      "source": [
        "x=20#Assignment opearator\n",
        "if(x==20):#comparision operator checking whether the value which is equal to 20\n",
        "  print(\"the value is equal is 20\")"
      ],
      "metadata": {
        "colab": {
          "base_uri": "https://localhost:8080/"
        },
        "id": "ub8j05wGokFu",
        "outputId": "f333784b-40e4-4f48-b78b-81f39f2c0cba"
      },
      "execution_count": 12,
      "outputs": [
        {
          "output_type": "stream",
          "name": "stdout",
          "text": [
            "the value is equal is 20\n"
          ]
        }
      ]
    },
    {
      "cell_type": "markdown",
      "source": [
        "**Identify the three blocks in this code:**\n",
        "\n",
        "spam = 0\n",
        "\n",
        "if spam == 10:\n",
        "\n",
        "  print(&#39;eggs&#39;)\n",
        "\n",
        "if spam &gt; 5:\n",
        "\n",
        "  print(&#39;bacon&#39;)\n",
        "\n",
        "else:\n",
        "\n",
        "print(&#39;ham&#39;)\n",
        "\n",
        "print(&#39;spam&#39;)\n",
        "\n",
        "print(&#39;spam&#39;)\n",
        "\n",
        "Ans)\n",
        "\n",
        "In Python, code block refers to a collection of code that is in the same block or indent. This is most commonly found in classes, functions, and loops. Answer for the question is:\n",
        "\n",
        "ham\n",
        "\n",
        "spam\n",
        "\n",
        "spam"
      ],
      "metadata": {
        "id": "te94zGWko8gs"
      }
    },
    {
      "cell_type": "code",
      "source": [
        "spam = 0\n",
        "if spam == 10:\n",
        "    print('eggs')  # block #1\n",
        "if spam > 5:\n",
        "    print('bacon')  # block #2\n",
        "else:\n",
        "    print('ham')  # block #3\n",
        "print('spam')\n",
        "print('spam')"
      ],
      "metadata": {
        "colab": {
          "base_uri": "https://localhost:8080/"
        },
        "id": "tmMNgYmzpdOS",
        "outputId": "da8cf63d-4b96-4fc3-bcb7-8a2bd85c5adc"
      },
      "execution_count": 14,
      "outputs": [
        {
          "output_type": "stream",
          "name": "stdout",
          "text": [
            "ham\n",
            "spam\n",
            "spam\n"
          ]
        }
      ]
    },
    {
      "cell_type": "markdown",
      "source": [
        " **Write code that prints Hello if 1 is stored in spam, prints Howdy if 2 is stored in spam, and prints\n",
        "Greetings! if anything else is stored in spam.**\n",
        "\n",
        "Ans)\n",
        "Due to the presence of multiple conditions we should apply else if statement so that we can handle it in proper manner."
      ],
      "metadata": {
        "id": "rTa59S_zpnBH"
      }
    },
    {
      "cell_type": "code",
      "source": [
        "def spamCode(spam):\n",
        "    if spam==1:\n",
        "        print('Hello')\n",
        "    elif spam==2:\n",
        "        print('Howdy')\n",
        "    else:\n",
        "        print('Greetings')\n",
        "\n",
        "spamCode(1)\n",
        "spamCode(2)\n",
        "spamCode(3)"
      ],
      "metadata": {
        "colab": {
          "base_uri": "https://localhost:8080/"
        },
        "id": "WsVy0oIHp3ni",
        "outputId": "04ea1be5-ab35-4a01-86e8-019c583e9557"
      },
      "execution_count": 16,
      "outputs": [
        {
          "output_type": "stream",
          "name": "stdout",
          "text": [
            "Hello\n",
            "Howdy\n",
            "Greetings\n"
          ]
        }
      ]
    },
    {
      "cell_type": "markdown",
      "source": [
        "**If your programme is stuck in an endless loop, what keys you’ll press?**\n",
        "\n",
        "Ans)\n",
        "To stop a program stuck in an infinite loop, we press Ctrl+c."
      ],
      "metadata": {
        "id": "0Yu8hW0NqhlW"
      }
    },
    {
      "cell_type": "markdown",
      "source": [
        "**How can you tell the difference between break and continue?**\n",
        "\n",
        "Ans)\n",
        "\n",
        "break and continue are control flow statements used in loops in many programming languages, including Python. While both influence the flow of loops, they serve different purposes:\n",
        "\n",
        "**break**: The break statement is used to exit the loop prematurely. Once a break is encountered, the loop terminates, and the program continues with the next line of code after the loop.\n",
        "\n",
        "**continue**:\n",
        "The continue statement skips the current iteration of the loop and proceeds to the next iteration. It does not terminate the loop but merely skips the rest of the loop body for the current iteration.\n",
        "\n",
        "break exits the loop entirely, while continue only skips the current iteration."
      ],
      "metadata": {
        "id": "2I4OYyIVq4dI"
      }
    },
    {
      "cell_type": "code",
      "source": [
        "for i in range(5):\n",
        "    if i == 3:\n",
        "        break\n",
        "    print(i)"
      ],
      "metadata": {
        "colab": {
          "base_uri": "https://localhost:8080/"
        },
        "id": "HAehGGthrcKk",
        "outputId": "841fb165-6498-4d68-d6a6-5019d978455b"
      },
      "execution_count": 17,
      "outputs": [
        {
          "output_type": "stream",
          "name": "stdout",
          "text": [
            "0\n",
            "1\n",
            "2\n"
          ]
        }
      ]
    },
    {
      "cell_type": "code",
      "source": [
        "for i in range(5):\n",
        "    if i == 3:\n",
        "        continue\n",
        "    print(i)"
      ],
      "metadata": {
        "colab": {
          "base_uri": "https://localhost:8080/"
        },
        "id": "MEcuo2QIrelP",
        "outputId": "5f79d0a0-30ec-43f2-9ffa-85242f9be861"
      },
      "execution_count": 18,
      "outputs": [
        {
          "output_type": "stream",
          "name": "stdout",
          "text": [
            "0\n",
            "1\n",
            "2\n",
            "4\n"
          ]
        }
      ]
    },
    {
      "cell_type": "markdown",
      "source": [
        "**In a for loop, what is the difference between range(10), range(0, 10), and range(0, 10, 1)?**\n",
        "\n",
        "Ans)\n",
        "All of this excutes will same number of iterations.\n",
        "\n",
        "The **range(10)** call range from 0 to 9 (but not include 10)\n",
        "\n",
        "The **range (0,10)** explicitly tells the loop to start at 0\n",
        "\n",
        "The **range(0,10,1)** explicitly tells the loop to increase the variable by 1 on each iteration"
      ],
      "metadata": {
        "id": "CZCZQh0krriZ"
      }
    },
    {
      "cell_type": "code",
      "source": [
        "# printing a number\n",
        "for i in range(10):\n",
        "    print(i, end=\" \")\n",
        "print()\n",
        "\n",
        "for i in range(0, 10):\n",
        "    print(i, end=\" \")\n",
        "print()\n",
        "\n",
        "for i in range(0, 10, 1):\n",
        "    print(i, end=\" \")\n",
        "print()"
      ],
      "metadata": {
        "colab": {
          "base_uri": "https://localhost:8080/"
        },
        "id": "4tyfSfl5sC7t",
        "outputId": "bcd9c835-5af0-493a-c357-c10af3b9c47e"
      },
      "execution_count": 20,
      "outputs": [
        {
          "output_type": "stream",
          "name": "stdout",
          "text": [
            "0 1 2 3 4 5 6 7 8 9 \n",
            "0 1 2 3 4 5 6 7 8 9 \n",
            "0 1 2 3 4 5 6 7 8 9 \n"
          ]
        }
      ]
    },
    {
      "cell_type": "markdown",
      "source": [
        "**Write a short program that prints the numbers 1 to 10 using a for loop. Then write an equivalent program that prints the numbers 1 to 10 using a while loop?**"
      ],
      "metadata": {
        "id": "P3PdtkIrsSuv"
      }
    },
    {
      "cell_type": "code",
      "source": [
        "print('*'*10,'Using For Loop','*'*10)\n",
        "for i in range(1,11):\n",
        "    print(i, end=\" \")\n",
        "print('\\n')\n",
        "print('*'*10,'Using While Loop','*'*10)\n",
        "i=1\n",
        "while i<=10:\n",
        "    print(i, end=\" \")\n",
        "    i+=1"
      ],
      "metadata": {
        "colab": {
          "base_uri": "https://localhost:8080/"
        },
        "id": "poRxEkfssZFt",
        "outputId": "4b360c4e-524a-4e2d-e124-b93c201a784e"
      },
      "execution_count": 24,
      "outputs": [
        {
          "output_type": "stream",
          "name": "stdout",
          "text": [
            "********** Using For Loop **********\n",
            "1 2 3 4 5 6 7 8 9 10 \n",
            "\n",
            "********** Using While Loop **********\n",
            "1 2 3 4 5 6 7 8 9 10 "
          ]
        }
      ]
    },
    {
      "cell_type": "markdown",
      "source": [
        "**If you had a function named bacon() inside a module named spam, how would you call it after importing spam?**\n",
        "\n",
        "Ans)If you have a function named bacon() inside a module named spam, after importing the spam module, you would call the function using the module's name as a prefix, followed by a dot (.), and then the function's name.\n",
        "\n",
        "import spam\n",
        "\n",
        "spam.bacon()"
      ],
      "metadata": {
        "id": "4s43AxNzst2Q"
      }
    }
  ]
}