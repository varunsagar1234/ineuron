{
  "nbformat": 4,
  "nbformat_minor": 0,
  "metadata": {
    "colab": {
      "provenance": []
    },
    "kernelspec": {
      "name": "python3",
      "display_name": "Python 3"
    },
    "language_info": {
      "name": "python"
    }
  },
  "cells": [
    {
      "cell_type": "markdown",
      "source": [
        "**What is the role of try and exception block?**\n",
        "\n",
        "Ans)\n",
        "\n",
        "The try and except blocks in many programming languages, including Python, are used for exception handling. Their primary role is to enhance the robustness of a program by allowing it to detect and handle runtime errors gracefully instead of crashing or terminating abruptly.\n",
        "\n",
        "Here's a breakdown of their roles:\n",
        "\n",
        "**Error Detection**: The try block lets you test a block of code for errors. It allows the program to execute commands and checks to see if any exceptions occur.\n",
        "\n",
        "Error Handling: The except block lets you handle the error or exception. If an error is encountered in the try block, the code inside the try block stops executing, and the code inside the except block starts running."
      ],
      "metadata": {
        "id": "u0Ld1t4XoOyA"
      }
    },
    {
      "cell_type": "code",
      "source": [
        "#division of two numbers\n",
        "try:\n",
        "    a=int(input())#numerator\n",
        "    b=int(input())#denominator\n",
        "    result = a / b  # This will raise a ZeroDivisionError\n",
        "except ZeroDivisionError:\n",
        "    print(\"You cannot divide by zero!\")\n"
      ],
      "metadata": {
        "colab": {
          "base_uri": "https://localhost:8080/"
        },
        "id": "zRK1PduroeP2",
        "outputId": "0384a222-dbbb-424a-886b-6028b97cb2ea"
      },
      "execution_count": 15,
      "outputs": [
        {
          "output_type": "stream",
          "name": "stdout",
          "text": [
            "10\n",
            "0\n",
            "You cannot divide by zero!\n"
          ]
        }
      ]
    },
    {
      "cell_type": "markdown",
      "source": [
        "**What is the syntax for a basic try-except block?**\n",
        "\n",
        "Ans)\n",
        "The basic syntax for a try-except block in Python is as follows:\n",
        "\n",
        "**try:**\n",
        "\n",
        "    Code that might raise an exception\n",
        "\n",
        "**except SomeExceptionName:**\n",
        "\n",
        "    code to handle that exception\n",
        "\n",
        "Here's a breakdown:\n",
        "\n",
        "The try block contains the code that might raise an exception. If everything runs fine, the except block is skipped.\n",
        "\n",
        "The except block contains the code that will run.\n",
        "\n",
        "if an exception of type SomeExceptionName occurs within the try block. If you don't specify an exception type after except (not typically recommended), it will catch all exceptions, which can be risky because it can mask unexpected issues."
      ],
      "metadata": {
        "id": "_XXDX239ouID"
      }
    },
    {
      "cell_type": "code",
      "source": [
        "try:\n",
        "    result = 10 / 0\n",
        "except ZeroDivisionError:\n",
        "    print(\"You cannot divide by zero!\")\n"
      ],
      "metadata": {
        "colab": {
          "base_uri": "https://localhost:8080/"
        },
        "id": "jfqCDe1PpG6a",
        "outputId": "a3209a42-2c1c-40f5-d7a5-c8eef6bf5d15"
      },
      "execution_count": 16,
      "outputs": [
        {
          "output_type": "stream",
          "name": "stdout",
          "text": [
            "You cannot divide by zero!\n"
          ]
        }
      ]
    },
    {
      "cell_type": "markdown",
      "source": [
        "**What happens if an exception occurs inside a try block and there is no matching\n",
        "except block?**\n",
        "\n",
        "Ans)\n",
        "If an exception occurs inside a try block and there is no matching except block to catch and handle that specific exception, then a few things happen:\n",
        "\n",
        "1)The exception will propagate up to the nearest enclosing scope that can handle it. This means that if the try block is inside a function and the function doesn't handle the exception, the exception will be passed up to the caller of the function. This propagation continues until it reaches the top-level script or until it encounters a matching except block.\n",
        "\n",
        "2)If the exception is not caught by any except block in the entire call stack, then it becomes an unhandled exception. The Python interpreter will then terminate the program and display an error traceback, indicating where the exception occurred and the type of the exception.\n",
        "\n",
        "3)If there's a finally block associated with the try block, it will execute after the try block, whether an exception was raised or not. If there's an unhandled exception in the try block, the finally block will still execute before the program terminates."
      ],
      "metadata": {
        "id": "bdbhCKWLpPA3"
      }
    },
    {
      "cell_type": "code",
      "source": [
        "def divide(a, b):\n",
        "    try:\n",
        "        result = a / b\n",
        "        return result\n",
        "    finally:\n",
        "        print(\"Function executed!\")\n",
        "\n",
        "divide(10, 0)\n"
      ],
      "metadata": {
        "colab": {
          "base_uri": "https://localhost:8080/",
          "height": 349
        },
        "id": "GIdQmahVpnEB",
        "outputId": "a8734813-7f6d-421e-ae7c-e1794eef1455"
      },
      "execution_count": 17,
      "outputs": [
        {
          "output_type": "stream",
          "name": "stdout",
          "text": [
            "Function executed!\n"
          ]
        },
        {
          "output_type": "error",
          "ename": "ZeroDivisionError",
          "evalue": "ignored",
          "traceback": [
            "\u001b[0;31m---------------------------------------------------------------------------\u001b[0m",
            "\u001b[0;31mZeroDivisionError\u001b[0m                         Traceback (most recent call last)",
            "\u001b[0;32m<ipython-input-17-fd1f0abdce05>\u001b[0m in \u001b[0;36m<cell line: 8>\u001b[0;34m()\u001b[0m\n\u001b[1;32m      6\u001b[0m         \u001b[0mprint\u001b[0m\u001b[0;34m(\u001b[0m\u001b[0;34m\"Function executed!\"\u001b[0m\u001b[0;34m)\u001b[0m\u001b[0;34m\u001b[0m\u001b[0;34m\u001b[0m\u001b[0m\n\u001b[1;32m      7\u001b[0m \u001b[0;34m\u001b[0m\u001b[0m\n\u001b[0;32m----> 8\u001b[0;31m \u001b[0mdivide\u001b[0m\u001b[0;34m(\u001b[0m\u001b[0;36m10\u001b[0m\u001b[0;34m,\u001b[0m \u001b[0;36m0\u001b[0m\u001b[0;34m)\u001b[0m\u001b[0;34m\u001b[0m\u001b[0;34m\u001b[0m\u001b[0m\n\u001b[0m",
            "\u001b[0;32m<ipython-input-17-fd1f0abdce05>\u001b[0m in \u001b[0;36mdivide\u001b[0;34m(a, b)\u001b[0m\n\u001b[1;32m      1\u001b[0m \u001b[0;32mdef\u001b[0m \u001b[0mdivide\u001b[0m\u001b[0;34m(\u001b[0m\u001b[0ma\u001b[0m\u001b[0;34m,\u001b[0m \u001b[0mb\u001b[0m\u001b[0;34m)\u001b[0m\u001b[0;34m:\u001b[0m\u001b[0;34m\u001b[0m\u001b[0;34m\u001b[0m\u001b[0m\n\u001b[1;32m      2\u001b[0m     \u001b[0;32mtry\u001b[0m\u001b[0;34m:\u001b[0m\u001b[0;34m\u001b[0m\u001b[0;34m\u001b[0m\u001b[0m\n\u001b[0;32m----> 3\u001b[0;31m         \u001b[0mresult\u001b[0m \u001b[0;34m=\u001b[0m \u001b[0ma\u001b[0m \u001b[0;34m/\u001b[0m \u001b[0mb\u001b[0m\u001b[0;34m\u001b[0m\u001b[0;34m\u001b[0m\u001b[0m\n\u001b[0m\u001b[1;32m      4\u001b[0m         \u001b[0;32mreturn\u001b[0m \u001b[0mresult\u001b[0m\u001b[0;34m\u001b[0m\u001b[0;34m\u001b[0m\u001b[0m\n\u001b[1;32m      5\u001b[0m     \u001b[0;32mfinally\u001b[0m\u001b[0;34m:\u001b[0m\u001b[0;34m\u001b[0m\u001b[0;34m\u001b[0m\u001b[0m\n",
            "\u001b[0;31mZeroDivisionError\u001b[0m: division by zero"
          ]
        }
      ]
    },
    {
      "cell_type": "markdown",
      "source": [
        "**What is the difference between using a bare except block and specifying a specific\n",
        "exception type?**\n",
        "\n",
        "Ans)\n",
        "Using a bare except block versus specifying a specific exception type in the except block leads to different behaviors and considerations:\n",
        "\n",
        "**Bare Except:**\n",
        "\n",
        "A bare except block will catch all exceptions, including system exits, keyboard interrupts, and other exceptions you might not expect to handle.\n",
        "\n",
        "Syntax:\n",
        "\n",
        "try:\n",
        "    # code that might raise an exception\n",
        "except:\n",
        "    # this will catch all exceptions\n",
        "\n",
        "\n",
        "1)A bare except is very broad. It can mask unexpected errors and bugs, making it harder to debug and understand issues.\n",
        "\n",
        "2)Catching all exceptions might result in unintended behavior. For example, even if the user interrupts the program (like using Ctrl+C), a bare except will catch it.\n",
        "\n",
        "3)In general, using a bare except is not recommended unless you have a very specific reason and you're aware of the consequences.\n",
        "\n",
        "**Specific Exception Type**:\n",
        "\n",
        "Specifying a specific exception type ensures that you only catch and handle exceptions of that particular type.\n",
        "\n",
        "Syntax:\n",
        "\n",
        "try:\n",
        "    # code that might raise an exception\n",
        "except SomeSpecificException:\n",
        "    # handle this specific exception\n",
        "\n",
        "\n",
        "1)This method is explicit, making your intention clear. You handle only the exceptions you expect and are prepared to handle.\n",
        "\n",
        "2)There's a reduced risk of unintentionally masking other issues in the code.\n",
        "\n",
        "3)It's generally a good practice to be as specific as possible with exception handling to avoid unforeseen consequences."
      ],
      "metadata": {
        "id": "jqCnR_dEpvZ9"
      }
    },
    {
      "cell_type": "markdown",
      "source": [
        "**Can you have nested try-except blocks in Python? If yes, then give an example.**\n",
        "\n",
        "Ans)\n",
        "\n",
        "Yes, you can have nested try-except blocks in Python. Nested try-except blocks allow you to handle exceptions in a more granular manner, where an inner try block handles specific cases and an outer try block handles broader cases or performs some cleanup."
      ],
      "metadata": {
        "id": "WZprAHhJqba7"
      }
    },
    {
      "cell_type": "code",
      "source": [
        "try:\n",
        "    # Outer try block to handle invalid number input\n",
        "    num1 = float(input(\"Enter the first number: \"))\n",
        "    num2 = float(input(\"Enter the second number: \"))\n",
        "    index=int(input(\"enter the list index: \"))\n",
        "    l=[1,2,3,4]\n",
        "    try:\n",
        "        # Inner try block to handle division by zero\n",
        "        result = num1 / num2\n",
        "        print(f\"Result: {result}\")\n",
        "        print(f\"list value:{l[index]}\")\n",
        "\n",
        "    except ZeroDivisionError:\n",
        "        print(\"The second number cannot be zero.\")\n",
        "    except  IndexError:\n",
        "      print(\"list index out of range\")\n",
        "\n",
        "except ValueError:\n",
        "    print(\"Please enter a valid number.\")\n"
      ],
      "metadata": {
        "colab": {
          "base_uri": "https://localhost:8080/"
        },
        "id": "XfqXYe4KqqH2",
        "outputId": "9c1248f2-409a-43c2-ab1f-945703856a80"
      },
      "execution_count": 22,
      "outputs": [
        {
          "output_type": "stream",
          "name": "stdout",
          "text": [
            "Enter the first number: 12\n",
            "Enter the second number: 12\n",
            "enter the list index: 6\n",
            "Result: 1.0\n",
            "list index out of range\n"
          ]
        }
      ]
    },
    {
      "cell_type": "markdown",
      "source": [
        "**Can we use multiple exception blocks, if yes then give an example.**\n",
        "\n",
        "Ans)\n",
        "\n",
        "Yes, you can use multiple except blocks to handle different types of exceptions. When multiple exceptions could be raised by the code inside a try block, using multiple except blocks allows you to handle each type of exception in a specific way."
      ],
      "metadata": {
        "id": "l0egzUITrbfy"
      }
    },
    {
      "cell_type": "code",
      "source": [
        "try:\n",
        "    numerator = float(input(\"Enter the numerator: \"))\n",
        "    denominator = float(input(\"Enter the denominator: \"))\n",
        "\n",
        "    result = numerator / denominator\n",
        "    print(f\"Result: {result}\")\n",
        "\n",
        "except ZeroDivisionError:\n",
        "    print(\"Denominator cannot be zero!\")\n",
        "except ValueError:\n",
        "    print(\"Please enter a valid number.\")\n"
      ],
      "metadata": {
        "colab": {
          "base_uri": "https://localhost:8080/"
        },
        "id": "bEyMW8ygriNl",
        "outputId": "1086b646-109e-41ee-e104-efddc5b45449"
      },
      "execution_count": 23,
      "outputs": [
        {
          "output_type": "stream",
          "name": "stdout",
          "text": [
            "Enter the numerator: 12\n",
            "Enter the denominator: 0\n",
            "Denominator cannot be zero!\n"
          ]
        }
      ]
    },
    {
      "cell_type": "markdown",
      "source": [
        "**Write the reason due to which following errors are raised:**\n",
        "\n",
        "**a. EOFError**\n",
        "\n",
        "**b. FloatingPointError**\n",
        "\n",
        "**c. IndexError**\n",
        "\n",
        "**d. MemoryError**\n",
        "\n",
        "**e. OverflowError**\n",
        "\n",
        "**f. TabError**\n",
        "\n",
        "**g. ValueError**\n",
        "\n",
        "Ans)\n",
        "\n",
        "**a. EOFError:**\n",
        "\n",
        "Raised when one of the built-in functions (input() or raw_input() in Python 2.x) hits an end-of-file condition (EOF) without reading any data.\n",
        "This can happen, for example, when a file ends while a program is trying to read from it, or if the user hits Ctrl-D (on Unix) or Ctrl-Z (on Windows) during the execution of input().\n",
        "\n",
        "**b. FloatingPointError:**\n",
        "\n",
        "Raised when a floating point operation fails.\n",
        "This error is not usually encountered in the default configuration as Python's floating-point operations typically do not raise exceptions even when they produce NaN (Not a Number) or infinity.\n",
        "However, if Python is started with the -X or --check-float command line options, this error will be raised on invalid floating-point operations.\n",
        "\n",
        "**c. IndexError:**\n",
        "\n",
        "Raised when trying to access an index which is outside the bounds of a list or other sequence type.\n",
        "Commonly seen when using lists, strings, or tuples and trying to access an element using an out-of-range index.\n",
        "\n",
        "**d. MemoryError:**\n",
        "\n",
        "Raised when an operation runs out of memory.\n",
        "This error might come up when trying to create a data structure that's too large, or during large computations that consume all available memory.\n",
        "\n",
        "**e. OverflowError:**\n",
        "\n",
        "Raised when the result of an arithmetic operation exceeds the limits for the data type.\n",
        "Commonly encountered in older versions of Python when working with long integers. However, in modern Python versions (Python 3.x), integers have arbitrary precision, so this error is mostly seen for floating-point overflows.\n",
        "\n",
        "**f. TabError:**\n",
        "\n",
        "Raised when there's inconsistent use of tabs and spaces in indentation.\n",
        "Commonly seen when a Python script mixes spaces and tabs for indentation, especially if the code was edited using different text editors that treat tabs and spaces differently.\n",
        "\n",
        "**g. ValueError:**\n",
        "\n",
        "Raised when a function receives an argument of the correct type but an inappropriate value.\n",
        "Common examples include trying to convert a non-numeric string to an integer using int(), or calling a function/method with a value that isn't allowed.\n",
        "\n"
      ],
      "metadata": {
        "id": "G5Hu4jPgroiY"
      }
    },
    {
      "cell_type": "markdown",
      "source": [
        "**Write code for the following given scenario and add try-exception block to it.**\n",
        "\n",
        "**a. Program to divide two numbers**\n",
        "\n",
        "**b. Program to convert a string to an integer**\n",
        "\n",
        "**c. Program to access an element in a list**\n",
        "\n",
        "**d. Program to handle a specific exception**\n",
        "\n",
        "**e. Program to handle any exception**\n"
      ],
      "metadata": {
        "id": "6km_IcDQsfTM"
      }
    },
    {
      "cell_type": "code",
      "source": [
        "def divide_numbers():\n",
        "    try:\n",
        "        num1 = float(input(\"Enter the first number: \"))\n",
        "        num2 = float(input(\"Enter the second number: \"))\n",
        "        result = num1 / num2\n",
        "        print(f\"Result: {result}\\n\")\n",
        "    except ZeroDivisionError:\n",
        "        print(\"You can't divide by zero!\\n\")\n",
        "    except ValueError:\n",
        "        print(\"Please enter a valid number.\\n\")\n",
        "\n",
        "def convert_string():\n",
        "    try:\n",
        "        string_value = input(\"Enter a string to convert to integer: \")\n",
        "        int_value = int(string_value)\n",
        "        print(f\"Converted integer value: {int_value}\\n\")\n",
        "    except ValueError:\n",
        "        print(\"The provided string cannot be converted to an integer.\\n\")\n",
        "\n",
        "def access_element():\n",
        "    numbers = [10, 20, 30, 40, 50]\n",
        "    try:\n",
        "        index = int(input(\"Enter the index of the element you want to access: \"))\n",
        "        print(f\"Element at index {index}: {numbers[index]}\\n\")\n",
        "    except IndexError:\n",
        "        print(f\"Invalid index. Please enter a value between 0 and {len(numbers)-1}.\\n\")\n",
        "    except ValueError:\n",
        "        print(\"Please enter a valid integer index.\\n\")\n",
        "\n",
        "def handle_specific_exception():\n",
        "    try:\n",
        "        result = \"hello\" + 5\n",
        "    except TypeError:\n",
        "        print(\"There was a type mismatch in the operation.\\n\")\n",
        "\n",
        "def handle_generic_exception():\n",
        "    try:\n",
        "        print(unknown_variable)\n",
        "    except Exception as e:\n",
        "        print(f\"An error occurred: {e}\\n\")\n",
        "\n",
        "# Run the functions\n",
        "divide_numbers()\n",
        "convert_string()\n",
        "access_element()\n",
        "handle_specific_exception()\n",
        "handle_generic_exception()\n"
      ],
      "metadata": {
        "colab": {
          "base_uri": "https://localhost:8080/"
        },
        "id": "VIYjhOJAsr1h",
        "outputId": "16bd842a-8865-489c-82fd-dc4860c0cb2f"
      },
      "execution_count": 24,
      "outputs": [
        {
          "output_type": "stream",
          "name": "stdout",
          "text": [
            "Enter the first number: 10\n",
            "Enter the second number: 20\n",
            "Result: 0.5\n",
            "\n",
            "Enter a string to convert to integer: 12\n",
            "Converted integer value: 12\n",
            "\n",
            "Enter the index of the element you want to access: 4\n",
            "Element at index 4: 50\n",
            "\n",
            "There was a type mismatch in the operation.\n",
            "\n",
            "An error occurred: name 'unknown_variable' is not defined\n",
            "\n"
          ]
        }
      ]
    },
    {
      "cell_type": "code",
      "source": [],
      "metadata": {
        "id": "JcLW9fj8tA8H"
      },
      "execution_count": null,
      "outputs": []
    }
  ]
}