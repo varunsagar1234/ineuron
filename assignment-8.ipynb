{
  "nbformat": 4,
  "nbformat_minor": 0,
  "metadata": {
    "colab": {
      "provenance": []
    },
    "kernelspec": {
      "name": "python3",
      "display_name": "Python 3"
    },
    "language_info": {
      "name": "python"
    }
  },
  "cells": [
    {
      "cell_type": "markdown",
      "source": [
        "**In Python, what is the difference between a built-in function and a user-defined function? Provide an\n",
        "example of each.**\n",
        "\n",
        "Ans)\n",
        "\n",
        "**Built-in Functions:**\n",
        "\n",
        "Built-in functions are those that are predefined and come with the Python standard library. You don't need to define them before using them. They are always available for use once you start a Python interpreter or a script. Python provides a rich set of built-in functions like print(), len(), type(), sum(), etc.\n",
        "\n",
        "**User-defined Functions:**\n",
        "\n",
        "User-defined functions are those that are defined by the user (programmer) themselves. These functions are created to execute a specific task or a group of related tasks. You can define a function using the def keyword."
      ],
      "metadata": {
        "id": "ZOcpy-DtH7vd"
      }
    },
    {
      "cell_type": "code",
      "source": [
        "#built in function\n",
        "my_list = [1, 2, 3, 4, 5]\n",
        "length = len(my_list)#buitlt in length function\n",
        "s=sum(my_list)#sum of all elements\n",
        "print(s)\n",
        "print(length)"
      ],
      "metadata": {
        "colab": {
          "base_uri": "https://localhost:8080/"
        },
        "id": "y46BRtbtINKs",
        "outputId": "20ef042d-1683-48b3-8a1c-a3062175885d"
      },
      "execution_count": null,
      "outputs": [
        {
          "output_type": "stream",
          "name": "stdout",
          "text": [
            "15\n",
            "5\n"
          ]
        }
      ]
    },
    {
      "cell_type": "code",
      "source": [
        "# Defining a function to calculate the square of a number\n",
        "def square(number):\n",
        "    return number * number\n",
        "\n",
        "# Calling the function\n",
        "result = square(5)\n",
        "print(result)  # Outputs: 25\n"
      ],
      "metadata": {
        "colab": {
          "base_uri": "https://localhost:8080/"
        },
        "id": "O2elYE_pIXPD",
        "outputId": "ab745a45-322e-4339-abaa-2abee5510f5e"
      },
      "execution_count": null,
      "outputs": [
        {
          "output_type": "stream",
          "name": "stdout",
          "text": [
            "25\n"
          ]
        }
      ]
    },
    {
      "cell_type": "markdown",
      "source": [
        "**How can you pass arguments to a function in Python? Explain the difference between positional arguments and keyword arguments.**\n",
        "\n",
        "Ans)\n",
        "\n",
        "Passing Arguments to a Function in Python:\n",
        "\n",
        "When you define a function, you can specify the parameters it accepts. These parameters act as placeholders for actual values (or arguments) you'll provide when you call the function. There are various ways you can pass these arguments:\n",
        "\n",
        "**Positional Arguments**: These are arguments passed to the function in the correct positional order. The order in which you pass the values is the order in which they are assigned to the parameters inside the function.\n",
        "\n",
        "**Keyword Arguments**: These are arguments passed to the function by explicitly naming each one in the form of key=value. The order in which they're passed doesn't matter since the function knows which values belong to which parameters based on their names.\n",
        "\n",
        "Differences between Positional and Keyword Arguments:\n",
        "\n",
        "**Order vs. Naming:**\n",
        "\n",
        "Positional Arguments: Their position or order is important. The first argument passed in the function call will be assigned to the first parameter in the function definition, the second argument to the second parameter, and so on.\n",
        "\n",
        "Keyword Arguments: They are identified by the parameter name, so the order does not matter.\n",
        "\n",
        "**Syntax:**\n",
        "\n",
        "Positional Arguments: They are passed directly, separated by commas.\n",
        "\n",
        "Keyword Arguments: They are passed using the key=value format.\n",
        "\n",
        "**Note:**\n",
        "\n",
        "Remember, while calling a function, positional arguments should always be specified before keyword arguments. Mixing the order can result in syntax errors."
      ],
      "metadata": {
        "id": "bQNxRx5hI61b"
      }
    },
    {
      "cell_type": "code",
      "source": [
        "#A user defined function\n",
        "def display_info(name, age, profession):\n",
        "    print(f\"Name: {name}\")\n",
        "    print(f\"Age: {age}\")\n",
        "    print(f\"Profession: {profession}\")\n"
      ],
      "metadata": {
        "id": "nNBs1GPsJY5J"
      },
      "execution_count": null,
      "outputs": []
    },
    {
      "cell_type": "code",
      "source": [
        "#Using Positional Arguments:\n",
        "display_info(\"Alice\", 28, \"Engineer\")\n"
      ],
      "metadata": {
        "colab": {
          "base_uri": "https://localhost:8080/"
        },
        "id": "2xCjhK0vJZXd",
        "outputId": "f8604015-6e96-44df-a99e-4b4fa2bb21aa"
      },
      "execution_count": null,
      "outputs": [
        {
          "output_type": "stream",
          "name": "stdout",
          "text": [
            "Name: Alice\n",
            "Age: 28\n",
            "Profession: Engineer\n"
          ]
        }
      ]
    },
    {
      "cell_type": "code",
      "source": [
        "#Using Keyword Arguments:\n",
        "display_info(age=28, name=\"Alice\", profession=\"Engineer\")"
      ],
      "metadata": {
        "colab": {
          "base_uri": "https://localhost:8080/"
        },
        "id": "mbfQFdorJdwN",
        "outputId": "41170fa8-a403-44c3-dde8-89d701700e37"
      },
      "execution_count": null,
      "outputs": [
        {
          "output_type": "stream",
          "name": "stdout",
          "text": [
            "Name: Alice\n",
            "Age: 28\n",
            "Profession: Engineer\n"
          ]
        }
      ]
    },
    {
      "cell_type": "markdown",
      "source": [
        " **What is the purpose of the return statement in a function? Can a function have multiple return\n",
        "statements? Explain with an example.**\n",
        "\n",
        "Ans)The return statement in a function purpose is to Exit the Function.When the return statement is executed, the function terminates immediately, and execution returns to the caller.\n",
        "\n",
        "**Can a function have multiple return statements?**\n",
        "\n",
        "Yes, a function can have multiple return statements. However, once any of the return statements is executed, the function terminates immediately, and no further code within that function is executed. Multiple return statements are often used in conjunction with conditional statements (like if-elif-else) to return different values based on specific conditions."
      ],
      "metadata": {
        "id": "njROmXRuJ0My"
      }
    },
    {
      "cell_type": "code",
      "source": [
        "def check_number(n):\n",
        "    if n > 0:\n",
        "        return \"Positive\"\n",
        "    elif n < 0:\n",
        "        return \"Negative\"\n",
        "    else:\n",
        "        return \"Zero\"\n",
        "\n",
        "# Test the function\n",
        "print(check_number(5))    # Outputs: Positive\n",
        "print(check_number(-3))   # Outputs: Negative\n",
        "print(check_number(0))    # Outputs: Zero\n"
      ],
      "metadata": {
        "colab": {
          "base_uri": "https://localhost:8080/"
        },
        "id": "Exlbw-nCKT4E",
        "outputId": "2c1b8009-97b3-4f56-e5ed-959a11b243ec"
      },
      "execution_count": null,
      "outputs": [
        {
          "output_type": "stream",
          "name": "stdout",
          "text": [
            "Positive\n",
            "Negative\n",
            "Zero\n"
          ]
        }
      ]
    },
    {
      "cell_type": "markdown",
      "source": [
        "**What are lambda functions in Python? How are they different from regular functions? Provide an\n",
        "example where a lambda function can be useful.**\n",
        "\n",
        "Ans)\n",
        "\n",
        "Lambda functions in Python are a way to create small, anonymous functions, i.e., functions without a name. They are also known as lambda expressions. They can have any number of arguments but can only have one expression. The expression is evaluated and returned when the lambda function is called.\n",
        "\n",
        "**Differences between lambda functions and regular functions:**\n",
        "\n",
        "1)Regular functions are defined using the def keyword, while lambda functions are defined using the lambda keyword.\n",
        "\n",
        "\n",
        "2)Lambda functions can have only one expression, but regular functions can have multiple statements.\n",
        "\n",
        "3)In lambda functions, the expression is returned implicitly, but in regular functions, you use the return statement to return values.\n",
        "\n",
        "Lambda functions are particularly useful when you want a short, temporary function without going to the trouble of formally defining a full function.\n",
        "\n",
        "One common use case is when working with functions like sorted, filter, and map where you need a small function for a short period and don't want to formally define it using def."
      ],
      "metadata": {
        "id": "_OQ4CK5rKYYa"
      }
    },
    {
      "cell_type": "code",
      "source": [
        "people = [('John', 35), ('Doe', 25), ('Jane', 30)]\n",
        "sorted_people = sorted(people, key=lambda person: person[1])\n",
        "print(sorted_people)  # Output: [('Doe', 25), ('Jane', 30), ('John', 35)]"
      ],
      "metadata": {
        "colab": {
          "base_uri": "https://localhost:8080/"
        },
        "id": "F0quvP1FkNWr",
        "outputId": "37b68ec0-0668-4b9c-de5a-fa967663232e"
      },
      "execution_count": 1,
      "outputs": [
        {
          "output_type": "stream",
          "name": "stdout",
          "text": [
            "[('Doe', 25), ('Jane', 30), ('John', 35)]\n"
          ]
        }
      ]
    },
    {
      "cell_type": "markdown",
      "source": [
        "**How does the concept of \"scope\" apply to functions in Python? Explain the difference between local\n",
        "scope and global scope.**\n",
        "\n",
        "Ans)\n",
        "\n",
        "The concept of \"scope\" in programming refers to the region or section of the code where a variable can be accessed or modified. In Python, the scope of a variable determines its visibility throughout the code. The two most common scopes in Python are the local scope and the global scope.\n",
        "\n",
        "**Local Scope:**\n",
        "\n",
        "1)A variable created inside a function belongs to the local scope of that function and can only be accessed and modified within that function.\n",
        "\n",
        "2)The variable's existence starts when the function is called and ends when the function returns or completes its execution. After that, the variable is destroyed, and any reference to it will cause a NameError.\n",
        "\n",
        "3)Variables defined in the local scope are not visible or accessible outside of that function.\n",
        "\n",
        "**Global Scope:**\n",
        "\n",
        "1)A variable created outside of all functions, at the top level of a module or script, is said to have a global scope. This means it is visible throughout the module or script and can be accessed (and potentially modified) by any function within that module or script.\n",
        "\n",
        "2)The variable's existence starts when its declaration is executed and lasts until the program ends or the script completes its execution.\n",
        "\n",
        "3)Any function can access a global variable. However, to modify it within a function, you typically need to declare it as global within that function, or else you'll end up creating a new local variable with the same name."
      ],
      "metadata": {
        "id": "M41UuB_fkidL"
      }
    },
    {
      "cell_type": "code",
      "source": [
        "# This is a global variable\n",
        "global_variable = \"I am global!\"\n",
        "\n",
        "def my_function():\n",
        "    # This is a local variable\n",
        "    local_variable = \"I am local!\"\n",
        "    print(local_variable)  # This will print: I am local!\n",
        "    print(global_variable)  # This will print: I am global!\n",
        "\n",
        "my_function()\n",
        "\n",
        "# print(local_variable)  # This will raise an error because local_variable is not defined in the global scope.\n"
      ],
      "metadata": {
        "colab": {
          "base_uri": "https://localhost:8080/"
        },
        "id": "8sDjFr2tlCXE",
        "outputId": "d99fcf51-d5f4-4a87-e891-651b6cc145de"
      },
      "execution_count": 2,
      "outputs": [
        {
          "output_type": "stream",
          "name": "stdout",
          "text": [
            "I am local!\n",
            "I am global!\n"
          ]
        }
      ]
    },
    {
      "cell_type": "markdown",
      "source": [
        "**How can you use the \"return\" statement in a Python function to return multiple values?**\n",
        "\n",
        "Ans)\n",
        "\n",
        "Function can return multiple values using tuples (or other data structures like lists or dictionaries). When you return multiple values separated by commas, Python automatically packs them into a tuple. The caller of the function can then unpack these values into separate variables.\n",
        "\n"
      ],
      "metadata": {
        "id": "HMCxASIBlU1D"
      }
    },
    {
      "cell_type": "code",
      "source": [
        "def min_max(numbers):\n",
        "    return min(numbers), max(numbers)\n",
        "\n",
        "# Calling the function\n",
        "numbers_list = [3, 1, 4, 1, 5, 9, 2, 6, 5, 3, 5]\n",
        "min, max = min_max(numbers_list)\n",
        "\n",
        "print(\"Minimum Value:\", min)\n",
        "print(\"Maximum Value:\", max)\n"
      ],
      "metadata": {
        "colab": {
          "base_uri": "https://localhost:8080/"
        },
        "id": "cWIFh_Mdlfe0",
        "outputId": "4aeed490-0a6c-4e4b-88ae-2fb4a323e9c8"
      },
      "execution_count": 4,
      "outputs": [
        {
          "output_type": "stream",
          "name": "stdout",
          "text": [
            "Minimum Value: 1\n",
            "Maximum Value: 9\n"
          ]
        }
      ]
    },
    {
      "cell_type": "markdown",
      "source": [
        " **What is the difference between the \"pass by value\" and \"pass by reference\" concepts when it\n",
        "comes to function arguments in Python?**\n",
        "\n",
        "Ans)\n",
        "\n",
        "**Pass by Value:**\n",
        "\n",
        "In languages that use pass by value, a copy of the actual value is passed to the function.Any changes made to the function argument do not affect the original value outside the function.\n",
        "\n",
        "\n",
        "Pass by Reference:\n",
        "\n",
        "In languages that use pass by reference, a reference (or memory address) to the original value is passed to the function.\n",
        "Any changes made to the function argument directly affect the original value outside the function."
      ],
      "metadata": {
        "id": "n_p4YyABlpIE"
      }
    },
    {
      "cell_type": "code",
      "source": [
        "#\"Pass by Value\" Behavior (Using Immutable Types)\n",
        "def modify_string(s):\n",
        "    s = \"Hello, World!\"\n",
        "    print(\"Inside function:\", s)\n",
        "\n",
        "text = \"Original Text\"\n",
        "print(\"Before function:\", text)  # Outputs: Original Text\n",
        "\n",
        "modify_string(text)\n",
        "\n",
        "print(\"After function:\", text)   # Outputs: Original Text\n"
      ],
      "metadata": {
        "colab": {
          "base_uri": "https://localhost:8080/"
        },
        "id": "rbLjD7CvmZtQ",
        "outputId": "50dac192-48b9-46bd-920d-0887f2e4f82e"
      },
      "execution_count": 7,
      "outputs": [
        {
          "output_type": "stream",
          "name": "stdout",
          "text": [
            "Before function: Original Text\n",
            "Inside function: Hello, World!\n",
            "After function: Original Text\n"
          ]
        }
      ]
    },
    {
      "cell_type": "code",
      "source": [
        "#\"Pass by Reference\" Behavior (Using Mutable Types)\n",
        "def modify_list(lst):\n",
        "    lst.append(100)\n",
        "    print(\"Inside function:\", lst)\n",
        "\n",
        "numbers = [1, 2, 3]\n",
        "print(\"Before function:\", numbers)  # Outputs: [1, 2, 3]\n",
        "\n",
        "modify_list(numbers)\n",
        "\n",
        "print(\"After function:\", numbers)   # Outputs: [1, 2, 3, 100]\n"
      ],
      "metadata": {
        "colab": {
          "base_uri": "https://localhost:8080/"
        },
        "id": "iXuHU_mPmaG9",
        "outputId": "78f95f6d-04d2-4012-caf1-2fdfdc788d0f"
      },
      "execution_count": 8,
      "outputs": [
        {
          "output_type": "stream",
          "name": "stdout",
          "text": [
            "Before function: [1, 2, 3]\n",
            "Inside function: [1, 2, 3, 100]\n",
            "After function: [1, 2, 3, 100]\n"
          ]
        }
      ]
    },
    {
      "cell_type": "markdown",
      "source": [
        "**Create a function that can intake integer or decimal value and do following operations:**\n",
        "\n",
        "**a. Logarithmic function (log x)**\n",
        "\n",
        "**b. Exponential function (exp(x))**\n",
        "\n",
        "**c. Power function with base 2 (2x)**\n",
        "\n",
        "**d. Square root**\n"
      ],
      "metadata": {
        "id": "CxQkD8bXmmtm"
      }
    },
    {
      "cell_type": "code",
      "source": [
        "import math\n",
        "\n",
        "def compute_values(x):\n",
        "    if(x==0):\n",
        "      return \"invalid\",0,0,0\n",
        "    log_val = math.log(x)\n",
        "    exp_val = math.exp(x)\n",
        "    power_val = 2**x\n",
        "    sqrt_val = math.sqrt(x)\n",
        "\n",
        "    return log_val, exp_val, power_val, sqrt_val\n",
        "\n",
        "# Testing the function\n",
        "x = float(input(\"Enter a number (integer or decimal): \"))\n",
        "\n",
        "log_val, exp_val, power_val, sqrt_val = compute_values(x)\n",
        "print(f\"Logarithmic value (log x): {log_val}\")\n",
        "print(f\"Exponential value (exp(x)): {exp_val}\")\n",
        "print(f\"Power function with base 2 (2^x): {power_val}\")\n",
        "print(f\"Square root: {sqrt_val}\")\n"
      ],
      "metadata": {
        "colab": {
          "base_uri": "https://localhost:8080/"
        },
        "id": "Pxpg06Zrm7sP",
        "outputId": "44dcddc1-301a-404a-d1b0-9037dca4a547"
      },
      "execution_count": 11,
      "outputs": [
        {
          "output_type": "stream",
          "name": "stdout",
          "text": [
            "Enter a number (integer or decimal): 12\n",
            "Logarithmic value (log x): 2.4849066497880004\n",
            "Exponential value (exp(x)): 162754.79141900392\n",
            "Power function with base 2 (2^x): 4096.0\n",
            "Square root: 3.4641016151377544\n"
          ]
        }
      ]
    },
    {
      "cell_type": "markdown",
      "source": [
        "**Create a function that takes a full name as an argument and returns first name and last name.**"
      ],
      "metadata": {
        "id": "iVOh89p7nR-h"
      }
    },
    {
      "cell_type": "code",
      "source": [
        "def split_name(full_name):\n",
        "    first_name, last_name = full_name.split(\" \")\n",
        "    return first_name, last_name\n",
        "\n",
        "# Testing the function\n",
        "name = \"John Doe\"\n",
        "first_name, last_name = split_name(name)\n",
        "print(f\"First Name: {first_name}\")\n",
        "print(f\"Last Name: {last_name}\")\n"
      ],
      "metadata": {
        "colab": {
          "base_uri": "https://localhost:8080/"
        },
        "id": "wUKyMOCVnb_G",
        "outputId": "93183e27-b9e4-4842-e817-7947e932b86d"
      },
      "execution_count": 13,
      "outputs": [
        {
          "output_type": "stream",
          "name": "stdout",
          "text": [
            "First Name: John\n",
            "Last Name: Doe\n"
          ]
        }
      ]
    }
  ]
}