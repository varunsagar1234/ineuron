{
  "nbformat": 4,
  "nbformat_minor": 0,
  "metadata": {
    "colab": {
      "provenance": []
    },
    "kernelspec": {
      "name": "python3",
      "display_name": "Python 3"
    },
    "language_info": {
      "name": "python"
    }
  },
  "cells": [
    {
      "cell_type": "markdown",
      "source": [
        "**Why are functions advantageous to have in your programs?**\n",
        "\n",
        "Ans)\n",
        "Functions are advantageous to have in programs for several reasons:\n",
        "\n",
        "**Modularity**: Functions allow you to break down a large and complex program into smaller, manageable pieces or modules. This makes the program easier to understand, design, and debug.\n",
        "\n",
        "**Reusability**: Once a function is defined, it can be reused multiple times throughout the program or even in other programs. This eliminates the need to rewrite the same code, leading to shorter and more maintainable code.\n",
        "\n",
        "**Abstraction**: Functions encapsulate a specific task or functionality, hiding the complex details from the user or developer. By calling a function by its name, you don't need to know the intricate details of how it achieves its task, allowing you to think at a higher level.\n",
        "\n",
        "**Easier Debugging**: When a problem arises in a program, having functions can help localize where the issue is. Instead of navigating through thousands of lines of code, you can pinpoint a specific function to identify and rectify the error.\n",
        "\n",
        "\n",
        "**Improved Collaboration**: In large projects with multiple developers, functions allow for a distributed approach to software development. Different team members can work on different functions, and as long as the function interfaces (how you call the functions and what they return) are clear, these can be integrated seamlessly."
      ],
      "metadata": {
        "id": "lMTiPEMG2ZX0"
      }
    },
    {
      "cell_type": "markdown",
      "source": [
        "**When does the code in a function run: when it&#39;s specified or when it&#39;s called?**\n",
        "\n",
        "Ans)\n",
        "The code in a function runs when the function is called, not when the function is specified (or defined).\n",
        "\n",
        "**Function Definition**: When you define a function, you are telling the program what the function does. At this point, the function's code doesn't execute. Instead, the program simply remembers the instructions provided in the function for later use.\n",
        "\n",
        "**Function Call**: Once the function is defined, you can call (or invoke) it by its name, followed by parentheses (). It's at this moment that the function's code actually runs."
      ],
      "metadata": {
        "id": "RdIe5twW20ag"
      }
    },
    {
      "cell_type": "code",
      "source": [
        "def function(a):#function def\n",
        "  s=10\n",
        "  return s+a\n",
        "function(10)#function call\n",
        "function(20)"
      ],
      "metadata": {
        "colab": {
          "base_uri": "https://localhost:8080/"
        },
        "id": "NXZC66wgBSC6",
        "outputId": "0dd9c0c4-fe9a-40de-e735-c9c466fb5157"
      },
      "execution_count": 1,
      "outputs": [
        {
          "output_type": "execute_result",
          "data": {
            "text/plain": [
              "30"
            ]
          },
          "metadata": {},
          "execution_count": 1
        }
      ]
    },
    {
      "cell_type": "markdown",
      "source": [
        "**What statement creates a function?**\n",
        "\n",
        "Ans)\n",
        "The statement that creates a function in Python is the def statement. The term \"def\" stands for \"define\".\n",
        "syntax:\n",
        "def function_name(parameters):\n",
        "\n",
        "**function_name**: This is the name of the function. By convention, function names should be lowercase with words separated by underscores.\n",
        "\n",
        "**parameters**: These are variables listed inside the parentheses. They allow data to be passed into the function. If there are no parameters, you still need the parentheses, but they can be empty.\n"
      ],
      "metadata": {
        "id": "I41kYVGOBl99"
      }
    },
    {
      "cell_type": "code",
      "source": [
        "def add(a,b):\n",
        "  return a+b\n",
        "print(add(5,5))"
      ],
      "metadata": {
        "colab": {
          "base_uri": "https://localhost:8080/"
        },
        "id": "RAWYDrO9CABL",
        "outputId": "7b024b04-61bc-4e7d-fc09-0497b7dcbd1e"
      },
      "execution_count": 3,
      "outputs": [
        {
          "output_type": "stream",
          "name": "stdout",
          "text": [
            "10\n"
          ]
        }
      ]
    },
    {
      "cell_type": "markdown",
      "source": [
        "**What is the difference between a function and a function call?**\n",
        "\n",
        "Ans)The primary distinction between the two is that a function is a set of instructions defined in the code, while a function call is an explicit request to execute that set of instructions. In other words, just defining a function doesn't cause its code to run; you must call the function to make that happen."
      ],
      "metadata": {
        "id": "wxRZtdkqCI93"
      }
    },
    {
      "cell_type": "code",
      "source": [
        "#Function\n",
        "def cube(x):\n",
        "  \treturn x*x*x\n",
        "#Function Call\n",
        "(cube(5))"
      ],
      "metadata": {
        "colab": {
          "base_uri": "https://localhost:8080/"
        },
        "id": "57ooxycgCOn9",
        "outputId": "6335b736-b2ac-4a27-d4d6-a9aaf33a8153"
      },
      "execution_count": 6,
      "outputs": [
        {
          "output_type": "execute_result",
          "data": {
            "text/plain": [
              "125"
            ]
          },
          "metadata": {},
          "execution_count": 6
        }
      ]
    },
    {
      "cell_type": "markdown",
      "source": [
        "**How many global scopes are there in a Python program? How many local scopes?**\n",
        "\n",
        "Ans)\n",
        "**Global Scope:**\n",
        "There is only one global scope per execution of a program.Variables defined in this scope are called \"global variables\".They remain in existence until the program terminates.Any function or method can access global variables.\n",
        "\n",
        "**Local Scope:**\n",
        "Each function defines its own local scope.Variables defined in this scope are called \"local variables\".They exist only while the function is running.\n",
        "Once the function execution completes, its local scope, along with all the variables in it, is destroyed (unless they're captured in closures)."
      ],
      "metadata": {
        "id": "M8SIsFhVCei1"
      }
    },
    {
      "cell_type": "code",
      "source": [
        "x = 10  # This is a global variable\n",
        "\n",
        "def function_one():\n",
        "    y = 5  # This is a local variable within function_one\n",
        "\n",
        "    def nested_function():\n",
        "        z = 3\n",
        "        return x+y+z  # This is a local variable within nested_function\n",
        "    return nested_function()\n",
        "(function_one())"
      ],
      "metadata": {
        "colab": {
          "base_uri": "https://localhost:8080/"
        },
        "id": "4DansVhnC225",
        "outputId": "be1c133a-6177-4a2b-ac87-a6cbcc31b5e1"
      },
      "execution_count": 11,
      "outputs": [
        {
          "output_type": "execute_result",
          "data": {
            "text/plain": [
              "18"
            ]
          },
          "metadata": {},
          "execution_count": 11
        }
      ]
    },
    {
      "cell_type": "markdown",
      "source": [
        "**What happens to variables in a local scope when the function call returns?**\n",
        "\n",
        "Ans)\n",
        "When a function call returns, the local scope for that function invocation is destroyed, and all the variables in that local scope are forgotten. This means that the memory associated with those variables is freed up, and those variables no longer exist.If you try to access those local variables outside of the function or after the function has finished executing, you'll get an error because they are no longer defined."
      ],
      "metadata": {
        "id": "AgQbmULcDKWi"
      }
    },
    {
      "cell_type": "markdown",
      "source": [
        "**What is the concept of a return value? Is it possible to have a return value in an expression?**\n",
        "\n",
        "Ans)\n",
        "\n",
        "result of the function's computations or operations. The return statement in a function specifies what value or values should be returned.\n",
        "\n",
        "Once a return statement is executed within a function, the function's execution is immediately terminated, and the specified value is sent back to the caller.\n",
        "\n",
        "Yes, a return value can be used in an expression. When a function is called within an expression, the function will execute, return its value, and that return value will be used in the expression."
      ],
      "metadata": {
        "id": "1lpi6-jNDZsn"
      }
    },
    {
      "cell_type": "code",
      "source": [
        "#Concept of a Return Value\n",
        "def add(x, y):\n",
        "    return x + y\n",
        "\n",
        "result = add(3, 4)  # Here, the function add returns 7, which is then stored in the variable 'result'\n",
        "print(result)"
      ],
      "metadata": {
        "colab": {
          "base_uri": "https://localhost:8080/"
        },
        "id": "XEomzm33DxQW",
        "outputId": "a9ccc95a-d161-408b-ca2f-4c28c7626708"
      },
      "execution_count": 13,
      "outputs": [
        {
          "output_type": "stream",
          "name": "stdout",
          "text": [
            "7\n"
          ]
        }
      ]
    },
    {
      "cell_type": "code",
      "source": [
        "#Return Value in an Expression:\n",
        "def multiply_by_two(n):\n",
        "    return n * 2\n",
        "\n",
        "value = 5 + multiply_by_two(3)  # The function call returns 6, so value becomes 5 + 6 = 11\n",
        "print(value)"
      ],
      "metadata": {
        "colab": {
          "base_uri": "https://localhost:8080/"
        },
        "id": "oO_Jn2x9D2xF",
        "outputId": "f1e6048e-341d-418e-ed02-42099c772009"
      },
      "execution_count": 16,
      "outputs": [
        {
          "output_type": "stream",
          "name": "stdout",
          "text": [
            "11\n"
          ]
        }
      ]
    },
    {
      "cell_type": "markdown",
      "source": [
        "**If a function does not have a return statement, what is the return value of a call to that function?**\n",
        "\n",
        "Ans)\n",
        "If a function does not have a return statement, or if the return statement is present but without an expression/value next to it, the function returns the special value None in Python.\n",
        "\n",
        "None is a built-in constant in Python that represents the absence of a value or a null value. It is an object of its own datatype, the NoneType."
      ],
      "metadata": {
        "id": "XzFY8_S0EFj7"
      }
    },
    {
      "cell_type": "code",
      "source": [
        "def no_return_function():\n",
        "    print(\"This function does not return a value.\")\n",
        "\n",
        "result = no_return_function()\n",
        "print(result)  # This will print: None\n"
      ],
      "metadata": {
        "colab": {
          "base_uri": "https://localhost:8080/"
        },
        "id": "_tObuWF6EPxU",
        "outputId": "42a9c76b-e6d5-4621-c522-aaae22279790"
      },
      "execution_count": 18,
      "outputs": [
        {
          "output_type": "stream",
          "name": "stdout",
          "text": [
            "This function does not return a value.\n",
            "None\n"
          ]
        }
      ]
    },
    {
      "cell_type": "markdown",
      "source": [
        "**How do you make a function variable refer to the global variable?**\n",
        "\n",
        "Ans)\n",
        "To make a function variable refer to a global variable (rather than a local one) in Python, you can use the global keyword before the variable inside the function."
      ],
      "metadata": {
        "id": "yQ7yva0sEZu-"
      }
    },
    {
      "cell_type": "code",
      "source": [
        "# Step 1: Declare a global variable\n",
        "x = 10\n",
        "\n",
        "def modify_global_variable():\n",
        "    # Step 2: Declare x as global inside the function\n",
        "    global x\n",
        "    x = 20\n",
        "\n",
        "print(x)  # This will print 10\n",
        "modify_global_variable()\n",
        "print(x)  # This will print 20, since the function modified the global x\n"
      ],
      "metadata": {
        "colab": {
          "base_uri": "https://localhost:8080/"
        },
        "id": "qg5n8jlNEjxm",
        "outputId": "bdfd42bc-4e6b-43f8-c889-d72cd4ff05d4"
      },
      "execution_count": 19,
      "outputs": [
        {
          "output_type": "stream",
          "name": "stdout",
          "text": [
            "10\n",
            "20\n"
          ]
        }
      ]
    },
    {
      "cell_type": "markdown",
      "source": [
        "**What is the data type of None?**\n",
        "\n",
        "Ans)The data type of None in Python is NoneType."
      ],
      "metadata": {
        "id": "x4t8GS2jE316"
      }
    },
    {
      "cell_type": "markdown",
      "source": [
        "**What does the sentence import areallyourpetsnamederic do?**\n",
        "\n",
        "Ans)The sentence import areallyourpetsnamederic is a Python import statement. It attempts to import a module named areallyourpetsnamederic."
      ],
      "metadata": {
        "id": "-ll-solHFTwY"
      }
    },
    {
      "cell_type": "markdown",
      "source": [
        "**If you had a bacon() feature in a spam module, what would you call it after importing spam?**\n",
        "\n",
        "Ans)If you have a feature (which could be a function, class, or variable) named bacon() inside a module named spam, after importing the spam module, you would call it using the module's name as a prefix, followed by a dot (.), and then the feature's name.\n",
        "\n",
        "Here's how you would do it:\n",
        "\n",
        "import spam\n",
        "\n",
        "spam.bacon()\n"
      ],
      "metadata": {
        "id": "xzIdQetXFooP"
      }
    },
    {
      "cell_type": "markdown",
      "source": [
        "**What can you do to save a programme from crashing if it encounters an error?**\n",
        "\n",
        "Ans)\n",
        "To prevent a program from crashing when it encounters an error, you can use exception handling mechanisms. In Python, the primary tools for this are the try, except, else, and finally statements.\n",
        "\n",
        "Here's a basic overview:\n",
        "\n",
        "**try Block**: You wrap the suspicious or potentially error-prone code inside a try block.\n",
        "\n",
        "**except Block**: If an error (exception) occurs inside the try block, the code inside the except block is executed. This block can handle the error or take some corrective action.\n",
        "\n",
        "**finally Block (optional)**: This block always executes, whether an exception occurred or not. It's typically used for cleanup actions, like closing files or releasing resources."
      ],
      "metadata": {
        "id": "-T4yKt7xGDQN"
      }
    },
    {
      "cell_type": "code",
      "source": [
        "def safe_divide(a, b):\n",
        "    try:\n",
        "        result = a / b\n",
        "        print(result)\n",
        "    except ZeroDivisionError:\n",
        "        print(\"Cannot divide by zero!\")\n",
        "        return None\n",
        "    else:\n",
        "        return result\n",
        "    finally:\n",
        "        print(\"Execution of safe_divide completed.\")\n",
        "safe_divide(5,2)\n",
        "safe_divide(5,0)"
      ],
      "metadata": {
        "colab": {
          "base_uri": "https://localhost:8080/"
        },
        "id": "Es5mSrWfGTcv",
        "outputId": "935d6c33-fe21-4a7c-dafd-293458d9163f"
      },
      "execution_count": 23,
      "outputs": [
        {
          "output_type": "stream",
          "name": "stdout",
          "text": [
            "2.5\n",
            "Execution of safe_divide completed.\n",
            "Cannot divide by zero!\n",
            "Execution of safe_divide completed.\n"
          ]
        }
      ]
    },
    {
      "cell_type": "markdown",
      "source": [
        "**What is the purpose of the try clause? What is the purpose of the except clause?**\n",
        "\n",
        "Ans)The try and except clauses in Python are used for exception handling, allowing programs to deal with unexpected situations gracefully. Their purposes are:\n",
        "\n",
        "**Try Block:**The main purpose of the try clause is to allow you to test a block of code for errors. The code inside the try block is the code that you suspect might raise an exception or cause an error during the program's execution.\n",
        "\n",
        "**Except Block:**The main purpose of the except clause is to handle the error or exception that was raised in the corresponding try block. It provides a way to execute certain code when a specific exception occurs, thereby preventing the program from crashing and possibly providing a helpful message or alternative course of action."
      ],
      "metadata": {
        "id": "lh2Lf0ZAGo7A"
      }
    }
  ]
}