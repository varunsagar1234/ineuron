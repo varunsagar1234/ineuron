{
  "nbformat": 4,
  "nbformat_minor": 0,
  "metadata": {
    "colab": {
      "provenance": []
    },
    "kernelspec": {
      "name": "python3",
      "display_name": "Python 3"
    },
    "language_info": {
      "name": "python"
    }
  },
  "cells": [
    {
      "cell_type": "markdown",
      "source": [
        "**What exactly is []?**\n",
        "\n",
        "Ans)The empty list represented by [] is a list that contains no items."
      ],
      "metadata": {
        "id": "DzhvwdouVzfk"
      }
    },
    {
      "cell_type": "code",
      "source": [
        "# Python program to declare\n",
        "# empty list\n",
        "\n",
        "\n",
        "a = []# list is declared\n",
        "\n",
        "print(\"Values of a:\", a)\n",
        "print(\"Type of a:\", type(a))\n",
        "print(\"Size of a:\", len(a))\n",
        "a.append(1)\n",
        "a.append(2)\n",
        "print(\"Size of a:\", len(a))"
      ],
      "metadata": {
        "colab": {
          "base_uri": "https://localhost:8080/"
        },
        "id": "gNNU8bT2V-ml",
        "outputId": "e25f06c3-ebaa-44e8-a143-cd2f2ed8acc2"
      },
      "execution_count": 2,
      "outputs": [
        {
          "output_type": "stream",
          "name": "stdout",
          "text": [
            "Values of a: []\n",
            "Type of a: <class 'list'>\n",
            "Size of a: 0\n",
            "Size of a: 2\n"
          ]
        }
      ]
    },
    {
      "cell_type": "markdown",
      "source": [
        "**In a list of values stored in a variable called spam, how would you assign the value 'hello' as the third value? (Assume [2, 4, 6, 8, 10] are in spam.)**\n",
        "\n",
        "Ans)spam[2]='hello' (Note: Lists follows zero based indexing)"
      ],
      "metadata": {
        "id": "RPT46xcuWL38"
      }
    },
    {
      "cell_type": "code",
      "source": [
        "# Example\n",
        "spam=[2,4,6,8,10]\n",
        "print(spam)\n",
        "spam[2]='hello'\n",
        "print(spam)"
      ],
      "metadata": {
        "colab": {
          "base_uri": "https://localhost:8080/"
        },
        "id": "16HXztx6WRZk",
        "outputId": "e80c264e-c229-4137-9ccb-4a5ab5b3517e"
      },
      "execution_count": 3,
      "outputs": [
        {
          "output_type": "stream",
          "name": "stdout",
          "text": [
            "[2, 4, 6, 8, 10]\n",
            "[2, 4, 'hello', 8, 10]\n"
          ]
        }
      ]
    },
    {
      "cell_type": "markdown",
      "source": [
        "**Let&#39;s pretend the spam includes the list [&#39;a&#39;, &#39;b&#39;, &#39;c&#39;, &#39;d&#39;] for the next three queries.**"
      ],
      "metadata": {
        "id": "ddKd2wPHWcvQ"
      }
    },
    {
      "cell_type": "markdown",
      "source": [
        " **What is the value of spam[int(int(&#39;3&#39; * 2) / 11)]?**\n",
        "\n",
        " Ans)The inside expression will be geives the anser as 3.so it will return the output of spam[3] which is 'd'"
      ],
      "metadata": {
        "id": "V9osAts-Whn-"
      }
    },
    {
      "cell_type": "code",
      "source": [
        "spam=['a','b','c','d']\n",
        "print(spam[int(int('3'*2)//11)])"
      ],
      "metadata": {
        "colab": {
          "base_uri": "https://localhost:8080/"
        },
        "id": "YXo8RcUsWyDg",
        "outputId": "cbfbe6e3-27f5-474c-9ae9-b5d337e23831"
      },
      "execution_count": 6,
      "outputs": [
        {
          "output_type": "stream",
          "name": "stdout",
          "text": [
            "d\n"
          ]
        }
      ]
    },
    {
      "cell_type": "markdown",
      "source": [
        "**What is the value of spam[-1]?**\n",
        "\n",
        "Ans)It is same as spam[len(spam)-1] so spam[-1] represents the last element of the list."
      ],
      "metadata": {
        "id": "Q9frAzE4XDsH"
      }
    },
    {
      "cell_type": "code",
      "source": [
        "spam=['a','b','c','d']\n",
        "print(spam[-1])"
      ],
      "metadata": {
        "colab": {
          "base_uri": "https://localhost:8080/"
        },
        "id": "9_pDWjx9XS8t",
        "outputId": "0f9c00aa-a825-41b1-d93e-c27b91472e06"
      },
      "execution_count": 9,
      "outputs": [
        {
          "output_type": "stream",
          "name": "stdout",
          "text": [
            "d\n"
          ]
        }
      ]
    },
    {
      "cell_type": "markdown",
      "source": [
        "**What is the value of spam[:2]?**\n",
        "\n",
        "Ans)spam[:2] returns all elements in the list spam from 0 to 2 excluding 2."
      ],
      "metadata": {
        "id": "ia2iDDbeXZYq"
      }
    },
    {
      "cell_type": "code",
      "source": [
        "spam=['a','b','c','d']\n",
        "print(spam[:2])"
      ],
      "metadata": {
        "colab": {
          "base_uri": "https://localhost:8080/"
        },
        "id": "TuJEjM_MXjCV",
        "outputId": "9cdfa0c6-ee1d-4db1-a903-d00d2c1718cb"
      },
      "execution_count": 11,
      "outputs": [
        {
          "output_type": "stream",
          "name": "stdout",
          "text": [
            "['a', 'b']\n"
          ]
        }
      ]
    },
    {
      "cell_type": "markdown",
      "source": [
        "**Let&#39;s pretend bacon has the list [3.14, &#39;cat,&#39; 11, &#39;cat,&#39; True] for the next three questions.**"
      ],
      "metadata": {
        "id": "uFMpBYNvXt4x"
      }
    },
    {
      "cell_type": "markdown",
      "source": [
        "**What is the value of bacon.index(&#39;cat&#39;)?**\n",
        "\n",
        "Ans)The index function will returns the index of the particular element which is been mentioned.If there are duplicates it will return the first most because the function starts from the first point to the end point."
      ],
      "metadata": {
        "id": "p7iDuPFoXwUM"
      }
    },
    {
      "cell_type": "code",
      "source": [
        "bacon=[3.14,'cat',11,'cat',True]\n",
        "print(bacon.index('cat'))"
      ],
      "metadata": {
        "colab": {
          "base_uri": "https://localhost:8080/"
        },
        "id": "XyMVbtWeX-_T",
        "outputId": "e12dfda4-06ea-41c1-cf45-654d59046dc1"
      },
      "execution_count": 13,
      "outputs": [
        {
          "output_type": "stream",
          "name": "stdout",
          "text": [
            "1\n"
          ]
        }
      ]
    },
    {
      "cell_type": "markdown",
      "source": [
        "**How does bacon.append(99) change the look of the list value in bacon?**\n",
        "\n",
        "Ans)the append method adds new elements to the end of the list"
      ],
      "metadata": {
        "id": "zkmvx90xYO6u"
      }
    },
    {
      "cell_type": "code",
      "source": [
        "print(bacon)\n",
        "print(len(bacon))\n",
        "bacon.append(99) # appends 99 to the end of the list\n",
        "print(bacon)\n",
        "print(len(bacon))"
      ],
      "metadata": {
        "colab": {
          "base_uri": "https://localhost:8080/"
        },
        "id": "--mgnR8xYVn0",
        "outputId": "f9e41dfa-9547-4fb4-c657-45235fca4699"
      },
      "execution_count": 15,
      "outputs": [
        {
          "output_type": "stream",
          "name": "stdout",
          "text": [
            "[3.14, 'cat', 11, 'cat', True, 99]\n",
            "6\n",
            "[3.14, 'cat', 11, 'cat', True, 99, 99]\n",
            "7\n"
          ]
        }
      ]
    },
    {
      "cell_type": "markdown",
      "source": [
        "**How does bacon.remove('cat') change the look of the list in bacon?**\n",
        "\n",
        "Ans)the remove method of the list removes the first occurence of the element in the list"
      ],
      "metadata": {
        "id": "qliHDQW2YdZp"
      }
    },
    {
      "cell_type": "code",
      "source": [
        "print(bacon)\n",
        "bacon.remove('cat')\n",
        "print(bacon)"
      ],
      "metadata": {
        "colab": {
          "base_uri": "https://localhost:8080/"
        },
        "id": "LBIspWPzYjyI",
        "outputId": "ba66a64e-2e8b-4af2-83fd-1b5b38b56aa8"
      },
      "execution_count": 16,
      "outputs": [
        {
          "output_type": "stream",
          "name": "stdout",
          "text": [
            "[3.14, 'cat', 11, 'cat', True, 99, 99]\n",
            "[3.14, 11, 'cat', True, 99, 99]\n"
          ]
        }
      ]
    },
    {
      "cell_type": "markdown",
      "source": [
        "**What are the list concatenation and list replication operators?**\n",
        "\n",
        "Ans)\n",
        "\n",
        "**List Concatenation**: Using the + operator, you can combine two lists.\n",
        "\n",
        "**List Replication**: Using the * operator, you can repeat the elements of a list a specified number of times.\n",
        "\n"
      ],
      "metadata": {
        "id": "lRMS0BOGYuY5"
      }
    },
    {
      "cell_type": "code",
      "source": [
        "#List Concatenation\n",
        "list1 = [1, 2, 3]\n",
        "list2 = [4, 5, 6]\n",
        "combined = list1 + list2\n",
        "print(combined)  # Output: [1, 2, 3, 4, 5, 6]\n"
      ],
      "metadata": {
        "colab": {
          "base_uri": "https://localhost:8080/"
        },
        "id": "Wfy5CaI6ZBUZ",
        "outputId": "ae660e74-b73b-4c75-f80a-e53d92f45ef2"
      },
      "execution_count": 18,
      "outputs": [
        {
          "output_type": "stream",
          "name": "stdout",
          "text": [
            "[1, 2, 3, 4, 5, 6]\n"
          ]
        }
      ]
    },
    {
      "cell_type": "code",
      "source": [
        "#List Replication\n",
        "list1 = [1, 2, 3]\n",
        "replicated = list1 * 3\n",
        "print(replicated)  # Output: [1, 2, 3, 1, 2, 3, 1, 2, 3]\n"
      ],
      "metadata": {
        "colab": {
          "base_uri": "https://localhost:8080/"
        },
        "id": "cDrrt2DIZEHy",
        "outputId": "b904064c-afd1-4de7-dc1c-9662e5b287ef"
      },
      "execution_count": 19,
      "outputs": [
        {
          "output_type": "stream",
          "name": "stdout",
          "text": [
            "[1, 2, 3, 1, 2, 3, 1, 2, 3]\n"
          ]
        }
      ]
    },
    {
      "cell_type": "markdown",
      "source": [
        "**What is difference between the list methods append() and insert()?**\n",
        "\n",
        "Ans)Both append() and insert() are methods that can be used with Python lists to add elements, but they serve different purposes:\n",
        "\n",
        "**Append()**:The append() method is used to add an element to the end of the list.\n",
        "It takes one argument, which is the element you want to add.\n",
        "\n",
        "**Insert():**The insert() method is used to add an element at any position in the list.It takes two arguments:\n",
        "\n",
        "The first argument is the index at which the element needs to be added.\n",
        "\n",
        "The second argument is the element you want to add."
      ],
      "metadata": {
        "id": "ubCr0tgQZN8J"
      }
    },
    {
      "cell_type": "code",
      "source": [
        "#append\n",
        "numbers = [1, 2, 3]\n",
        "numbers.append(4)\n",
        "print(numbers)  # Output: [1, 2, 3, 4]\n"
      ],
      "metadata": {
        "colab": {
          "base_uri": "https://localhost:8080/"
        },
        "id": "mT9AiZexZjsT",
        "outputId": "72ca3081-af66-488f-be89-2607561f401c"
      },
      "execution_count": 20,
      "outputs": [
        {
          "output_type": "stream",
          "name": "stdout",
          "text": [
            "[1, 2, 3, 4]\n"
          ]
        }
      ]
    },
    {
      "cell_type": "code",
      "source": [
        "#insert\n",
        "numbers = [1, 2, 4]\n",
        "numbers.insert(2, 3)  # Insert the number 3 at index 2\n",
        "print(numbers)  # Output: [1, 2, 3, 4]\n"
      ],
      "metadata": {
        "colab": {
          "base_uri": "https://localhost:8080/"
        },
        "id": "UPLjrHk6ZlAs",
        "outputId": "244fbd2d-d2c5-4d74-e9a0-7f5f8f8920c6"
      },
      "execution_count": 21,
      "outputs": [
        {
          "output_type": "stream",
          "name": "stdout",
          "text": [
            "[1, 2, 3, 4]\n"
          ]
        }
      ]
    },
    {
      "cell_type": "markdown",
      "source": [
        "**What are the two methods for removing items from a list?**\n",
        "\n",
        "Ans)\n",
        "**Remove()**:\n",
        "\n",
        "The remove() method removes the first occurrence of a value (not an index) from the list.\n",
        "If the specified value is not found, it raises a ValueError.\n",
        "\n",
        "**Syntax**:\n",
        "\n",
        "**list.remove(value)**\n",
        "\n",
        "**pop():**\n",
        "\n",
        "The pop() method removes the item at a specified index and returns that item.If no index is provided, it removes and returns the last item in the list.If the specified index is out of range, it raises an IndexError.\n",
        "\n",
        "**Syntax**:\n",
        "\n",
        "list.pop([index]) where index is optional."
      ],
      "metadata": {
        "id": "4d2oDEdvZ48E"
      }
    },
    {
      "cell_type": "code",
      "source": [
        "#remove\n",
        "numbers = [1, 2, 3, 4, 3]\n",
        "numbers.remove(3)\n",
        "print(numbers)  # Output: [1, 2, 4, 3]\n"
      ],
      "metadata": {
        "colab": {
          "base_uri": "https://localhost:8080/"
        },
        "id": "3oeDdBMcaZ8v",
        "outputId": "e4c99e93-c5c9-4020-cf88-b18a72e83c76"
      },
      "execution_count": 22,
      "outputs": [
        {
          "output_type": "stream",
          "name": "stdout",
          "text": [
            "[1, 2, 4, 3]\n"
          ]
        }
      ]
    },
    {
      "cell_type": "code",
      "source": [
        "#pop\n",
        "numbers = [1, 2, 3, 4]\n",
        "popped_value = numbers.pop(2)\n",
        "print(numbers)      # Output: [1, 2, 4]\n",
        "print(popped_value) # Output: 3\n"
      ],
      "metadata": {
        "colab": {
          "base_uri": "https://localhost:8080/"
        },
        "id": "nKCxQuoeafSa",
        "outputId": "ded37e4d-6df3-4955-9f6e-108edd415845"
      },
      "execution_count": 24,
      "outputs": [
        {
          "output_type": "stream",
          "name": "stdout",
          "text": [
            "[1, 2, 4]\n",
            "3\n"
          ]
        }
      ]
    },
    {
      "cell_type": "code",
      "source": [
        "# assign list\n",
        "numbers = [1, 2, 3, 2, 3, 4, 5]\n",
        "\n",
        "# use del\n",
        "del numbers[2]\n",
        "\n",
        "numbers"
      ],
      "metadata": {
        "colab": {
          "base_uri": "https://localhost:8080/"
        },
        "id": "EXOem9hXalZZ",
        "outputId": "23f60baa-acc9-4ac0-c32e-4186c8f0711e"
      },
      "execution_count": 25,
      "outputs": [
        {
          "output_type": "execute_result",
          "data": {
            "text/plain": [
              "[1, 2, 2, 3, 4, 5]"
            ]
          },
          "metadata": {},
          "execution_count": 25
        }
      ]
    },
    {
      "cell_type": "markdown",
      "source": [
        "**Describe how list values and string values are identical.**\n",
        "\n",
        "Ans)\n",
        "\n",
        "Below are some reasons how list values and string values are identical:\n",
        "\n",
        "**Indexing:**\n",
        "\n",
        "Both lists and strings support indexing to access individual elements or characters.\n",
        "\n",
        "**Slicing:**\n",
        "\n",
        "You can use slicing to access a subset of a list or a substring.\n",
        "\n",
        "**Iterability:**\n",
        "\n",
        "Both strings and lists are iterable, meaning you can loop over their elements using a for loop.\n",
        "\n",
        "**Concatenation:**\n",
        "\n",
        "You can concatenate (join together) two lists or two strings using the + operator.\n",
        "\n",
        "**Replication:**\n",
        "\n",
        "Both lists and strings can be replicated using the * operator.\n",
        "\n",
        "**Membership Testing:**\n",
        "\n",
        "The in and not in operators can be used to check for the existence of a value or substring in a string or list.\n",
        "\n",
        "**Length:**\n",
        "\n",
        "The built-in len() function can be used to determine the number of elements in a list or characters in a string."
      ],
      "metadata": {
        "id": "kBEN4S8qaskD"
      }
    },
    {
      "cell_type": "code",
      "source": [
        "#indexing\n",
        "my_string = \"hello\"\n",
        "print(my_string[1])  # Output: e\n",
        "\n",
        "my_list = [1, 2, 3, 4, 5]\n",
        "print(my_list[1])   # Output: 2\n"
      ],
      "metadata": {
        "colab": {
          "base_uri": "https://localhost:8080/"
        },
        "id": "7pFXsrc1bUpp",
        "outputId": "eafb06aa-bc63-4eb5-b521-6926128ad14a"
      },
      "execution_count": 26,
      "outputs": [
        {
          "output_type": "stream",
          "name": "stdout",
          "text": [
            "e\n",
            "2\n"
          ]
        }
      ]
    },
    {
      "cell_type": "code",
      "source": [
        "#slicing\n",
        "my_string = \"hello\"\n",
        "print(my_string[1:4])  # Output: ell\n",
        "\n",
        "my_list = [1, 2, 3, 4, 5]\n",
        "print(my_list[1:4])   # Output: [2, 3, 4]\n"
      ],
      "metadata": {
        "colab": {
          "base_uri": "https://localhost:8080/"
        },
        "id": "trc7aALJbXuV",
        "outputId": "ab151621-f556-483f-f97d-7a7d0e96ab6e"
      },
      "execution_count": 27,
      "outputs": [
        {
          "output_type": "stream",
          "name": "stdout",
          "text": [
            "ell\n",
            "[2, 3, 4]\n"
          ]
        }
      ]
    },
    {
      "cell_type": "code",
      "source": [
        "#iterability\n",
        "for char in \"hello\":\n",
        "    print(char)\n",
        "\n",
        "for item in [1, 2, 3, 4, 5]:\n",
        "    print(item)\n"
      ],
      "metadata": {
        "colab": {
          "base_uri": "https://localhost:8080/"
        },
        "id": "CWaTi-BFbZ-e",
        "outputId": "8a8f7c5c-e91c-48c6-df79-89bc19f1b192"
      },
      "execution_count": 29,
      "outputs": [
        {
          "output_type": "stream",
          "name": "stdout",
          "text": [
            "h\n",
            "e\n",
            "l\n",
            "l\n",
            "o\n",
            "1\n",
            "2\n",
            "3\n",
            "4\n",
            "5\n"
          ]
        }
      ]
    },
    {
      "cell_type": "code",
      "source": [
        "#concatenation\n",
        "print(\"hello\" + \"world\")    # Output: helloworld\n",
        "print([1, 2] + [3, 4])     # Output: [1, 2, 3, 4]\n"
      ],
      "metadata": {
        "colab": {
          "base_uri": "https://localhost:8080/"
        },
        "id": "znHBvLn2bjpq",
        "outputId": "29e34443-124d-4d1b-fbb7-23df78b18599"
      },
      "execution_count": 30,
      "outputs": [
        {
          "output_type": "stream",
          "name": "stdout",
          "text": [
            "helloworld\n",
            "[1, 2, 3, 4]\n"
          ]
        }
      ]
    },
    {
      "cell_type": "code",
      "source": [
        "#Replication\n",
        "print(\"hello\" * 3)  # Output: hellohellohello\n",
        "print([1, 2] * 3)   # Output: [1, 2, 1, 2, 1, 2]\n"
      ],
      "metadata": {
        "colab": {
          "base_uri": "https://localhost:8080/"
        },
        "id": "TinU6pHEblLk",
        "outputId": "f70453ba-7637-4db0-af37-77f67bdee1b5"
      },
      "execution_count": 31,
      "outputs": [
        {
          "output_type": "stream",
          "name": "stdout",
          "text": [
            "hellohellohello\n",
            "[1, 2, 1, 2, 1, 2]\n"
          ]
        }
      ]
    },
    {
      "cell_type": "code",
      "source": [
        "#Membership Testing\n",
        "print(\"e\" in \"hello\")    # Output: True\n",
        "print(2 in [1, 2, 3])    # Output: True"
      ],
      "metadata": {
        "colab": {
          "base_uri": "https://localhost:8080/"
        },
        "id": "xq1nXNqubpLL",
        "outputId": "41635972-a385-4963-a2bc-0e7069a3aa97"
      },
      "execution_count": 32,
      "outputs": [
        {
          "output_type": "stream",
          "name": "stdout",
          "text": [
            "True\n",
            "True\n"
          ]
        }
      ]
    },
    {
      "cell_type": "code",
      "source": [
        "#Length\n",
        "print(len(\"hello\"))      # Output: 5\n",
        "print(len([1, 2, 3, 4])) # Output: 4"
      ],
      "metadata": {
        "colab": {
          "base_uri": "https://localhost:8080/"
        },
        "id": "SHc9I1FsbvLH",
        "outputId": "fefae3a0-fc0a-4089-cc26-07a9a243683d"
      },
      "execution_count": 33,
      "outputs": [
        {
          "output_type": "stream",
          "name": "stdout",
          "text": [
            "5\n",
            "4\n"
          ]
        }
      ]
    },
    {
      "cell_type": "markdown",
      "source": [
        "**What&#39;s the difference between tuples and lists?**\n",
        "\n",
        "Ans)\n",
        "Tuples and lists are both used to store collections of items in Python, but they have some key differences:\n",
        "\n",
        "**Mutability:**\n",
        "\n",
        "**List**: Lists are mutable, which means you can modify their content by adding, removing, or changing elements after the list is created.\n",
        "\n",
        "Tuple: Tuples are immutable, which means once a tuple is created, you cannot modify its content. You can't add, remove, or change elements in a tuple."
      ],
      "metadata": {
        "id": "I_POnpRScj7q"
      }
    },
    {
      "cell_type": "code",
      "source": [
        "my_list = [1,2,3,4]\n",
        "my_num = (1,2,3,4)\n",
        "\n",
        "print(my_list)\n",
        "print(type(my_list))\n",
        "print(my_num)\n",
        "print(type(my_num))"
      ],
      "metadata": {
        "colab": {
          "base_uri": "https://localhost:8080/"
        },
        "id": "aGYbupHxc3u6",
        "outputId": "1ec4e92a-bfee-48a2-e496-9f9a71f3ccf4"
      },
      "execution_count": 35,
      "outputs": [
        {
          "output_type": "stream",
          "name": "stdout",
          "text": [
            "[1, 2, 3, 4]\n",
            "<class 'list'>\n",
            "(1, 2, 3, 4)\n",
            "<class 'tuple'>\n"
          ]
        }
      ]
    },
    {
      "cell_type": "markdown",
      "source": [
        "**How do you type a tuple value that only contains the integer 42?**\n",
        "\n",
        "Ans)If you want to create a tuple containing just the integer 42, you need to include a comma after the 42, even before the closing parenthesis. This distinguishes it as a tuple rather than a simple parenthesized number."
      ],
      "metadata": {
        "id": "YZlKCr9LdIwj"
      }
    },
    {
      "cell_type": "code",
      "source": [
        "integer=(42)\n",
        "tup1=(42,)\n",
        "print(type(integer))\n",
        "print(type(tup1))"
      ],
      "metadata": {
        "colab": {
          "base_uri": "https://localhost:8080/"
        },
        "id": "2WRP7vFqdTTb",
        "outputId": "fa494b4c-ddff-4681-d10d-d4b329ddaef2"
      },
      "execution_count": 36,
      "outputs": [
        {
          "output_type": "stream",
          "name": "stdout",
          "text": [
            "<class 'int'>\n",
            "<class 'tuple'>\n"
          ]
        }
      ]
    },
    {
      "cell_type": "markdown",
      "source": [
        "**How do you get a list value&#39;s tuple form? How do you get a tuple value&#39;s list form?**\n",
        "\n",
        "Ans)To convert a list value to its tuple form and vice versa:"
      ],
      "metadata": {
        "id": "SE3Gjgsjdxkg"
      }
    },
    {
      "cell_type": "code",
      "source": [
        "#List to Tuple:\n",
        "#You can use the built-in tuple() function to convert a list into a tuple.\n",
        "my_list = [1, 2, 3, 4]\n",
        "tuple_form = tuple(my_list)\n",
        "print(tuple_form)  # Output: (1, 2, 3, 4)\n",
        "\n",
        "#Tuple to List:\n",
        "#You can use the built-in list() function to convert a tuple into a list.\n",
        "my_tuple = (1, 2, 3, 4)\n",
        "list_form = list(my_tuple)\n",
        "print(list_form)  # Output: [1, 2, 3, 4]"
      ],
      "metadata": {
        "colab": {
          "base_uri": "https://localhost:8080/"
        },
        "id": "_6ZFEWSnd-PU",
        "outputId": "5433e7de-651e-4504-85e1-9449f5287362"
      },
      "execution_count": 38,
      "outputs": [
        {
          "output_type": "stream",
          "name": "stdout",
          "text": [
            "(1, 2, 3, 4)\n",
            "[1, 2, 3, 4]\n"
          ]
        }
      ]
    },
    {
      "cell_type": "markdown",
      "source": [
        " **Variables that &quot;contain&quot; list values are not necessarily lists themselves. Instead, what do they\n",
        "contain?**\n",
        "\n",
        "Ans)\n",
        "Variables that \"contain\" list values don't actually contain the list itself. Instead, they contain references or pointers to the location in memory where the list is stored."
      ],
      "metadata": {
        "id": "ovlnrhGjeICV"
      }
    },
    {
      "cell_type": "markdown",
      "source": [
        "**How do you distinguish between copy.copy() and copy.deepcopy()?**\n",
        "\n",
        "Ans)\n",
        "\n",
        "**copy.copy() - Shallow Copy**:\n",
        "\n",
        "It returns a new compound object that's a copy of the original, but it doesn't create copies of the objects that the compound object references.For mutable collections like lists or dictionaries, a shallow copy creates a new collection with references to the same items as the original collection.\n",
        "\n",
        "**copy.deepcopy() - Deep Copy:**\n",
        "\n",
        "It returns a new compound object that's a copy of the original, and it also recursively copies all the objects found inside the original compound object. This means there's no shared reference or memory location for any item between the original and the new object."
      ],
      "metadata": {
        "id": "3mh8ExUVeXar"
      }
    },
    {
      "cell_type": "code",
      "source": [
        "import copy\n",
        "lst1 = [[1, 2, 3], [4, 5, 6]]\n",
        "lst2 = copy.copy(lst1)\n",
        "lst2[0][0] = 99\n",
        "print(lst1)  # Output: [[99, 2, 3], [4, 5, 6]]\n"
      ],
      "metadata": {
        "colab": {
          "base_uri": "https://localhost:8080/"
        },
        "id": "oVXB2glWe0Mo",
        "outputId": "2aed2cb6-09c3-4351-a52c-8b5232796187"
      },
      "execution_count": 39,
      "outputs": [
        {
          "output_type": "stream",
          "name": "stdout",
          "text": [
            "[[99, 2, 3], [4, 5, 6]]\n"
          ]
        }
      ]
    },
    {
      "cell_type": "code",
      "source": [
        "import copy\n",
        "lst1 = [[1, 2, 3], [4, 5, 6]]\n",
        "lst3 = copy.deepcopy(lst1)\n",
        "lst3[0][0] = 99\n",
        "print(lst1)  # Output: [[1, 2, 3], [4, 5, 6]]\n"
      ],
      "metadata": {
        "colab": {
          "base_uri": "https://localhost:8080/"
        },
        "id": "KMQ7IRbMe2Yc",
        "outputId": "e9ffc1b8-983b-4269-fd81-c376be0ec1b7"
      },
      "execution_count": 40,
      "outputs": [
        {
          "output_type": "stream",
          "name": "stdout",
          "text": [
            "[[1, 2, 3], [4, 5, 6]]\n"
          ]
        }
      ]
    }
  ]
}