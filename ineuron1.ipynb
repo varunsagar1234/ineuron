{
  "nbformat": 4,
  "nbformat_minor": 0,
  "metadata": {
    "colab": {
      "provenance": []
    },
    "kernelspec": {
      "name": "python3",
      "display_name": "Python 3"
    },
    "language_info": {
      "name": "python"
    }
  },
  "cells": [
    {
      "cell_type": "markdown",
      "source": [
        "**In the below elements which of them are values or an expression? eg:- values can be\n",
        "integer or string and expressions will be mathematical operators.**\n",
        "\n",
        "*,\n",
        "&#39;hello&#39;,\n",
        "-87.8,\n",
        "-,\n",
        "/,\n",
        "+,\n",
        "6.\n",
        "\n",
        "\n",
        "\n",
        "Ans)There are 4 expressions and 3 values:\n",
        "\n",
        "**operators**-*,-,/,+\n",
        "\n",
        "**values**-'hello',-87.8,6"
      ],
      "metadata": {
        "id": "v6N-8DZGrlg-"
      }
    },
    {
      "cell_type": "markdown",
      "source": [
        "**What is the difference between string and variable?**\n",
        "\n",
        "Ans)\n",
        "\n",
        "**String**-A string is a data type used in programming, used to represent and manipulate a sequence of characters, such as letters, numbers, and symbols. For example: \"Hello, World!\" is a string.\n",
        "\n",
        "**variable**-A variable is a symbolic name associated with a value and a memory location in a computer's memory. This value can change over time, which is why it's called a \"variable\".\n",
        "\n",
        " A string is a type of data representing text, whereas a variable is a way to store and reference that data (or any other type of data) in a program."
      ],
      "metadata": {
        "id": "E68WWmCLtCPA"
      }
    },
    {
      "cell_type": "markdown",
      "source": [
        "**Describe three different data types.**\n",
        "\n",
        "Ans)\n",
        "\n",
        "**Boolean**:A boolean data type can have one of two values: true or false. It's named after George Boole and represents the two truth values of Boolean logic.\n",
        "\n",
        "**Integer**:An integer is a whole number that can be either positive, negative, or zero. It does not have a decimal point.\n",
        "\n",
        "**Floating Point**: Floating point numbers, or floats, represent real numbers (both rational and irrational). They include integers, fractions, and decimals and have a decimal point or an exponent (or both).\n",
        "\n",
        "\n"
      ],
      "metadata": {
        "id": "6VqIjAbZt0lo"
      }
    },
    {
      "cell_type": "code",
      "source": [
        "#boolean\n",
        "is_student = True\n",
        "print(is_student)\n",
        "print(type(is_student))\n",
        "#int\n",
        "a=12234\n",
        "print(a)\n",
        "print(type(a))\n",
        "#floating point\n",
        "b=12.34\n",
        "print(b)\n",
        "print(type(b))"
      ],
      "metadata": {
        "colab": {
          "base_uri": "https://localhost:8080/"
        },
        "id": "eCJ_r97t7XvC",
        "outputId": "d57d608b-45ad-46f6-cae0-10afdc7dc37b"
      },
      "execution_count": 4,
      "outputs": [
        {
          "output_type": "stream",
          "name": "stdout",
          "text": [
            "True\n",
            "<class 'bool'>\n",
            "12234\n",
            "<class 'int'>\n",
            "12.34\n",
            "<class 'float'>\n"
          ]
        }
      ]
    },
    {
      "cell_type": "markdown",
      "source": [
        "**What is an expression made up of? What do all expressions do?**\n",
        "\n",
        "Ans)\n",
        "\n",
        "In programming, an expression is a combination of one or more values, variables, operators, and functions that the programming language interprets  to produce another value. This includes simple types like numbers and strings, but can also be more complex expressions that evaluate to a value of some sort, be it a number, string, boolean, or another data type.\n",
        "\n",
        "**Components of an Expression:**\n",
        "\n",
        "**Values**: These are the basic, unchanging values used in expressions. For instance, numbers like 2, 3.14, or strings like 'Hello' are literals.\n",
        "\n",
        "**Variables**: Named memory locations that store values. A variable can appear in an expression, and its current value is used in the evaluation.\n",
        "\n",
        "**Operators**: Symbols that perform operations on one or more operands. Common operators include:\n",
        "\n",
        "**Functions**: Predefined sets of instructions that take in zero or more arguments and return a value after processing them.\n",
        "\n",
        "**Parentheses**: Used to group parts of an expression and determine the order of evaluation.\n",
        "\n",
        "For instance, in the expression 3 + 4 * 2, the value is 11 if you follow typical mathematical conventions where multiplication has a higher precedence than addition. If you used parentheses like (3 + 4) * 2, the expression would evaluate to 14.\n",
        "\n",
        "In short, expressions are building blocks of code that let you do computations, make decisions, and process data. They are fundamental to almost every non-trivial operation in programming.\n",
        "\n"
      ],
      "metadata": {
        "id": "r_BlVnaK8EDo"
      }
    },
    {
      "cell_type": "markdown",
      "source": [
        "**After running the following code, what does the variable bacon contain?**\n",
        "\n",
        "**bacon = 22**\n",
        "\n",
        "**bacon + 1**\n",
        "\n",
        "Ans)The Value will be 22 because we are not assign the value while we are adding it by 1."
      ],
      "metadata": {
        "id": "fUoQ57EG89UX"
      }
    },
    {
      "cell_type": "code",
      "source": [
        "bacon = 22\n",
        "bacon + 1\n",
        "print(bacon)"
      ],
      "metadata": {
        "colab": {
          "base_uri": "https://localhost:8080/"
        },
        "id": "FpY4JKoM9Wjb",
        "outputId": "7b202fd2-9467-42d7-9ffb-9abb97595d53"
      },
      "execution_count": 6,
      "outputs": [
        {
          "output_type": "stream",
          "name": "stdout",
          "text": [
            "22\n"
          ]
        }
      ]
    },
    {
      "cell_type": "markdown",
      "source": [
        "**What should the values of the following two terms be?**\n",
        "\n",
        "\n",
        "**&#39;spam&#39; + &#39;spamspam&#39;**\n",
        "\n",
        "\n",
        " **&#39;spam&#39; * 3**\n",
        "\n",
        " Ans)The first expression follows String Concatentation and the second expression follows String Multiplication"
      ],
      "metadata": {
        "id": "1ErTuhws-Gng"
      }
    },
    {
      "cell_type": "code",
      "source": [
        "print('spam' + 'spamspam')#String Concatentation"
      ],
      "metadata": {
        "colab": {
          "base_uri": "https://localhost:8080/"
        },
        "id": "gQYULJ_b-YyZ",
        "outputId": "d4a334a0-65a7-4985-987c-3931e0dc9d2b"
      },
      "execution_count": 8,
      "outputs": [
        {
          "output_type": "stream",
          "name": "stdout",
          "text": [
            "spamspamspam\n"
          ]
        }
      ]
    },
    {
      "cell_type": "code",
      "source": [
        "print('spam'*3)"
      ],
      "metadata": {
        "colab": {
          "base_uri": "https://localhost:8080/"
        },
        "id": "8kT7yoin-j-f",
        "outputId": "335d34dc-b3b2-4902-b482-4980cd230fd5"
      },
      "execution_count": 10,
      "outputs": [
        {
          "output_type": "stream",
          "name": "stdout",
          "text": [
            "spamspamspam\n"
          ]
        }
      ]
    },
    {
      "cell_type": "markdown",
      "source": [
        "**Why is eggs a valid variable name while 100 is  invalid?**\n",
        "\n",
        "Ans)The Variable names follows the rules of an Identifier.According to the rules of Identifier the Variable name should not start with a number.So the eggs a valid variable name while 100 is invalid.\n",
        "\n",
        "And also other variable rules are:\n",
        "\n",
        "1.Variable name must start with a letter or the underscore character.\n",
        "\n",
        "2.Variable name cannot start with a number.\n",
        "\n",
        "3.Variable name can only contain alpha-numeric characters and underscores.\n",
        "\n",
        "4.Variable names are case-sensitive.\n",
        "\n",
        "5.The reserved words cannot be used naming the variable."
      ],
      "metadata": {
        "id": "Fd7uv_nj-xSA"
      }
    },
    {
      "cell_type": "code",
      "source": [
        "egg='varun' # Valid variable Initilization\n",
        "100='varun' # Invalid Variable Initilization\n",
        "print(egg) #prints the value of egg ie Ineuron\n",
        "print(100) # Raises a Syntax Error as 100 is not a valid variable name"
      ],
      "metadata": {
        "colab": {
          "base_uri": "https://localhost:8080/",
          "height": 141
        },
        "id": "L5OoziFM_pTD",
        "outputId": "22459280-2384-4818-95e5-ef0cd9db557c"
      },
      "execution_count": 13,
      "outputs": [
        {
          "output_type": "error",
          "ename": "SyntaxError",
          "evalue": "ignored",
          "traceback": [
            "\u001b[0;36m  File \u001b[0;32m\"<ipython-input-13-8352563cddd5>\"\u001b[0;36m, line \u001b[0;32m2\u001b[0m\n\u001b[0;31m    100='varun' # Invalid Variable Initilization\u001b[0m\n\u001b[0m    ^\u001b[0m\n\u001b[0;31mSyntaxError\u001b[0m\u001b[0;31m:\u001b[0m cannot assign to literal here. Maybe you meant '==' instead of '='?\n"
          ]
        }
      ]
    },
    {
      "cell_type": "markdown",
      "source": [
        "**What three functions can be used to get the integer, floating-point number, or string version of a value?**\n",
        "\n",
        "Ans)\n",
        "int()-functions will evaluate to the integer\n",
        "\n",
        "float()-functions will evaluate to the float\n",
        "\n",
        "str()-functions will evaluate to the string version of a value.\n",
        "\n",
        "\n"
      ],
      "metadata": {
        "id": "JARIAjMv_3oe"
      }
    },
    {
      "cell_type": "code",
      "source": [
        "i=9\n",
        "f=9.0\n",
        "s=\"9\"\n",
        "print(type(i))\n",
        "print(type(f))\n",
        "print(type(s))\n",
        "a=int(s)#convert the string to int\n",
        "print(type(a))\n",
        "b=float(i)#convert to int to float\n",
        "print(type(b))\n",
        "c=str(i)#convert to int to string\n",
        "print(type(c))"
      ],
      "metadata": {
        "colab": {
          "base_uri": "https://localhost:8080/"
        },
        "id": "WcWOTjWQLKmE",
        "outputId": "ba0edd18-fb0a-4428-ad59-ec315c89f3c6"
      },
      "execution_count": 19,
      "outputs": [
        {
          "output_type": "stream",
          "name": "stdout",
          "text": [
            "<class 'int'>\n",
            "<class 'float'>\n",
            "<class 'str'>\n",
            "<class 'int'>\n",
            "<class 'float'>\n",
            "<class 'str'>\n"
          ]
        }
      ]
    },
    {
      "cell_type": "markdown",
      "source": [
        "**Why does this expression cause an error? How can you fix it?**\n",
        "\n",
        "**&#39;I have eaten &#39; + 99 + &#39; burritos.&#39;**\n",
        "\n",
        "Ans)The error due to 99 because addition must be done between Homogenous data types.So first one and last one are String and middle one is Integer.Addition is not possible and the error is Incompatible types."
      ],
      "metadata": {
        "id": "1voXD3qCL8_2"
      }
    },
    {
      "cell_type": "code",
      "source": [
        "print('I have eaten'+99+'burritos')"
      ],
      "metadata": {
        "colab": {
          "base_uri": "https://localhost:8080/",
          "height": 175
        },
        "id": "BTGdRjATMc0b",
        "outputId": "58450df1-ea8e-4053-ac92-e69814255c81"
      },
      "execution_count": 20,
      "outputs": [
        {
          "output_type": "error",
          "ename": "TypeError",
          "evalue": "ignored",
          "traceback": [
            "\u001b[0;31m---------------------------------------------------------------------------\u001b[0m",
            "\u001b[0;31mTypeError\u001b[0m                                 Traceback (most recent call last)",
            "\u001b[0;32m<ipython-input-20-0ce0f2220582>\u001b[0m in \u001b[0;36m<cell line: 1>\u001b[0;34m()\u001b[0m\n\u001b[0;32m----> 1\u001b[0;31m \u001b[0mprint\u001b[0m\u001b[0;34m(\u001b[0m\u001b[0;34m'I have eaten'\u001b[0m\u001b[0;34m+\u001b[0m\u001b[0;36m99\u001b[0m\u001b[0;34m+\u001b[0m\u001b[0;34m'burritos'\u001b[0m\u001b[0;34m)\u001b[0m\u001b[0;34m\u001b[0m\u001b[0;34m\u001b[0m\u001b[0m\n\u001b[0m",
            "\u001b[0;31mTypeError\u001b[0m: can only concatenate str (not \"int\") to str"
          ]
        }
      ]
    },
    {
      "cell_type": "code",
      "source": [
        "#so convert the 99 to string\n",
        "print('I have eaten '+str(99)+' burritos')"
      ],
      "metadata": {
        "colab": {
          "base_uri": "https://localhost:8080/"
        },
        "id": "jQ9Z7Vm2Mj_E",
        "outputId": "319e06fd-a949-4887-94ef-e41f95328251"
      },
      "execution_count": 21,
      "outputs": [
        {
          "output_type": "stream",
          "name": "stdout",
          "text": [
            "I have eaten 99 burritos\n"
          ]
        }
      ]
    }
  ]
}