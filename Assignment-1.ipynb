{
  "nbformat": 4,
  "nbformat_minor": 0,
  "metadata": {
    "colab": {
      "provenance": []
    },
    "kernelspec": {
      "name": "python3",
      "display_name": "Python 3"
    },
    "language_info": {
      "name": "python"
    }
  },
  "cells": [
    {
      "cell_type": "markdown",
      "source": [
        "**Python Basic Assignment-1 Solution**\n",
        "\n",
        "\n",
        "\n",
        "\n",
        "\n"
      ],
      "metadata": {
        "id": "GVry8VPZD6Vi"
      }
    },
    {
      "cell_type": "markdown",
      "source": [
        "**In the below elements which of them are values or an expression? eg:- values can be\n",
        "integer or string and expressions will be mathematical operators.**\n",
        "\n",
        "*,\n",
        "&#39;hello&#39;,\n",
        "-87.8,\n",
        "-,\n",
        "/,\n",
        "+,\n",
        "6.\n",
        "\n",
        "\n",
        "\n",
        "Ans)\n",
        "\n",
        "**Value**:A value represents a specific piece of data. It's an entity that doesn't vary. Examples include numbers like 42, floating-point numbers like 3.14, or strings like \"hello\". Every value belongs to a specific type, such as an integer, a real number, or a string.In programming, you can think of a value as something that would be assigned to a variable or returned by a function.\n",
        "\n",
        "**expression**:An expression is a combination of one or more values, operators, and variables that the programming language interprets (or evaluates) to produce another value. In other words, an expression is a piece of code that, when executed, results in a value.\n",
        "\n",
        "So in the given Question there are 4 operators and 3 values:\n",
        "\n",
        "**operators**-*,-,/,+\n",
        "\n",
        "**values**-'hello',-87.8,6\n",
        "\n"
      ],
      "metadata": {
        "id": "v6N-8DZGrlg-"
      }
    },
    {
      "cell_type": "markdown",
      "source": [
        "**What is the difference between string and variable?**\n",
        "\n",
        "Ans)\n",
        "\n",
        "**String**-A string is a data type used in programming, used to represent and manipulate a sequence of characters, such as letters, numbers, and symbols.\n",
        "\n",
        "** For example**: Example: \"Hello, World!\" is a string because it's a sequence of characters enclosed within double quotes.\n",
        "\n",
        "**variable**-A variable is a symbolic name associated with a value and a memory location in a computer's memory. This value can change over time, which is why it's called a \"variable\".\n",
        "\n",
        " A string is a type of data representing text, whereas a variable is a way to store and reference that data (or any other type of data) in a program."
      ],
      "metadata": {
        "id": "E68WWmCLtCPA"
      }
    },
    {
      "cell_type": "code",
      "source": [
        "greeting = \"Hello, World!\"#where the \"hello,world!\" is an string and the greeting is the variable representing the String DataType\n",
        "print(greeting)"
      ],
      "metadata": {
        "colab": {
          "base_uri": "https://localhost:8080/"
        },
        "id": "VjL2hyk6EvPE",
        "outputId": "ca8345f1-989c-4577-d8dc-f40325970358"
      },
      "execution_count": 2,
      "outputs": [
        {
          "output_type": "stream",
          "name": "stdout",
          "text": [
            "Hello, World!\n"
          ]
        }
      ]
    },
    {
      "cell_type": "markdown",
      "source": [
        "**Describe three different data types.**\n",
        "\n",
        "Ans)\n",
        "\n",
        "**Boolean**:A boolean data type can have one of two values: true or false. It's named after George Boole and represents the two truth values of Boolean logic.\n",
        "\n",
        "**Integer**:An integer is a whole number that can be either positive, negative, or zero. It does not have a decimal point.\n",
        "\n",
        "**Floating Point**: Floating point numbers, or floats, represent real numbers (both rational and irrational). They include integers, fractions, and decimals and have a decimal point or an exponent (or both).\n",
        "\n",
        "\n"
      ],
      "metadata": {
        "id": "6VqIjAbZt0lo"
      }
    },
    {
      "cell_type": "code",
      "source": [
        "#boolean\n",
        "is_student = True\n",
        "print(is_student)\n",
        "print(type(is_student))\n",
        "#int\n",
        "a=12234\n",
        "print(a)\n",
        "print(type(a))\n",
        "#floating point\n",
        "b=12.34\n",
        "print(b)\n",
        "print(type(b))"
      ],
      "metadata": {
        "colab": {
          "base_uri": "https://localhost:8080/"
        },
        "id": "eCJ_r97t7XvC",
        "outputId": "d57d608b-45ad-46f6-cae0-10afdc7dc37b"
      },
      "execution_count": null,
      "outputs": [
        {
          "output_type": "stream",
          "name": "stdout",
          "text": [
            "True\n",
            "<class 'bool'>\n",
            "12234\n",
            "<class 'int'>\n",
            "12.34\n",
            "<class 'float'>\n"
          ]
        }
      ]
    },
    {
      "cell_type": "markdown",
      "source": [
        "**What is an expression made up of? What do all expressions do?**\n",
        "\n",
        "Ans)\n",
        "\n",
        "In programming, an expression is a combination of one or more values, variables, operators, and functions that the programming language interprets  to produce another value. This includes simple types like numbers and strings, but can also be more complex expressions that evaluate to a value of some sort, be it a number, string, boolean, or another data type.\n",
        "\n",
        "**Components of an Expression:**\n",
        "\n",
        "**Values**: These are the basic, unchanging values used in expressions. For instance, numbers like 2, 3.14, or strings like 'Hello' are literals.\n",
        "\n",
        "**Variables**: Named memory locations that store values. A variable can appear in an expression, and its current value is used in the evaluation.\n",
        "\n",
        "**Operators**: Symbols that perform operations on one or more operands. Common operators include:\n",
        "\n",
        "**Functions**: Predefined sets of instructions that take in zero or more arguments and return a value after processing them.\n",
        "\n",
        "**Parentheses**: Used to group parts of an expression and determine the order of evaluation.\n",
        "\n",
        "For instance, in the expression 3 + 4 * 2, the value is 11 if you follow typical mathematical conventions where multiplication has a higher precedence than addition. If you used parentheses like (3 + 4) * 2, the expression would evaluate to 14.\n",
        "\n",
        "In short, expressions are building blocks of code that let you do computations, make decisions, and process data. They are fundamental to almost every non-trivial operation in programming.\n",
        "\n"
      ],
      "metadata": {
        "id": "r_BlVnaK8EDo"
      }
    },
    {
      "cell_type": "code",
      "source": [
        "#this examplle will be determining the importance of paranthesis\n",
        "a=(3+4)/(7*3)\n",
        "print(a)\n",
        "\n",
        "b=3+4/7*3\n",
        "print(b)"
      ],
      "metadata": {
        "colab": {
          "base_uri": "https://localhost:8080/"
        },
        "id": "UqOxz-c7Fajg",
        "outputId": "f98a3db0-f974-4ca2-f03a-c6872fc58513"
      },
      "execution_count": 9,
      "outputs": [
        {
          "output_type": "stream",
          "name": "stdout",
          "text": [
            "0.3333333333333333\n",
            "4.714285714285714\n"
          ]
        }
      ]
    },
    {
      "cell_type": "markdown",
      "source": [
        "**After running the following code, what does the variable bacon contain?**\n",
        "\n",
        "**bacon = 22**\n",
        "\n",
        "**bacon + 1**\n",
        "\n",
        "Ans)The Value will be 22 because we are not assign the value while we are adding it by 1.The variable bacon is initially assigned the value 22. In the next line, the expression bacon + 1 calculates the value 23, but this result is not assigned back to the variable bacon or any other variable. Therefore, the value of bacon remains unchanged.\n",
        "\n",
        "After running the code, the variable bacon contains the value 22."
      ],
      "metadata": {
        "id": "fUoQ57EG89UX"
      }
    },
    {
      "cell_type": "code",
      "source": [
        "bacon = 22\n",
        "bacon + 1\n",
        "print(bacon)"
      ],
      "metadata": {
        "colab": {
          "base_uri": "https://localhost:8080/"
        },
        "id": "FpY4JKoM9Wjb",
        "outputId": "7b202fd2-9467-42d7-9ffb-9abb97595d53"
      },
      "execution_count": null,
      "outputs": [
        {
          "output_type": "stream",
          "name": "stdout",
          "text": [
            "22\n"
          ]
        }
      ]
    },
    {
      "cell_type": "markdown",
      "source": [
        "**What should the values of the following two terms be?**\n",
        "\n",
        "\n",
        "**&#39;spam&#39; + &#39;spamspam&#39;**\n",
        "\n",
        "\n",
        " **&#39;spam&#39; * 3**\n",
        "\n",
        " Ans)The first expression follows String Concatentation and the second expression follows String Multiplication.\n",
        "\n",
        " Let's evaluate the two terms:\n",
        "\n",
        "'spam' + 'spamspam':\n",
        "This is a string concatenation. It will concatenate (join together) the two strings.\n",
        "Result: 'spamspamspam'\n",
        "\n",
        "'spam' * 3:\n",
        "This is string replication. It will produce the string 'spam' repeated 3 times.\n",
        "Result: 'spamspamspam'\n",
        "\n",
        "For both terms, the result is 'spamspamspam'."
      ],
      "metadata": {
        "id": "1ErTuhws-Gng"
      }
    },
    {
      "cell_type": "code",
      "source": [
        "print('spam' + 'spamspam')#String Concatentation"
      ],
      "metadata": {
        "colab": {
          "base_uri": "https://localhost:8080/"
        },
        "id": "gQYULJ_b-YyZ",
        "outputId": "d4a334a0-65a7-4985-987c-3931e0dc9d2b"
      },
      "execution_count": null,
      "outputs": [
        {
          "output_type": "stream",
          "name": "stdout",
          "text": [
            "spamspamspam\n"
          ]
        }
      ]
    },
    {
      "cell_type": "code",
      "source": [
        "print('spam'*3)#string multiplication"
      ],
      "metadata": {
        "colab": {
          "base_uri": "https://localhost:8080/"
        },
        "id": "8kT7yoin-j-f",
        "outputId": "335d34dc-b3b2-4902-b482-4980cd230fd5"
      },
      "execution_count": null,
      "outputs": [
        {
          "output_type": "stream",
          "name": "stdout",
          "text": [
            "spamspamspam\n"
          ]
        }
      ]
    },
    {
      "cell_type": "markdown",
      "source": [
        "**Why is eggs a valid variable name while 100 is  invalid?**\n",
        "\n",
        "Ans)The Variable names follows the rules of an Identifier.According to the rules of Identifier the Variable name should not start with a number.So the eggs a valid variable name while 100 is invalid.\n",
        "\n",
        "And also other variable rules are:\n",
        "\n",
        "1.Variable name must start with a letter or the underscore character.\n",
        "\n",
        "2.Variable name cannot start with a number.\n",
        "\n",
        "3.Variable name can only contain alpha-numeric characters and underscores.\n",
        "\n",
        "4.Variable names are case-sensitive.\n",
        "\n",
        "5.The reserved words cannot be used naming the variable."
      ],
      "metadata": {
        "id": "Fd7uv_nj-xSA"
      }
    },
    {
      "cell_type": "code",
      "source": [
        "egg='varun' # Valid variable Initilization\n",
        "100='varun' # Invalid Variable Initilization\n",
        "print(egg) #prints the value of egg ie Ineuron\n",
        "print(100) # Raises a Syntax Error as 100 is not a valid variable name"
      ],
      "metadata": {
        "colab": {
          "base_uri": "https://localhost:8080/",
          "height": 141
        },
        "id": "L5OoziFM_pTD",
        "outputId": "22459280-2384-4818-95e5-ef0cd9db557c"
      },
      "execution_count": null,
      "outputs": [
        {
          "output_type": "error",
          "ename": "SyntaxError",
          "evalue": "ignored",
          "traceback": [
            "\u001b[0;36m  File \u001b[0;32m\"<ipython-input-13-8352563cddd5>\"\u001b[0;36m, line \u001b[0;32m2\u001b[0m\n\u001b[0;31m    100='varun' # Invalid Variable Initilization\u001b[0m\n\u001b[0m    ^\u001b[0m\n\u001b[0;31mSyntaxError\u001b[0m\u001b[0;31m:\u001b[0m cannot assign to literal here. Maybe you meant '==' instead of '='?\n"
          ]
        }
      ]
    },
    {
      "cell_type": "markdown",
      "source": [
        "**What three functions can be used to get the integer, floating-point number, or string version of a value?**\n",
        "\n",
        "Ans)\n",
        "int()-functions will evaluate to the integer\n",
        "\n",
        "float()-functions will evaluate to the float\n",
        "\n",
        "str()-functions will evaluate to the string version of a value.\n",
        "\n",
        "**int()** - Convert to Integer:\n",
        "\n",
        "The int() function is used to convert a value to an integer type. It can be applied to both floating-point numbers and strings, provided that the strings represent valid integers.\n",
        "\n",
        "**From floating-point to integer**: When converting from a float to an integer using int(), the decimal part is truncated (i.e., it doesn't round off, but simply drops the decimal part).\n",
        "Example: int(3.14) will return 3, and int(3.99) will return 3.\n",
        "\n",
        "**From string to integer**: When converting from a string, the string should represent a valid integer (without any decimal points).\n",
        "Example: int(\"42\") will return 42. However, attempting int(\"3.14\") will raise a ValueError because \"3.14\" is not a valid string representation of an integer.\n",
        "\n",
        "\n",
        "**float()** - Convert to Floating-point Number:\n",
        "\n",
        "The float() function is used to convert a value to a floating-point number. You can apply it to integers and strings, provided that the strings represent valid numbers.\n",
        "\n",
        "**From integer to floating-point**: Converts an integer to its floating-point representation.\n",
        "Example: float(3) will return 3.0.\n",
        "\n",
        "**From string to floating-point**: The string should represent a valid number, either integer or float.\n",
        "Example: float(\"3.14\") will return 3.14 and float(\"42\") will return 42.0. An invalid number string, like float(\"apple\"), will raise a ValueError.\n",
        "\n",
        "**str()** - Convert to String:\n",
        "\n",
        "The str() function is used to convert a value to its string representation. Practically any value in Python can be converted to a string.\n",
        "\n",
        "**From integer to string**: Converts an integer to its string representation.\n",
        "Example: str(42) will return \"42\".\n",
        "\n",
        "**From floating-point to string**: Converts a floating-point number to its string representation.\n",
        "Example: str(3.14) will return \"3.14\".\n",
        "\n",
        "Other types to string: str() can also convert other data types like lists, dictionaries, etc., to their string representation. It's a general way to obtain the human-readable representation of a value in Python.\n",
        "Example: str([1, 2, 3]) will return \"[1, 2, 3]\".\n"
      ],
      "metadata": {
        "id": "JARIAjMv_3oe"
      }
    },
    {
      "cell_type": "code",
      "source": [
        "i=9\n",
        "f=9.0\n",
        "s=\"9\"\n",
        "print(type(i))\n",
        "print(type(f))\n",
        "print(type(s))\n",
        "a=int(s)#convert the string to int\n",
        "print(type(a))\n",
        "b=float(i)#convert to int to float\n",
        "print(type(b))\n",
        "c=str(i)#convert to int to string\n",
        "print(type(c))"
      ],
      "metadata": {
        "colab": {
          "base_uri": "https://localhost:8080/"
        },
        "id": "WcWOTjWQLKmE",
        "outputId": "ba0edd18-fb0a-4428-ad59-ec315c89f3c6"
      },
      "execution_count": null,
      "outputs": [
        {
          "output_type": "stream",
          "name": "stdout",
          "text": [
            "<class 'int'>\n",
            "<class 'float'>\n",
            "<class 'str'>\n",
            "<class 'int'>\n",
            "<class 'float'>\n",
            "<class 'str'>\n"
          ]
        }
      ]
    },
    {
      "cell_type": "markdown",
      "source": [
        "**Why does this expression cause an error? How can you fix it?**\n",
        "\n",
        "**&#39;I have eaten &#39; + 99 + &#39; burritos.&#39;**\n",
        "\n",
        "Ans)The error due to 99 because addition must be done between Homogenous data types.So first one and last one are String and middle one is Integer.Addition is not possible and the error is Incompatible types."
      ],
      "metadata": {
        "id": "1voXD3qCL8_2"
      }
    },
    {
      "cell_type": "code",
      "source": [
        "print('I have eaten'+99+'burritos')"
      ],
      "metadata": {
        "colab": {
          "base_uri": "https://localhost:8080/",
          "height": 175
        },
        "id": "BTGdRjATMc0b",
        "outputId": "58450df1-ea8e-4053-ac92-e69814255c81"
      },
      "execution_count": null,
      "outputs": [
        {
          "output_type": "error",
          "ename": "TypeError",
          "evalue": "ignored",
          "traceback": [
            "\u001b[0;31m---------------------------------------------------------------------------\u001b[0m",
            "\u001b[0;31mTypeError\u001b[0m                                 Traceback (most recent call last)",
            "\u001b[0;32m<ipython-input-20-0ce0f2220582>\u001b[0m in \u001b[0;36m<cell line: 1>\u001b[0;34m()\u001b[0m\n\u001b[0;32m----> 1\u001b[0;31m \u001b[0mprint\u001b[0m\u001b[0;34m(\u001b[0m\u001b[0;34m'I have eaten'\u001b[0m\u001b[0;34m+\u001b[0m\u001b[0;36m99\u001b[0m\u001b[0;34m+\u001b[0m\u001b[0;34m'burritos'\u001b[0m\u001b[0;34m)\u001b[0m\u001b[0;34m\u001b[0m\u001b[0;34m\u001b[0m\u001b[0m\n\u001b[0m",
            "\u001b[0;31mTypeError\u001b[0m: can only concatenate str (not \"int\") to str"
          ]
        }
      ]
    },
    {
      "cell_type": "code",
      "source": [
        "#so convert the 99 to string\n",
        "print('I have eaten '+str(99)+' burritos')"
      ],
      "metadata": {
        "colab": {
          "base_uri": "https://localhost:8080/"
        },
        "id": "jQ9Z7Vm2Mj_E",
        "outputId": "319e06fd-a949-4887-94ef-e41f95328251"
      },
      "execution_count": null,
      "outputs": [
        {
          "output_type": "stream",
          "name": "stdout",
          "text": [
            "I have eaten 99 burritos\n"
          ]
        }
      ]
    }
  ]
}