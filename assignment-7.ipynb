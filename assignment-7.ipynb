{
  "nbformat": 4,
  "nbformat_minor": 0,
  "metadata": {
    "colab": {
      "provenance": []
    },
    "kernelspec": {
      "name": "python3",
      "display_name": "Python 3"
    },
    "language_info": {
      "name": "python"
    }
  },
  "cells": [
    {
      "cell_type": "markdown",
      "source": [
        "**Create two int type variables, apply addition, subtraction, division and multiplications**\n",
        "**and store the results in variables. Then print the data in the following format by calling the**\n",
        "**variables:**\n",
        "\n",
        "**First variable is __ & second variable is __.**\n",
        "\n",
        "Addition: __ + __ = __\n",
        "\n",
        "Subtraction: __ - __ = __\n",
        "\n",
        "Multiplication: __ * __ = __\n",
        "\n",
        "Division: __ / __ = __\n"
      ],
      "metadata": {
        "id": "xwZVG3SuS7IK"
      }
    },
    {
      "cell_type": "code",
      "source": [
        "# Creating two int type variables\n",
        "a = int(input())\n",
        "b = int(input())\n",
        "\n",
        "# Applying addition, subtraction, division, and multiplication\n",
        "addition = a + b\n",
        "subtraction = a - b\n",
        "multiplication = a * b\n",
        "division = a / b\n",
        "\n",
        "# Printing the results in the specified format\n",
        "print(f\"First variable is {a} & second variable is {b}.\")\n",
        "print(f\"Addition: {a} + {b} = {addition}\")\n",
        "print(f\"Subtraction: {a} - {b} = {subtraction}\")\n",
        "print(f\"Multiplication: {a} * {b} = {multiplication}\")\n",
        "print(f\"Division: {a} / {b} = {division}\")\n"
      ],
      "metadata": {
        "colab": {
          "base_uri": "https://localhost:8080/"
        },
        "id": "rEcpxl-4TsWP",
        "outputId": "3b68e850-60c1-430b-e741-124ed09d6c08"
      },
      "execution_count": 1,
      "outputs": [
        {
          "output_type": "stream",
          "name": "stdout",
          "text": [
            "8\n",
            "12\n",
            "First variable is 8 & second variable is 12.\n",
            "Addition: 8 + 12 = 20\n",
            "Subtraction: 8 - 12 = -4\n",
            "Multiplication: 8 * 12 = 96\n",
            "Division: 8 / 12 = 0.6666666666666666\n"
          ]
        }
      ]
    },
    {
      "cell_type": "markdown",
      "source": [
        "**What is the difference between the following operators:**\n",
        "\n",
        "(i) ‘/’ & ‘//’\n",
        "\n",
        "(ii) ‘**’ & ‘^’\n",
        "\n",
        "Ans)\n",
        "\n",
        "**/**: This is the standard division operator. When two integers are divided using the / operator, the result is a float, even if the dividend is perfectly divisible by the divisor.\n",
        "\n",
        "**//**: This is the floor division operator. It returns the quotient from the division as an integer, effectively rounding down to the nearest whole number.\n",
        "\n",
        "**: This is the exponentiation operator in Python. It's used to raise the left operand to the power of the right operand.\n",
        "\n",
        "^: This is the bitwise XOR (exclusive or) operator. It's not an exponentiation operator in Python (unlike in some other languages or mathematical notation). The ^ operator compares each bit of the first operand to the corresponding bit of the second operand. If one bit is 0 and the other bit is 1, the corresponding result bit is set to 1. Otherwise, the corresponding result bit is set to 0.\n",
        "\n"
      ],
      "metadata": {
        "id": "COAe7sLdUMzR"
      }
    },
    {
      "cell_type": "code",
      "source": [
        "a= 8 / 4  # result will be 2.0\n",
        "b=8//4#this will always result the integer value\n",
        "c=8**4\n",
        "d=8^4\n",
        "print(a,b,c,d)\n",
        "# Binary representation:\n",
        "# 8 -> 1000\n",
        "# 4 -> 0100\n",
        "# XOR -> 1100 which is 12 in decimal\n",
        "# result will be 12"
      ],
      "metadata": {
        "colab": {
          "base_uri": "https://localhost:8080/"
        },
        "id": "5kl1DxY-UnL8",
        "outputId": "9fb80e6d-062a-4335-b917-b476faac846f"
      },
      "execution_count": 4,
      "outputs": [
        {
          "output_type": "stream",
          "name": "stdout",
          "text": [
            "2.0 2 4096 12\n"
          ]
        }
      ]
    },
    {
      "cell_type": "markdown",
      "source": [
        "**List the logical operators.**\n",
        "\n",
        "Ans)logical operators are used to make decisions based on multiple conditions. Here are the primary logical operators in Python:\n",
        "\n",
        "**and:**\n",
        "\n",
        "Returns True if both the conditions on its left and right are true.\n",
        "\n",
        "**or:**\n",
        "\n",
        "Returns True if at least one of the conditions on its left or right is true.\n",
        "\n",
        "**not:**\n",
        "\n",
        "Returns True if the condition following it is false, and False if the condition is true.\n",
        "It essentially inverts the truth value of the condition it's applied to.\n",
        "\n",
        "These logical operators play a fundamental role in constructing conditional statements and loops in programming.\n",
        "\n",
        "\n",
        "\n",
        "\n"
      ],
      "metadata": {
        "id": "3ZNq2P1BVIhR"
      }
    },
    {
      "cell_type": "code",
      "source": [
        "a=(5 > 3) and (6 > 4)  # Returns True because both conditions are true\n",
        "b=(5 < 3) or (6 > 4)  # Returns True because the second condition is true\n",
        "c=not (5 > 8)  # Returns True because 5 is not greater than 8\n",
        "print(a,b,c,sep=\"/\")"
      ],
      "metadata": {
        "colab": {
          "base_uri": "https://localhost:8080/"
        },
        "id": "PfeW4M74Vgcj",
        "outputId": "39bbf582-e2ee-42b0-901e-110db8f3918b"
      },
      "execution_count": 6,
      "outputs": [
        {
          "output_type": "stream",
          "name": "stdout",
          "text": [
            "True/True/True\n"
          ]
        }
      ]
    },
    {
      "cell_type": "markdown",
      "source": [
        "**Explain right shift operator and left shift operator with examples.**\n",
        "\n",
        "Ans)In computing, right shift (>>) and left shift (<<) are bitwise operators that operate on the binary representation of numbers.\n",
        "\n",
        "**Left Shift Operator (<<):**\n",
        "\n",
        "The left shift operator (<<) shifts the bits of the number to the left and fills the rightmost bits with zeros.\n",
        "\n",
        "Syntax: x << y\n",
        "\n",
        "This means the bits in x are shifted to the left by y positions.\n",
        "\n",
        "shortcut:a<<b = (a*pow(2,b))\n",
        "\n",
        "**Right Shift Operator (>>):**\n",
        "\n",
        "The right shift operator (>>) shifts the bits of the number to the right and fills the leftmost bits based on the sign bit of the original number: 0 for positive numbers and 1 for negative numbers (in the case of signed binary representations, like two's complement).\n",
        "\n",
        "Syntax: x >> y\n",
        "\n",
        "This means the bits in x are shifted to the right by y positions.\n",
        "\n",
        "shortcut:a>>b = (a//(2**b))"
      ],
      "metadata": {
        "id": "ACVjnl3uVwkR"
      }
    },
    {
      "cell_type": "code",
      "source": [
        "a=5<<1\n",
        "b=5>>1\n",
        "print(a,b)"
      ],
      "metadata": {
        "colab": {
          "base_uri": "https://localhost:8080/"
        },
        "id": "adrs3FbqWmE5",
        "outputId": "c3d82a6c-2ff3-4fcd-ea6c-6fc82a285c5b"
      },
      "execution_count": 8,
      "outputs": [
        {
          "output_type": "stream",
          "name": "stdout",
          "text": [
            "10 2\n"
          ]
        }
      ]
    },
    {
      "cell_type": "markdown",
      "source": [
        "**Create a list containing int type data of length 15. Then write a code to check if 10 is present in the list or not.**"
      ],
      "metadata": {
        "id": "NHKi5ZosWxbX"
      }
    },
    {
      "cell_type": "code",
      "source": [
        "# Creating a list of 15 integer values\n",
        "my_list = [1, 2, 5, 7, 9, 10, 13, 15, 17, 19, 21, 23, 25, 27, 29]\n",
        "\n",
        "# Checking if 10 is present in the list\n",
        "if 10 in my_list:\n",
        "    print(\"10 is present in the list.\")\n",
        "else:\n",
        "    print(\"10 is not present in the list.\")\n"
      ],
      "metadata": {
        "colab": {
          "base_uri": "https://localhost:8080/"
        },
        "id": "uzvleAogW14M",
        "outputId": "6dc90de7-b075-4bf6-a456-4e4d17720333"
      },
      "execution_count": 11,
      "outputs": [
        {
          "output_type": "stream",
          "name": "stdout",
          "text": [
            "10 is present in the list.\n"
          ]
        }
      ]
    }
  ]
}